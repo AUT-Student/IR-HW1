{
  "nbformat": 4,
  "nbformat_minor": 0,
  "metadata": {
    "colab": {
      "provenance": [],
      "authorship_tag": "ABX9TyMfrCCPC7MHBsgDG3YZuSGX",
      "include_colab_link": true
    },
    "kernelspec": {
      "name": "python3",
      "display_name": "Python 3"
    },
    "language_info": {
      "name": "python"
    }
  },
  "cells": [
    {
      "cell_type": "markdown",
      "metadata": {
        "id": "view-in-github",
        "colab_type": "text"
      },
      "source": [
        "<a href=\"https://colab.research.google.com/github/AUT-Student/IR-HW1/blob/main/IR_HW1.ipynb\" target=\"_parent\"><img src=\"https://colab.research.google.com/assets/colab-badge.svg\" alt=\"Open In Colab\"/></a>"
      ]
    },
    {
      "cell_type": "code",
      "execution_count": null,
      "metadata": {
        "colab": {
          "base_uri": "https://localhost:8080/"
        },
        "id": "FY2vb3l7adW2",
        "outputId": "ee345b9b-ee63-47de-a6d3-36b374dd0fb2"
      },
      "outputs": [
        {
          "output_type": "stream",
          "name": "stdout",
          "text": [
            "Downloading...\n",
            "From: https://drive.google.com/uc?id=1uJYlPDV4-V-hHQSIhlq1ruKBL6SR96Te\n",
            "To: /content/IR_HW1_dataset.zip\n",
            "\r  0% 0.00/1.76M [00:00<?, ?B/s]\r100% 1.76M/1.76M [00:00<00:00, 154MB/s]\n"
          ]
        }
      ],
      "source": [
        "!gdown 1uJYlPDV4-V-hHQSIhlq1ruKBL6SR96Te"
      ]
    },
    {
      "cell_type": "code",
      "source": [
        "!unzip /content/IR_HW1_dataset.zip"
      ],
      "metadata": {
        "colab": {
          "base_uri": "https://localhost:8080/"
        },
        "id": "imOq1AHMeims",
        "outputId": "a24c13fc-00f9-4abf-d466-0612b182cc86"
      },
      "execution_count": null,
      "outputs": [
        {
          "output_type": "stream",
          "name": "stdout",
          "text": [
            "Archive:  /content/IR_HW1_dataset.zip\n",
            "   creating: Data/\n",
            "  inflating: Data/test_data.csv      \n",
            "  inflating: Data/train_data.csv     \n",
            "  inflating: Data/valid_data.csv     \n"
          ]
        }
      ]
    },
    {
      "cell_type": "code",
      "source": [
        "import pandas as pd"
      ],
      "metadata": {
        "id": "V5N1rFU2t4Yt"
      },
      "execution_count": null,
      "outputs": []
    },
    {
      "cell_type": "code",
      "source": [
        "train_dataset = pd.read_csv(\"/content/Data/train_data.csv\")\n",
        "valid_dataset = pd.read_csv(\"/content/Data/valid_data.csv\")\n",
        "test_dataset  = pd.read_csv(\"/content/Data/test_data.csv\")"
      ],
      "metadata": {
        "id": "4hLBBW2LezNs"
      },
      "execution_count": 47,
      "outputs": []
    },
    {
      "cell_type": "code",
      "source": [
        "import string\n",
        "def remove_punctuation(text):\n",
        "  output = \"\"\n",
        "  for char in text:\n",
        "    if char not in string.punctuation:\n",
        "      output += char\n",
        "  return output"
      ],
      "metadata": {
        "id": "VXaayaVTud7O"
      },
      "execution_count": 48,
      "outputs": []
    },
    {
      "cell_type": "code",
      "source": [
        "def make_lower_case(text):\n",
        "  return text.lower()"
      ],
      "metadata": {
        "id": "1xWU_eZEvxlU"
      },
      "execution_count": 49,
      "outputs": []
    },
    {
      "cell_type": "code",
      "source": [
        "def preprocess(text):\n",
        "  text = remove_punctuation(text)\n",
        "  text = make_lower_case(text)\n",
        "  return text"
      ],
      "metadata": {
        "id": "WFWmh8tAvMUB"
      },
      "execution_count": 50,
      "outputs": []
    },
    {
      "cell_type": "code",
      "source": [
        "df_dictionary = dict()\n",
        "for i, data in train_dataset.iterrows():\n",
        "  question1_text = preprocess(data[\"question1\"])\n",
        "  question2_text = preprocess(data[\"question2\"])\n",
        "  doc_text = question1_text + \" \" + question2_text\n",
        "  tokens = set(doc_text.split())\n",
        "\n",
        "  for token in tokens:\n",
        "    if token not in df_dictionary:\n",
        "      df_dictionary[token] = 0\n",
        "    \n",
        "    df_dictionary[token] += 1"
      ],
      "metadata": {
        "id": "JRUkZwWRfHxf"
      },
      "execution_count": 57,
      "outputs": []
    },
    {
      "cell_type": "code",
      "source": [
        "df_list = []\n",
        "\n",
        "for word in df_dictionary:\n",
        "  df_list.append({\"word\": word, \"df\": df_dictionary[word]})\n",
        "\n",
        "df_list = sorted(df_list, key=lambda x:-x[\"df\"])"
      ],
      "metadata": {
        "id": "CiS9VxaBuA2N"
      },
      "execution_count": 58,
      "outputs": []
    },
    {
      "cell_type": "code",
      "source": [
        "stop_words = [item[\"word\"] for item in df_list[:100]]"
      ],
      "metadata": {
        "id": "ujvXw-dixfM9"
      },
      "execution_count": 63,
      "outputs": []
    },
    {
      "cell_type": "code",
      "source": [
        "top_words = set([item[\"word\"] for item in df_list[100:2100]])"
      ],
      "metadata": {
        "id": "EV8iHh8ZxuFN"
      },
      "execution_count": 64,
      "outputs": []
    },
    {
      "cell_type": "code",
      "source": [],
      "metadata": {
        "id": "-wInvCL-KK4A"
      },
      "execution_count": null,
      "outputs": []
    }
  ]
}