{
  "nbformat": 4,
  "nbformat_minor": 0,
  "metadata": {
    "colab": {
      "provenance": [],
      "toc_visible": true,
      "authorship_tag": "ABX9TyMN3nOO3TvGLWBK3wMO3wYg",
      "include_colab_link": true
    },
    "kernelspec": {
      "name": "python3",
      "display_name": "Python 3"
    },
    "language_info": {
      "name": "python"
    }
  },
  "cells": [
    {
      "cell_type": "markdown",
      "metadata": {
        "id": "view-in-github",
        "colab_type": "text"
      },
      "source": [
        "<a href=\"https://colab.research.google.com/github/AUT-Student/IR-HW1/blob/main/IR_HW1.ipynb\" target=\"_parent\"><img src=\"https://colab.research.google.com/assets/colab-badge.svg\" alt=\"Open In Colab\"/></a>"
      ]
    },
    {
      "cell_type": "markdown",
      "source": [
        "# Dataset"
      ],
      "metadata": {
        "id": "LuQj9drya-L5"
      }
    },
    {
      "cell_type": "code",
      "execution_count": 1,
      "metadata": {
        "colab": {
          "base_uri": "https://localhost:8080/"
        },
        "id": "FY2vb3l7adW2",
        "outputId": "30cc8d37-cd6e-4e2b-95ea-5eacf5db134b"
      },
      "outputs": [
        {
          "output_type": "stream",
          "name": "stdout",
          "text": [
            "Downloading...\n",
            "From: https://drive.google.com/uc?id=1uJYlPDV4-V-hHQSIhlq1ruKBL6SR96Te\n",
            "To: /content/IR_HW1_dataset.zip\n",
            "\r  0% 0.00/1.76M [00:00<?, ?B/s]\r100% 1.76M/1.76M [00:00<00:00, 139MB/s]\n"
          ]
        }
      ],
      "source": [
        "!gdown 1uJYlPDV4-V-hHQSIhlq1ruKBL6SR96Te"
      ]
    },
    {
      "cell_type": "code",
      "source": [
        "!unzip /content/IR_HW1_dataset.zip"
      ],
      "metadata": {
        "colab": {
          "base_uri": "https://localhost:8080/"
        },
        "id": "imOq1AHMeims",
        "outputId": "23ab3597-afec-4e95-802f-0dba13df3be3"
      },
      "execution_count": 2,
      "outputs": [
        {
          "output_type": "stream",
          "name": "stdout",
          "text": [
            "Archive:  /content/IR_HW1_dataset.zip\n",
            "   creating: Data/\n",
            "  inflating: Data/test_data.csv      \n",
            "  inflating: Data/train_data.csv     \n",
            "  inflating: Data/valid_data.csv     \n"
          ]
        }
      ]
    },
    {
      "cell_type": "code",
      "source": [
        "import pandas as pd\n",
        "import numpy as np\n",
        "import math"
      ],
      "metadata": {
        "id": "V5N1rFU2t4Yt"
      },
      "execution_count": 3,
      "outputs": []
    },
    {
      "cell_type": "code",
      "source": [
        "train_dataset = pd.read_csv(\"/content/Data/train_data.csv\")\n",
        "valid_dataset = pd.read_csv(\"/content/Data/valid_data.csv\")\n",
        "test_dataset  = pd.read_csv(\"/content/Data/test_data.csv\")"
      ],
      "metadata": {
        "id": "4hLBBW2LezNs"
      },
      "execution_count": 4,
      "outputs": []
    },
    {
      "cell_type": "markdown",
      "source": [
        "# Preprocessing"
      ],
      "metadata": {
        "id": "2_72utWnbAGQ"
      }
    },
    {
      "cell_type": "code",
      "source": [
        "import string\n",
        "def remove_punctuation(text):\n",
        "  output = \"\"\n",
        "  for char in text:\n",
        "    if char not in string.punctuation:\n",
        "      output += char\n",
        "  return output"
      ],
      "metadata": {
        "id": "VXaayaVTud7O"
      },
      "execution_count": 5,
      "outputs": []
    },
    {
      "cell_type": "code",
      "source": [
        "def make_lower_case(text):\n",
        "  return text.lower()"
      ],
      "metadata": {
        "id": "1xWU_eZEvxlU"
      },
      "execution_count": 6,
      "outputs": []
    },
    {
      "cell_type": "code",
      "source": [
        "def preprocess(text):\n",
        "  text = remove_punctuation(text)\n",
        "  text = make_lower_case(text)\n",
        "  return text"
      ],
      "metadata": {
        "id": "WFWmh8tAvMUB"
      },
      "execution_count": 7,
      "outputs": []
    },
    {
      "cell_type": "markdown",
      "source": [
        "# TF-IDF"
      ],
      "metadata": {
        "id": "EEtkjeMFbCBQ"
      }
    },
    {
      "cell_type": "code",
      "source": [
        "class TFIDF():\n",
        "  def __init__(self, top_word_number, stop_word_number, preprocess):\n",
        "    self.df_dictionary = dict()\n",
        "    self.top_words = None\n",
        "    self.document_number= None\n",
        "    self.top_word_number = top_word_number\n",
        "    self.stop_word_number = stop_word_number\n",
        "    self.preprocess = preprocess \n",
        "\n",
        "  def process_corpus(self, dataset):\n",
        "    self.document_number = len(dataset)\n",
        "    self._calculate_df(dataset)\n",
        "    self._select_top_words()\n",
        "    self._calculate_idf()\n",
        "\n",
        "  def _calculate_df(self, dataset):\n",
        "    for data in dataset:\n",
        "      text = self.preprocess(data)\n",
        "      tokens = set(text.split())\n",
        "\n",
        "      for token in tokens:\n",
        "        if token not in self.df_dictionary:\n",
        "          self.df_dictionary[token] = 0\n",
        "        \n",
        "        self.df_dictionary[token] += 1\n",
        "\n",
        "  def _select_top_words(self):\n",
        "    df_list = []\n",
        "\n",
        "    for word in self.df_dictionary:\n",
        "      df_list.append({\"word\": word, \"df\": self.df_dictionary[word]})\n",
        "\n",
        "    df_list = sorted(df_list, key=lambda x:-x[\"df\"])\n",
        "\n",
        "    stop_words = set([item[\"word\"] for item in df_list[:self.stop_word_number]])\n",
        "\n",
        "    self.top_words = set([item[\"word\"] for item in df_list[self.stop_word_number:self.stop_word_number + self.top_word_number]])\n",
        "  \n",
        "  def _calculate_idf(self):\n",
        "    self.idf_dictionary = dict()\n",
        "\n",
        "    for word in self.top_words:\n",
        "      self.idf_dictionary[word] = math.log10(self.document_number / self.df_dictionary[word])\n",
        "\n",
        "    self.word_id_dictionary = dict()\n",
        "\n",
        "    for i, word in enumerate(self.top_words):\n",
        "      self.word_id_dictionary[word] = i\n",
        "\n",
        "  def vector(self, text):\n",
        "    text = self.preprocess(text)\n",
        "    words = text.split()\n",
        "\n",
        "    tfidf_vector = np.zeros(self.top_word_number)\n",
        "\n",
        "    tf_dictionary = dict()\n",
        "\n",
        "    for word in words:\n",
        "      if word not in self.top_words: continue\n",
        "      if word not in tf_dictionary:\n",
        "        tf_dictionary[word] = 0\n",
        "      \n",
        "      tf_dictionary[word] += 1\n",
        "    \n",
        "    for word in tf_dictionary:\n",
        "      tf = 1 + math.log10(tf_dictionary[word])\n",
        "      wid = self.word_id_dictionary[word]\n",
        "      idf = self.idf_dictionary[word]\n",
        "\n",
        "      tfidf_vector[wid] = tf * idf\n",
        "\n",
        "    return tfidf_vector"
      ],
      "metadata": {
        "id": "MwAPWSS5UeO5"
      },
      "execution_count": 8,
      "outputs": []
    },
    {
      "cell_type": "code",
      "source": [
        "train_dataset_text = []\n",
        "for i, data in train_dataset.iterrows():\n",
        "  train_dataset_text.append(data[\"question1\"] + \" \" + data[\"question2\"])"
      ],
      "metadata": {
        "id": "fEPzlrvjZV4s"
      },
      "execution_count": 9,
      "outputs": []
    },
    {
      "cell_type": "code",
      "source": [
        "tfidf = TFIDF(top_word_number=2000, stop_word_number=100, preprocess=preprocess)"
      ],
      "metadata": {
        "id": "CAd9wH6cZq9z"
      },
      "execution_count": 10,
      "outputs": []
    },
    {
      "cell_type": "code",
      "source": [
        "tfidf.process_corpus(train_dataset_text)"
      ],
      "metadata": {
        "id": "ijqqx3h2aFNq"
      },
      "execution_count": 11,
      "outputs": []
    },
    {
      "cell_type": "code",
      "source": [
        "from heapq import nlargest\n",
        "\n",
        "class TFIDFRecommender():\n",
        "  def __init__(self, tfidf, number_recommendation):\n",
        "    self.tfidf = tfidf\n",
        "    self.search_space = None\n",
        "    self.number_recommendation = number_recommendation\n",
        "\n",
        "  def create_search_space(self, dataset):\n",
        "    self.search_space = list()\n",
        "    for data in dataset:\n",
        "      qid = data[\"qid\"]\n",
        "      text = data[\"text\"]\n",
        "      tfidf_vector = self.tfidf.vector(text)\n",
        "\n",
        "      self.search_space.append({\"vector\": tfidf_vector, \"qid\": qid, \"text\":text})\n",
        "\n",
        "  def recommend(self, text):\n",
        "    input_vector = self.tfidf.vector(text)\n",
        "  \n",
        "    similar_item_list = list()\n",
        "\n",
        "    for item in self.search_space:\n",
        "      similarity = self.cosine_similarity(input_vector, item[\"vector\"])\n",
        "      \n",
        "      similar_item_list.append({\"similarity\": similarity, \"qid\": item[\"qid\"], \"text\":item[\"text\"]})\n",
        "\n",
        "    return nlargest(self.number_recommendation, similar_item_list, key=lambda x:x[\"similarity\"])\n",
        "\n",
        "  @staticmethod\n",
        "  def cosine_similarity(vector1, vector2):\n",
        "    return np.dot(vector1, vector2) / (np.linalg.norm(vector1) * np.linalg.norm(vector2))"
      ],
      "metadata": {
        "id": "Q0iEmauEbi5P"
      },
      "execution_count": 32,
      "outputs": []
    },
    {
      "cell_type": "code",
      "source": [
        "tfidf_recommender = TFIDFRecommender(tfidf=tfidf, number_recommendation=10)"
      ],
      "metadata": {
        "id": "0hZkq2F_dKux"
      },
      "execution_count": 33,
      "outputs": []
    },
    {
      "cell_type": "code",
      "source": [
        "train_dataset_text = []\n",
        "for i, data in train_dataset.iterrows():\n",
        "  train_dataset_text.append({\"qid\": data[\"qid2\"], \"text\": data[\"question2\"]})\n",
        "\n",
        "tfidf_recommender.create_search_space(train_dataset_text)"
      ],
      "metadata": {
        "id": "AJx41IyuW1yp"
      },
      "execution_count": 34,
      "outputs": []
    },
    {
      "cell_type": "code",
      "source": [
        "train_dataset.iloc[100][\"question1\"]"
      ],
      "metadata": {
        "colab": {
          "base_uri": "https://localhost:8080/",
          "height": 35
        },
        "id": "iv7ttM7EXybv",
        "outputId": "495ca30a-e08c-4f16-b82c-54b267a9484e"
      },
      "execution_count": 37,
      "outputs": [
        {
          "output_type": "execute_result",
          "data": {
            "text/plain": [
              "'Where can I get fantastic value in Sydney for floor tiles?'"
            ],
            "application/vnd.google.colaboratory.intrinsic+json": {
              "type": "string"
            }
          },
          "metadata": {},
          "execution_count": 37
        }
      ]
    },
    {
      "cell_type": "code",
      "source": [
        "tfidf_recommender.recommend(train_dataset.iloc[100][\"question1\"])"
      ],
      "metadata": {
        "colab": {
          "base_uri": "https://localhost:8080/"
        },
        "id": "l3NmGqnAW90o",
        "outputId": "826c4d3c-4a7b-402c-bd41-4f2c5451e6ff"
      },
      "execution_count": 38,
      "outputs": [
        {
          "output_type": "stream",
          "name": "stderr",
          "text": [
            "/usr/local/lib/python3.7/dist-packages/ipykernel_launcher.py:32: RuntimeWarning: invalid value encountered in double_scalars\n"
          ]
        },
        {
          "output_type": "execute_result",
          "data": {
            "text/plain": [
              "[{'similarity': 0.7063560652001621,\n",
              "  'qid': 50821,\n",
              "  'text': 'Where can I get affordable package in Sydney for floor tiles?'},\n",
              " {'similarity': 0.6876236091636733,\n",
              "  'qid': 79955,\n",
              "  'text': 'Where can I get huge selection of floor tiles in Sydney?'},\n",
              " {'similarity': 0.6876236091636733,\n",
              "  'qid': 79955,\n",
              "  'text': 'Where can I get huge selection of floor tiles in Sydney?'},\n",
              " {'similarity': 0.6876236091636733,\n",
              "  'qid': 79955,\n",
              "  'text': 'Where can I get huge selection of floor tiles in Sydney?'},\n",
              " {'similarity': 0.6876236091636733,\n",
              "  'qid': 79955,\n",
              "  'text': 'Where can I get huge selection of floor tiles in Sydney?'},\n",
              " {'similarity': 0.6876236091636733,\n",
              "  'qid': 79955,\n",
              "  'text': 'Where can I get huge selection of floor tiles in Sydney?'},\n",
              " {'similarity': 0.6876236091636733,\n",
              "  'qid': 79955,\n",
              "  'text': 'Where can I get huge selection of floor tiles in Sydney?'},\n",
              " {'similarity': 0.6876236091636733,\n",
              "  'qid': 79955,\n",
              "  'text': 'Where can I get huge selection of floor tiles in Sydney?'},\n",
              " {'similarity': 0.6876236091636733,\n",
              "  'qid': 79955,\n",
              "  'text': 'Where can I get huge selection of floor tiles in Sydney?'},\n",
              " {'similarity': 0.673529060260437,\n",
              "  'qid': 12508,\n",
              "  'text': 'Where can I get best qualities outdoor tiles in Sydney?'}]"
            ]
          },
          "metadata": {},
          "execution_count": 38
        }
      ]
    },
    {
      "cell_type": "code",
      "source": [],
      "metadata": {
        "id": "9LEZifXBXdvI"
      },
      "execution_count": null,
      "outputs": []
    }
  ]
}