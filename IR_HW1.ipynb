{
  "cells": [
    {
      "cell_type": "markdown",
      "metadata": {
        "id": "view-in-github",
        "colab_type": "text"
      },
      "source": [
        "<a href=\"https://colab.research.google.com/github/AUT-Student/IR-HW1/blob/main/IR_HW1.ipynb\" target=\"_parent\"><img src=\"https://colab.research.google.com/assets/colab-badge.svg\" alt=\"Open In Colab\"/></a>"
      ]
    },
    {
      "cell_type": "markdown",
      "metadata": {
        "id": "LuQj9drya-L5"
      },
      "source": [
        "# Dataset"
      ]
    },
    {
      "cell_type": "code",
      "execution_count": null,
      "metadata": {
        "colab": {
          "base_uri": "https://localhost:8080/"
        },
        "id": "FY2vb3l7adW2",
        "outputId": "c6b5dbfe-bcbe-4842-9e6f-a2de90d541b4"
      },
      "outputs": [
        {
          "name": "stdout",
          "output_type": "stream",
          "text": [
            "Downloading...\n",
            "From: https://drive.google.com/uc?id=1uJYlPDV4-V-hHQSIhlq1ruKBL6SR96Te\n",
            "To: /content/IR_HW1_dataset.zip\n",
            "\r  0% 0.00/1.76M [00:00<?, ?B/s]\r100% 1.76M/1.76M [00:00<00:00, 143MB/s]\n",
            "Archive:  /content/IR_HW1_dataset.zip\n",
            "   creating: Data/\n",
            "  inflating: Data/test_data.csv      \n",
            "  inflating: Data/train_data.csv     \n",
            "  inflating: Data/valid_data.csv     \n"
          ]
        }
      ],
      "source": [
        "!gdown 1uJYlPDV4-V-hHQSIhlq1ruKBL6SR96Te\n",
        "!unzip /content/IR_HW1_dataset.zip"
      ]
    },
    {
      "cell_type": "code",
      "execution_count": null,
      "metadata": {
        "id": "V5N1rFU2t4Yt"
      },
      "outputs": [],
      "source": [
        "import pandas as pd\n",
        "import numpy as np\n",
        "import math"
      ]
    },
    {
      "cell_type": "code",
      "execution_count": null,
      "metadata": {
        "id": "4hLBBW2LezNs"
      },
      "outputs": [],
      "source": [
        "train_dataset = pd.read_csv(\"/content/Data/train_data.csv\")\n",
        "valid_dataset = pd.read_csv(\"/content/Data/valid_data.csv\")\n",
        "test_dataset  = pd.read_csv(\"/content/Data/test_data.csv\")"
      ]
    },
    {
      "cell_type": "markdown",
      "metadata": {
        "id": "2_72utWnbAGQ"
      },
      "source": [
        "# Preprocessing"
      ]
    },
    {
      "cell_type": "code",
      "execution_count": null,
      "metadata": {
        "id": "VXaayaVTud7O"
      },
      "outputs": [],
      "source": [
        "import string\n",
        "def remove_punctuation(text):\n",
        "  output = \"\"\n",
        "  for char in text:\n",
        "    if char not in string.punctuation:\n",
        "      output += char\n",
        "  return output"
      ]
    },
    {
      "cell_type": "code",
      "execution_count": null,
      "metadata": {
        "id": "1xWU_eZEvxlU"
      },
      "outputs": [],
      "source": [
        "def make_lower_case(text):\n",
        "  return text.lower()"
      ]
    },
    {
      "cell_type": "code",
      "execution_count": null,
      "metadata": {
        "id": "WFWmh8tAvMUB"
      },
      "outputs": [],
      "source": [
        "def preprocess(text):\n",
        "  text = remove_punctuation(text)\n",
        "  text = make_lower_case(text)\n",
        "  return text"
      ]
    },
    {
      "cell_type": "markdown",
      "metadata": {
        "id": "EEtkjeMFbCBQ"
      },
      "source": [
        "# TF-IDF"
      ]
    },
    {
      "cell_type": "code",
      "execution_count": null,
      "metadata": {
        "id": "MwAPWSS5UeO5"
      },
      "outputs": [],
      "source": [
        "class TFIDF():\n",
        "  def __init__(self, top_word_number, stop_word_number, preprocess):\n",
        "    self.df_dictionary = dict()\n",
        "    self.top_words = None\n",
        "    self.document_number= None\n",
        "    self.top_word_number = top_word_number\n",
        "    self.stop_word_number = stop_word_number\n",
        "    self.preprocess = preprocess \n",
        "\n",
        "  def process_corpus(self, dataset):\n",
        "    self.document_number = len(dataset)\n",
        "    self._calculate_df(dataset)\n",
        "    self._select_top_words()\n",
        "    self._calculate_idf()\n",
        "\n",
        "  def _calculate_df(self, dataset):\n",
        "    for data in dataset:\n",
        "      text = self.preprocess(data)\n",
        "      tokens = set(text.split())\n",
        "\n",
        "      for token in tokens:\n",
        "        if token not in self.df_dictionary:\n",
        "          self.df_dictionary[token] = 0\n",
        "        \n",
        "        self.df_dictionary[token] += 1\n",
        "\n",
        "  def _select_top_words(self):\n",
        "    df_list = []\n",
        "\n",
        "    for word in self.df_dictionary:\n",
        "      df_list.append({\"word\": word, \"df\": self.df_dictionary[word]})\n",
        "\n",
        "    df_list = sorted(df_list, key=lambda x:-x[\"df\"])\n",
        "\n",
        "    stop_words = set([item[\"word\"] for item in df_list[:self.stop_word_number]])\n",
        "\n",
        "    self.top_words = set([item[\"word\"] for item in df_list[self.stop_word_number:self.stop_word_number + self.top_word_number]])\n",
        "  \n",
        "  def _calculate_idf(self):\n",
        "    self.idf_dictionary = dict()\n",
        "\n",
        "    for word in self.top_words:\n",
        "      self.idf_dictionary[word] = math.log10(self.document_number / self.df_dictionary[word])\n",
        "\n",
        "    self.word_id_dictionary = dict()\n",
        "\n",
        "    for i, word in enumerate(self.top_words):\n",
        "      self.word_id_dictionary[word] = i\n",
        "\n",
        "  def vector(self, text):\n",
        "    text = self.preprocess(text)\n",
        "    words = text.split()\n",
        "\n",
        "    tfidf_vector = np.zeros(self.top_word_number)\n",
        "\n",
        "    tf_dictionary = dict()\n",
        "\n",
        "    for word in words:\n",
        "      if word not in self.top_words: continue\n",
        "      if word not in tf_dictionary:\n",
        "        tf_dictionary[word] = 0\n",
        "      \n",
        "      tf_dictionary[word] += 1\n",
        "    \n",
        "    for word in tf_dictionary:\n",
        "      tf = 1 + math.log10(tf_dictionary[word])\n",
        "      wid = self.word_id_dictionary[word]\n",
        "      idf = self.idf_dictionary[word]\n",
        "\n",
        "      tfidf_vector[wid] = tf * idf\n",
        "\n",
        "    return tfidf_vector"
      ]
    },
    {
      "cell_type": "code",
      "execution_count": null,
      "metadata": {
        "id": "Q0iEmauEbi5P"
      },
      "outputs": [],
      "source": [
        "from heapq import nlargest\n",
        "\n",
        "class TFIDFRecommender():\n",
        "  def __init__(self, tfidf, number_recommendation):\n",
        "    self.tfidf = tfidf\n",
        "    self.search_space = None\n",
        "    self.number_recommendation = number_recommendation\n",
        "\n",
        "  def create_search_space(self, dataset):\n",
        "    self.search_space = list()\n",
        "    qid_set = set()\n",
        "    for data in dataset:\n",
        "      qid = data[\"qid\"]\n",
        "      text = data[\"text\"]\n",
        "      tfidf_vector = self.tfidf.vector(text)\n",
        "\n",
        "      if qid not in qid_set:\n",
        "        qid_set.add(qid)\n",
        "        self.search_space.append({\"vector\": tfidf_vector, \"qid\": qid, \"text\":text})\n",
        "\n",
        "  def recommend(self, text):\n",
        "    input_vector = self.tfidf.vector(text)\n",
        "  \n",
        "    similar_document_list = list()\n",
        "\n",
        "    for document in self.search_space:\n",
        "      similarity = self.cosine_similarity(input_vector, document[\"vector\"])\n",
        "      \n",
        "      similar_document_list.append({\"similarity\": similarity, \"qid\": document[\"qid\"], \"text\":document[\"text\"]})\n",
        "\n",
        "    return nlargest(self.number_recommendation, similar_document_list, key=lambda x:x[\"similarity\"])\n",
        "\n",
        "  @staticmethod\n",
        "  def cosine_similarity(vector1, vector2):\n",
        "    return np.dot(vector1, vector2) / (np.linalg.norm(vector1) * np.linalg.norm(vector2))"
      ]
    },
    {
      "cell_type": "code",
      "execution_count": null,
      "metadata": {
        "id": "fEPzlrvjZV4s"
      },
      "outputs": [],
      "source": [
        "train_dataset_text = []\n",
        "for i, data in train_dataset.iterrows():\n",
        "  train_dataset_text.append(data[\"question1\"] + \" \" + data[\"question2\"])"
      ]
    },
    {
      "cell_type": "code",
      "execution_count": null,
      "metadata": {
        "id": "CAd9wH6cZq9z"
      },
      "outputs": [],
      "source": [
        "tfidf = TFIDF(top_word_number=2000, stop_word_number=100, preprocess=preprocess)"
      ]
    },
    {
      "cell_type": "code",
      "execution_count": null,
      "metadata": {
        "id": "ijqqx3h2aFNq"
      },
      "outputs": [],
      "source": [
        "tfidf.process_corpus(train_dataset_text)"
      ]
    },
    {
      "cell_type": "code",
      "execution_count": null,
      "metadata": {
        "id": "0hZkq2F_dKux"
      },
      "outputs": [],
      "source": [
        "tfidf_recommender = TFIDFRecommender(tfidf=tfidf, number_recommendation=10)"
      ]
    },
    {
      "cell_type": "code",
      "execution_count": null,
      "metadata": {
        "id": "AJx41IyuW1yp"
      },
      "outputs": [],
      "source": [
        "train_dataset_tfidf = []\n",
        "for i, data in train_dataset.iterrows():\n",
        "  train_dataset_tfidf.append({\"qid\": data[\"qid2\"], \"text\": data[\"question2\"]})\n",
        "\n",
        "tfidf_recommender.create_search_space(train_dataset_tfidf)"
      ]
    },
    {
      "cell_type": "markdown",
      "metadata": {
        "id": "NIyzTSW7_NQe"
      },
      "source": [
        "# N-gram"
      ]
    },
    {
      "cell_type": "code",
      "execution_count": 46,
      "metadata": {
        "id": "HwQWfd3o_PV_"
      },
      "outputs": [],
      "source": [
        "class UnigramRecommender():\n",
        "  def __init__(self, preprocess, number_recommendation, mu=None):\n",
        "    self.preprocess = preprocess\n",
        "    self.search_space = None\n",
        "    self.number_recommendation = number_recommendation\n",
        "    self.number_tokens = None\n",
        "    self.fixed_mu = mu\n",
        "\n",
        "  def calculate_statistics(self, dataset):\n",
        "    self.cf_dictionary = dict()\n",
        "    self.search_space = list()\n",
        "\n",
        "    self.number_tokens = 0\n",
        "\n",
        "    for data in dataset:\n",
        "      data_tf_dictionary = dict()\n",
        "      text = data[\"text\"]\n",
        "      qid = data[\"qid\"]\n",
        "      text = self.preprocess(text)\n",
        "      tokens = text.split()\n",
        "\n",
        "      for token in tokens:\n",
        "        self.number_tokens += 1\n",
        "\n",
        "        if token not in self.cf_dictionary:\n",
        "          self.cf_dictionary[token] = 0\n",
        "        self.cf_dictionary[token] += 1\n",
        "\n",
        "        if token not in data_tf_dictionary:\n",
        "          data_tf_dictionary[token] = 0\n",
        "        data_tf_dictionary[token] += 1\n",
        "\n",
        "      self.search_space.append({\"tf_dictionary\": data_tf_dictionary,\n",
        "                                \"length\":len(tokens), \"qid\": qid, \"text\":text})\n",
        "\n",
        "  def probability(self, document, word, mu):\n",
        "    return (document[\"tf_dictionary\"].get(word, 0) \\\n",
        "            + mu * self.cf_dictionary.get(word, 1) / self.number_tokens)\\\n",
        "           /(document[\"length\"] + mu)\n",
        "\n",
        "  def recommend(self, text, mu=None):\n",
        "    if mu is None:\n",
        "      mu = self.fixed_mu\n",
        "\n",
        "    tokens = text.split()\n",
        "    similar_document_list = list()\n",
        "\n",
        "    for document in self.search_space:\n",
        "      document_probability = 0\n",
        "\n",
        "      for token in tokens:\n",
        "        document_probability += math.log(self.probability(document=document,\n",
        "                                         word=token, mu=mu))\n",
        "\n",
        "      similar_document_list.append({\"similarity\": document_probability,\n",
        "                                    \"qid\": document[\"qid\"], \"text\":document[\"text\"]})\n",
        "\n",
        "    return nlargest(self.number_recommendation, similar_document_list, key=lambda x:x[\"similarity\"])"
      ]
    },
    {
      "cell_type": "code",
      "execution_count": 47,
      "metadata": {
        "id": "6PFSls30R1I2"
      },
      "outputs": [],
      "source": [
        "class BigramRecommender():\n",
        "  def __init__(self, preprocess, number_recommendation, mu=None, lambda_=None):\n",
        "    self.preprocess = preprocess\n",
        "    self.search_space = None\n",
        "    self.number_recommendation = number_recommendation\n",
        "    self.number_tokens = None\n",
        "    self.fixed_mu = mu\n",
        "    self.fixed_lambda = lambda_\n",
        "    self.unigram_recommender = UnigramRecommender(preprocess=preprocess,\n",
        "                                                  number_recommendation=number_recommendation,\n",
        "                                                  mu=mu)\n",
        "  \n",
        "  def calculate_statistics(self, dataset):\n",
        "    self.unigram_recommender.calculate_statistics(dataset)\n",
        "\n",
        "    self.search_space = list()\n",
        "\n",
        "    for data in dataset:\n",
        "      data_tf_dictionary = dict()\n",
        "      data_ptf_dictionary = dict()\n",
        "      text = data[\"text\"]\n",
        "      qid = data[\"qid\"]\n",
        "      text = self.preprocess(text)\n",
        "      tokens = text.split()\n",
        "      tokens = [\"START\"] + tokens\n",
        "\n",
        "      for token1, token2 in zip(tokens[:-1], tokens[1:]):\n",
        "        if token2 not in data_tf_dictionary:\n",
        "          data_tf_dictionary[token2] = 0\n",
        "        data_tf_dictionary[token2] += 1\n",
        "\n",
        "        if token2 not in data_ptf_dictionary:\n",
        "          data_ptf_dictionary[token2] = dict()\n",
        "\n",
        "        if token1 not in data_ptf_dictionary[token2]:\n",
        "          data_ptf_dictionary[token2][token1] = 0\n",
        "        \n",
        "        data_ptf_dictionary[token2][token1] += 1\n",
        "\n",
        "      self.search_space.append({\"tf_dictionary\": data_tf_dictionary,\n",
        "                                \"ptf_dictionary\": data_ptf_dictionary,\n",
        "                                \"length\":len(tokens), \"qid\": qid, \"text\":text})\n",
        "\n",
        "\n",
        "  def probability(self, document, word1, word2, mu, lambda_):\n",
        "    unigram_probability = self.unigram_recommender.probability(document=document, word=word2, mu=mu)\n",
        "\n",
        "    if document[\"tf_dictionary\"].get(word1) is None:\n",
        "      bigram_probability = 0\n",
        "    else:\n",
        "      bigram_probability = document[\"ptf_dictionary\"].get(word1).get(word2, 0) / document[\"tf_dictionary\"].get(word1)\n",
        "    \n",
        "    return lambda_ * bigram_probability + (1 - lambda_) * unigram_probability\n",
        "\n",
        "  def recommend(self, text, mu=None, lambda_=None):\n",
        "    if mu is None:\n",
        "      mu = self.fixed_mu\n",
        "\n",
        "    if lambda_ is None:\n",
        "      lambda_ = self.fixed_lambda\n",
        "\n",
        "    tokens = text.split()\n",
        "    tokens = [\"START\"] + tokens\n",
        "\n",
        "    similar_document_list = list()\n",
        "\n",
        "    for document in self.search_space:\n",
        "      document_probability = 0\n",
        "\n",
        "      for token1, token2 in zip(tokens[:-1], tokens[1:]):\n",
        "        document_probability += math.log(self.probability(document=document,\n",
        "                                         word1=token1, word2=token2,\n",
        "                                         mu=mu, lambda_=lambda_))\n",
        "\n",
        "      similar_document_list.append({\"similarity\": document_probability,\n",
        "                                    \"qid\": document[\"qid\"], \"text\":document[\"text\"]})\n",
        "\n",
        "    return nlargest(self.number_recommendation, similar_document_list, key=lambda x:x[\"similarity\"])"
      ]
    },
    {
      "cell_type": "code",
      "execution_count": 49,
      "metadata": {
        "id": "_W4jLEUWKol3"
      },
      "outputs": [],
      "source": [
        "train_dataset_ngram = list()\n",
        "\n",
        "qid_set = set()\n",
        "\n",
        "for i, data in train_dataset.iterrows():\n",
        "  qid = data[\"qid2\"]\n",
        "  if qid not in qid_set:\n",
        "    qid_set.add(qid)\n",
        "    train_dataset_ngram.append({\"text\": data[\"question2\"], \"qid\": qid})"
      ]
    },
    {
      "cell_type": "code",
      "execution_count": 48,
      "metadata": {
        "id": "JEU4uLevKXay"
      },
      "outputs": [],
      "source": [
        "unigram_recommender = UnigramRecommender(preprocess=preprocess, number_recommendation=10)"
      ]
    },
    {
      "cell_type": "code",
      "execution_count": 50,
      "metadata": {
        "id": "-r9KQOpXKjY8"
      },
      "outputs": [],
      "source": [
        "unigram_recommender.calculate_statistics(dataset=train_dataset_ngram)"
      ]
    },
    {
      "cell_type": "code",
      "source": [],
      "metadata": {
        "id": "7cj_gBFmlAOa"
      },
      "execution_count": null,
      "outputs": []
    },
    {
      "cell_type": "code",
      "execution_count": 51,
      "metadata": {
        "id": "oKDcb-RyjCz6"
      },
      "outputs": [],
      "source": [
        "bigram_recommender = BigramRecommender(preprocess=preprocess, number_recommendation=10, mu=0.5, lambda_=0.5)"
      ]
    },
    {
      "cell_type": "code",
      "execution_count": 52,
      "metadata": {
        "id": "OtKkQFYWlHN8"
      },
      "outputs": [],
      "source": [
        "bigram_recommender.calculate_statistics(dataset=train_dataset_ngram)"
      ]
    },
    {
      "cell_type": "code",
      "execution_count": 53,
      "metadata": {
        "colab": {
          "base_uri": "https://localhost:8080/"
        },
        "id": "W8kisXXSliD6",
        "outputId": "b1db9831-2f2d-43ce-e715-11fca4408e25"
      },
      "outputs": [
        {
          "output_type": "execute_result",
          "data": {
            "text/plain": [
              "[{'similarity': -50.09379809933493,\n",
              "  'qid': 444347,\n",
              "  'text': 'what are some psychological hacks for better focus'},\n",
              " {'similarity': -51.24012951991118,\n",
              "  'qid': 302717,\n",
              "  'text': 'what are some psychological hacks that you can do daily'},\n",
              " {'similarity': -52.202185420362255,\n",
              "  'qid': 74355,\n",
              "  'text': 'what are some psychological tricks to stop caring about what people think'},\n",
              " {'similarity': -52.618376516126126,\n",
              "  'qid': 59404,\n",
              "  'text': 'what are some good horror movies'},\n",
              " {'similarity': -52.618376516126126,\n",
              "  'qid': 119683,\n",
              "  'text': 'what are some good short stories'},\n",
              " {'similarity': -52.618376516126126,\n",
              "  'qid': 12346,\n",
              "  'text': 'what are some good anime movies'},\n",
              " {'similarity': -52.618376516126126,\n",
              "  'qid': 170004,\n",
              "  'text': 'which are some good anime movies'},\n",
              " {'similarity': -53.369355373850155,\n",
              "  'qid': 73559,\n",
              "  'text': 'what are some good smartphones under 15k'},\n",
              " {'similarity': -53.369355373850155,\n",
              "  'qid': 229844,\n",
              "  'text': 'what are some good methods to studying'},\n",
              " {'similarity': -53.369355373850155,\n",
              "  'qid': 269037,\n",
              "  'text': 'what are some good erotic comedy movies'}]"
            ]
          },
          "metadata": {},
          "execution_count": 53
        }
      ],
      "source": [
        "bigram_recommender.recommend(test_dataset[test_dataset[\"qid1\"]==4804][\"question1\"].values[0])"
      ]
    },
    {
      "cell_type": "code",
      "execution_count": null,
      "metadata": {
        "colab": {
          "base_uri": "https://localhost:8080/"
        },
        "id": "3vlkENJlLvfJ",
        "outputId": "08f508e6-d06e-43e1-9968-c070074cedcc"
      },
      "outputs": [
        {
          "data": {
            "text/plain": [
              "[{'similarity': 2.5081252293437256e-20,\n",
              "  'qid': 444347,\n",
              "  'text': 'what are some psychological hacks for better focus'},\n",
              " {'similarity': 7.058736605789247e-21,\n",
              "  'qid': 302717,\n",
              "  'text': 'what are some psychological hacks that you can do daily'},\n",
              " {'similarity': 4.089551945334351e-21,\n",
              "  'qid': 74355,\n",
              "  'text': 'what are some psychological tricks to stop caring about what people think'},\n",
              " {'similarity': 2.468145134018605e-21,\n",
              "  'qid': 59404,\n",
              "  'text': 'what are some good horror movies'},\n",
              " {'similarity': 2.468145134018605e-21,\n",
              "  'qid': 119683,\n",
              "  'text': 'what are some good short stories'},\n",
              " {'similarity': 2.468145134018605e-21,\n",
              "  'qid': 12346,\n",
              "  'text': 'what are some good anime movies'},\n",
              " {'similarity': 2.468145134018605e-21,\n",
              "  'qid': 170004,\n",
              "  'text': 'which are some good anime movies'},\n",
              " {'similarity': 1.0458833598847482e-21,\n",
              "  'qid': 73559,\n",
              "  'text': 'what are some good smartphones under 15k'},\n",
              " {'similarity': 1.0458833598847482e-21,\n",
              "  'qid': 229844,\n",
              "  'text': 'what are some good methods to studying'},\n",
              " {'similarity': 1.0458833598847482e-21,\n",
              "  'qid': 269037,\n",
              "  'text': 'what are some good erotic comedy movies'}]"
            ]
          },
          "execution_count": 103,
          "metadata": {},
          "output_type": "execute_result"
        }
      ],
      "source": [
        "unigram_recommender.recommend(test_dataset[test_dataset[\"qid1\"]==4804][\"question1\"].values[0], mu=0.5)"
      ]
    },
    {
      "cell_type": "markdown",
      "metadata": {
        "id": "VnGfbqc4bg-D"
      },
      "source": [
        "# Evaluation"
      ]
    },
    {
      "cell_type": "code",
      "execution_count": 54,
      "metadata": {
        "id": "caUHuzrhv7px"
      },
      "outputs": [],
      "source": [
        "class Evaluator():\n",
        "  def __init__(self, recommender):\n",
        "    self.recommender = recommender\n",
        "\n",
        "  def evaluate_p_at_n(self, dataset, n):\n",
        "    precision = 0\n",
        "    \n",
        "    for data in dataset:\n",
        "      text = data[\"text\"]\n",
        "      positive_qids = data[\"positive_qids\"]\n",
        "    \n",
        "      outputs = self.recommender.recommend(text)\n",
        "\n",
        "      matched_number = 0\n",
        "\n",
        "      for i in range(n):\n",
        "        qid = outputs[i][\"qid\"]\n",
        "\n",
        "        if qid in positive_qids:\n",
        "          matched_number += 1\n",
        "\n",
        "      precision += matched_number/n\n",
        "\n",
        "    return precision / len(dataset)\n",
        "\n",
        "  def evaluate_map(self, dataset):\n",
        "    sum_ap = 0\n",
        "    for data in dataset:    \n",
        "      ap = self._evaluate_ap(data)\n",
        "      sum_ap += ap\n",
        "\n",
        "    map = sum_ap / len(dataset)\n",
        "    return map\n",
        "\n",
        "  def _evaluate_ap(self, data):\n",
        "    text = data[\"text\"]\n",
        "    positive_qids = data[\"positive_qids\"]\n",
        "\n",
        "    outputs = self.recommender.recommend(text)\n",
        "\n",
        "    matched_number = 0\n",
        "    sum_precision = 0\n",
        "    for i, output in enumerate(outputs):\n",
        "      if output[\"qid\"] in positive_qids:\n",
        "        matched_number += 1\n",
        "\n",
        "        precision = matched_number / (i+1)\n",
        "        sum_precision += precision\n",
        "    \n",
        "    return sum_precision / len(positive_qids)\n",
        "\n",
        "  def evaluate_mrr(self, dataset):\n",
        "    sum_rr = 0\n",
        "    for data in dataset:    \n",
        "      rr = self._evaluate_rr(data)\n",
        "      sum_rr += rr\n",
        "\n",
        "    mrr = sum_rr / len(dataset)\n",
        "    return mrr\n",
        "\n",
        "  def _evaluate_rr(self, data):\n",
        "    text = data[\"text\"]\n",
        "    positive_qids = data[\"positive_qids\"]\n",
        "\n",
        "    outputs = self.recommender.recommend(text)\n",
        "\n",
        "    for i, output in enumerate(outputs):\n",
        "      if output[\"qid\"] in positive_qids:\n",
        "        return 1 / (i+1)\n",
        "    \n",
        "    return 0\n",
        "  \n",
        "  def evaluation_report(self, dataset):\n",
        "    print(\"Evaluation Summary:\")\n",
        "    print(f\"P@5  = {round(self.evaluate_p_at_n(dataset=dataset, n=5)*100, 2)}%\")\n",
        "    print(f\"P@10 = {round(self.evaluate_p_at_n(dataset=dataset, n=10)*100, 2)}%\")\n",
        "    print(f\"MAP  = {round(self.evaluate_map(dataset=dataset)*100, 2)}%\")\n",
        "    print(f\"MRR  = {round(self.evaluate_mrr(dataset=dataset)*100, 2)}%\")"
      ]
    },
    {
      "cell_type": "code",
      "execution_count": 55,
      "metadata": {
        "id": "8nVhSZ2YbjE5"
      },
      "outputs": [],
      "source": [
        "qid_set = set(test_dataset[\"qid1\"].values)\n",
        "\n",
        "test_dataset_evaluation = []\n",
        "\n",
        "for qid in qid_set:\n",
        "\n",
        "  qid_test_dataset = test_dataset[test_dataset[\"qid1\"]==qid]\n",
        "\n",
        "  text = qid_test_dataset.iloc[0][\"question1\"]\n",
        "  positive_qids = set(qid_test_dataset[\"qid2\"].values)\n",
        "\n",
        "  test_dataset_evaluation.append({\"text\": text, \"positive_qids\": positive_qids})"
      ]
    },
    {
      "cell_type": "code",
      "execution_count": null,
      "metadata": {
        "id": "Ng40IZZMz319"
      },
      "outputs": [],
      "source": [
        "evaluator = Evaluator(tfidf_recommender)"
      ]
    },
    {
      "cell_type": "code",
      "execution_count": 56,
      "metadata": {
        "colab": {
          "base_uri": "https://localhost:8080/"
        },
        "id": "nKzn8n8Ad8hY",
        "outputId": "6a5f5fd7-1b26-483c-a19c-56b68f25c528"
      },
      "outputs": [
        {
          "output_type": "stream",
          "name": "stdout",
          "text": [
            "Evaluation Summary:\n",
            "P@5  = 35.34\n",
            "P@10 = 25.89\n",
            "MAP  = 32.96\n",
            "MRR  = 63.12\n"
          ]
        }
      ],
      "source": [
        "evaluator.evaluation_report(dataset=test_dataset_evaluation)"
      ]
    },
    {
      "cell_type": "code",
      "execution_count": null,
      "metadata": {
        "id": "-UJOlYLaMt9e"
      },
      "outputs": [],
      "source": [
        "unigram_recommender = UnigramRecommender(preprocess=preprocess, number_recommendation=10, mu=0.5)\n",
        "unigram_recommender.calculate_statistics(dataset=train_dataset_ngram)\n",
        "evaluator = Evaluator(unigram_recommender)"
      ]
    },
    {
      "cell_type": "code",
      "execution_count": null,
      "metadata": {
        "colab": {
          "base_uri": "https://localhost:8080/"
        },
        "id": "P03PQGAseuJC",
        "outputId": "1b49c8cd-d11e-4336-96cb-9f0ec1793dd7"
      },
      "outputs": [
        {
          "name": "stdout",
          "output_type": "stream",
          "text": [
            "Evaluation Summary:\n",
            "P@5  = 36.58\n",
            "P@10 = 25.55\n",
            "MAP  = 33.45\n",
            "MRR  = 62.74\n"
          ]
        }
      ],
      "source": [
        "evaluator.evaluation_report(dataset=test_dataset_evaluation)"
      ]
    },
    {
      "cell_type": "code",
      "execution_count": null,
      "metadata": {
        "id": "PukHWbyIhdcn"
      },
      "outputs": [],
      "source": [
        "unigram_recommender = UnigramRecommender(preprocess=preprocess, number_recommendation=10, mu=0.5)\n",
        "unigram_recommender.calculate_statistics(dataset=train_dataset_ngram)\n",
        "evaluator = Evaluator(unigram_recommender)"
      ]
    },
    {
      "cell_type": "code",
      "execution_count": null,
      "metadata": {
        "colab": {
          "base_uri": "https://localhost:8080/"
        },
        "id": "XQsIs-N-hdco",
        "outputId": "32af4587-c646-499f-8d8e-071159608671"
      },
      "outputs": [
        {
          "name": "stdout",
          "output_type": "stream",
          "text": [
            "Evaluation Summary:\n",
            "P@5  = 36.58\n",
            "P@10 = 25.55\n",
            "MAP  = 33.45\n",
            "MRR  = 62.74\n"
          ]
        }
      ],
      "source": [
        "evaluator.evaluation_report(dataset=test_dataset_evaluation)"
      ]
    },
    {
      "cell_type": "code",
      "execution_count": null,
      "metadata": {
        "id": "9VgB-giVfucq"
      },
      "outputs": [],
      "source": [
        "bigram_recommender = BigramRecommender(preprocess=preprocess, number_recommendation=10, mu=0.5, lambda_=0)\n",
        "bigram_recommender.calculate_statistics(dataset=train_dataset_ngram)\n",
        "evaluator = Evaluator(bigram_recommender)"
      ]
    },
    {
      "cell_type": "code",
      "execution_count": null,
      "metadata": {
        "colab": {
          "base_uri": "https://localhost:8080/"
        },
        "id": "0UKLyQMef4U_",
        "outputId": "7da24bc4-6c2d-422a-b4f3-27faf9571ade"
      },
      "outputs": [
        {
          "name": "stdout",
          "output_type": "stream",
          "text": [
            "Evaluation Summary:\n",
            "P@5  = 36.16\n",
            "P@10 = 26.03\n",
            "MAP  = 33.72\n",
            "MRR  = 62.31\n"
          ]
        }
      ],
      "source": [
        "evaluator.evaluation_report(dataset=test_dataset_evaluation)"
      ]
    },
    {
      "cell_type": "code",
      "execution_count": null,
      "metadata": {
        "id": "SlRYJ2O_hzcB"
      },
      "outputs": [],
      "source": [
        "bigram_recommender = BigramRecommender(preprocess=preprocess, number_recommendation=10, mu=0.5, lambda_=1)\n",
        "bigram_recommender.calculate_statistics(dataset=train_dataset_ngram)\n",
        "evaluator = Evaluator(bigram_recommender)"
      ]
    },
    {
      "cell_type": "code",
      "execution_count": null,
      "metadata": {
        "colab": {
          "base_uri": "https://localhost:8080/"
        },
        "id": "PAjIAv0LhzcB",
        "outputId": "4a8ddeee-8c85-4668-c27b-9c7dff08194b"
      },
      "outputs": [
        {
          "name": "stdout",
          "output_type": "stream",
          "text": [
            "Evaluation Summary:\n",
            "P@5  = 0.0\n",
            "P@10 = 0.0\n",
            "MAP  = 0.0\n",
            "MRR  = 0.0\n"
          ]
        }
      ],
      "source": [
        "evaluator.evaluation_report(dataset=test_dataset_evaluation)"
      ]
    },
    {
      "cell_type": "code",
      "execution_count": null,
      "metadata": {
        "id": "4M9fL7ykikRS"
      },
      "outputs": [],
      "source": [
        "bigram_recommender = BigramRecommender(preprocess=preprocess, number_recommendation=10, mu=0.5, lambda_=0.9)\n",
        "bigram_recommender.calculate_statistics(dataset=train_dataset_ngram)\n",
        "evaluator = Evaluator(bigram_recommender)"
      ]
    },
    {
      "cell_type": "code",
      "execution_count": null,
      "metadata": {
        "colab": {
          "background_save": true,
          "base_uri": "https://localhost:8080/"
        },
        "id": "sSCbsO5xikRS",
        "outputId": "2a32aef9-d2b7-4dc4-d1b4-af340bac5231"
      },
      "outputs": [
        {
          "name": "stdout",
          "output_type": "stream",
          "text": [
            "Evaluation Summary:\n",
            "P@5  = 35.34\n",
            "P@10 = 25.89\n",
            "MAP  = 32.96\n",
            "MRR  = 63.12\n"
          ]
        }
      ],
      "source": [
        "evaluator.evaluation_report(dataset=test_dataset_evaluation)"
      ]
    },
    {
      "cell_type": "code",
      "execution_count": null,
      "metadata": {
        "id": "qdhNHvULilbI"
      },
      "outputs": [],
      "source": []
    }
  ],
  "metadata": {
    "colab": {
      "toc_visible": true,
      "provenance": [],
      "authorship_tag": "ABX9TyNyHfFEzQ9LmnG0xdrdk0yM",
      "include_colab_link": true
    },
    "kernelspec": {
      "display_name": "Python 3",
      "name": "python3"
    },
    "language_info": {
      "name": "python"
    }
  },
  "nbformat": 4,
  "nbformat_minor": 0
}