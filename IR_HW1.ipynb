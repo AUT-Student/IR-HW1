{
  "nbformat": 4,
  "nbformat_minor": 0,
  "metadata": {
    "colab": {
      "provenance": [],
      "authorship_tag": "ABX9TyP8OiF+NW9iZdbeHzGY69FB",
      "include_colab_link": true
    },
    "kernelspec": {
      "name": "python3",
      "display_name": "Python 3"
    },
    "language_info": {
      "name": "python"
    }
  },
  "cells": [
    {
      "cell_type": "markdown",
      "metadata": {
        "id": "view-in-github",
        "colab_type": "text"
      },
      "source": [
        "<a href=\"https://colab.research.google.com/github/AUT-Student/IR-HW1/blob/main/IR_HW1.ipynb\" target=\"_parent\"><img src=\"https://colab.research.google.com/assets/colab-badge.svg\" alt=\"Open In Colab\"/></a>"
      ]
    },
    {
      "cell_type": "code",
      "execution_count": null,
      "metadata": {
        "colab": {
          "base_uri": "https://localhost:8080/"
        },
        "id": "FY2vb3l7adW2",
        "outputId": "ee345b9b-ee63-47de-a6d3-36b374dd0fb2"
      },
      "outputs": [
        {
          "output_type": "stream",
          "name": "stdout",
          "text": [
            "Downloading...\n",
            "From: https://drive.google.com/uc?id=1uJYlPDV4-V-hHQSIhlq1ruKBL6SR96Te\n",
            "To: /content/IR_HW1_dataset.zip\n",
            "\r  0% 0.00/1.76M [00:00<?, ?B/s]\r100% 1.76M/1.76M [00:00<00:00, 154MB/s]\n"
          ]
        }
      ],
      "source": [
        "!gdown 1uJYlPDV4-V-hHQSIhlq1ruKBL6SR96Te"
      ]
    },
    {
      "cell_type": "code",
      "source": [
        "!unzip /content/IR_HW1_dataset.zip"
      ],
      "metadata": {
        "colab": {
          "base_uri": "https://localhost:8080/"
        },
        "id": "imOq1AHMeims",
        "outputId": "a24c13fc-00f9-4abf-d466-0612b182cc86"
      },
      "execution_count": null,
      "outputs": [
        {
          "output_type": "stream",
          "name": "stdout",
          "text": [
            "Archive:  /content/IR_HW1_dataset.zip\n",
            "   creating: Data/\n",
            "  inflating: Data/test_data.csv      \n",
            "  inflating: Data/train_data.csv     \n",
            "  inflating: Data/valid_data.csv     \n"
          ]
        }
      ]
    },
    {
      "cell_type": "code",
      "source": [
        "import pandas as pd\n",
        "import numpy as np\n",
        "import math"
      ],
      "metadata": {
        "id": "V5N1rFU2t4Yt"
      },
      "execution_count": 1,
      "outputs": []
    },
    {
      "cell_type": "code",
      "source": [
        "train_dataset = pd.read_csv(\"/content/Data/train_data.csv\")\n",
        "valid_dataset = pd.read_csv(\"/content/Data/valid_data.csv\")\n",
        "test_dataset  = pd.read_csv(\"/content/Data/test_data.csv\")"
      ],
      "metadata": {
        "id": "4hLBBW2LezNs"
      },
      "execution_count": 2,
      "outputs": []
    },
    {
      "cell_type": "code",
      "source": [
        "import string\n",
        "def remove_punctuation(text):\n",
        "  output = \"\"\n",
        "  for char in text:\n",
        "    if char not in string.punctuation:\n",
        "      output += char\n",
        "  return output"
      ],
      "metadata": {
        "id": "VXaayaVTud7O"
      },
      "execution_count": 3,
      "outputs": []
    },
    {
      "cell_type": "code",
      "source": [
        "def make_lower_case(text):\n",
        "  return text.lower()"
      ],
      "metadata": {
        "id": "1xWU_eZEvxlU"
      },
      "execution_count": 4,
      "outputs": []
    },
    {
      "cell_type": "code",
      "source": [
        "def preprocess(text):\n",
        "  text = remove_punctuation(text)\n",
        "  text = make_lower_case(text)\n",
        "  return text"
      ],
      "metadata": {
        "id": "WFWmh8tAvMUB"
      },
      "execution_count": 5,
      "outputs": []
    },
    {
      "cell_type": "code",
      "source": [
        "class TFIDF():\n",
        "  def __init__(self, top_word_number, stop_word_number, preprocess):\n",
        "    self.df_dictionary = dict()\n",
        "    self.top_words = None\n",
        "    self.document_number= None\n",
        "    self.top_word_number = top_word_number\n",
        "    self.stop_word_number = stop_word_number\n",
        "    self.preprocess = preprocess \n",
        "\n",
        "  def process_corpus(self, dataset):\n",
        "    self.document_number = len(dataset)\n",
        "    self._calculate_df(dataset)\n",
        "    self._select_top_words()\n",
        "    self._calculate_idf()\n",
        "\n",
        "  def _calculate_df(self, dataset):\n",
        "    for data in dataset:\n",
        "      text = self.preprocess(data)\n",
        "      tokens = set(text.split())\n",
        "\n",
        "      for token in tokens:\n",
        "        if token not in self.df_dictionary:\n",
        "          self.df_dictionary[token] = 0\n",
        "        \n",
        "        self.df_dictionary[token] += 1\n",
        "\n",
        "  def _select_top_words(self):\n",
        "    df_list = []\n",
        "\n",
        "    for word in self.df_dictionary:\n",
        "      df_list.append({\"word\": word, \"df\": self.df_dictionary[word]})\n",
        "\n",
        "    df_list = sorted(df_list, key=lambda x:-x[\"df\"])\n",
        "\n",
        "    stop_words = set([item[\"word\"] for item in df_list[:self.stop_word_number]])\n",
        "\n",
        "    self.top_words = set([item[\"word\"] for item in df_list[self.stop_word_number:self.stop_word_number + self.top_word_number]])\n",
        "  \n",
        "  def _calculate_idf(self):\n",
        "    self.idf_dictionary = dict()\n",
        "\n",
        "    for word in self.top_words:\n",
        "      self.idf_dictionary[word] = math.log10(self.document_number / self.df_dictionary[word])\n",
        "\n",
        "    self.word_id_dictionary = dict()\n",
        "\n",
        "    for i, word in enumerate(self.top_words):\n",
        "      self.word_id_dictionary[word] = i\n",
        "\n",
        "  def vector(self, text):\n",
        "    text = self.preprocess(text)\n",
        "    words = text.split()\n",
        "\n",
        "    tfidf_vector = np.zeros(self.top_word_number)\n",
        "\n",
        "    tf_dictionary = dict()\n",
        "\n",
        "    for word in words:\n",
        "      if word not in self.top_words: continue\n",
        "      if word not in tf_dictionary:\n",
        "        tf_dictionary[word] = 0\n",
        "      \n",
        "      tf_dictionary[word] += 1\n",
        "    \n",
        "    for word in tf_dictionary:\n",
        "      tf = 1 + math.log10(tf_dictionary[word])\n",
        "      wid = self.word_id_dictionary[word]\n",
        "      idf = self.idf_dictionary[word]\n",
        "\n",
        "      tfidf_vector[wid] = tf * idf\n",
        "\n",
        "    return tfidf_vector"
      ],
      "metadata": {
        "id": "MwAPWSS5UeO5"
      },
      "execution_count": 6,
      "outputs": []
    },
    {
      "cell_type": "code",
      "source": [
        "train_dataset_text = []\n",
        "for i, data in train_dataset.iterrows():\n",
        "  train_dataset_text.append(data[\"question1\"] + \" \" + data[\"question2\"])"
      ],
      "metadata": {
        "id": "fEPzlrvjZV4s"
      },
      "execution_count": 7,
      "outputs": []
    },
    {
      "cell_type": "code",
      "source": [
        "tfidf = TFIDF(top_word_number=2000, stop_word_number=100, preprocess=preprocess)"
      ],
      "metadata": {
        "id": "CAd9wH6cZq9z"
      },
      "execution_count": 8,
      "outputs": []
    },
    {
      "cell_type": "code",
      "source": [
        "tfidf.process_corpus(train_dataset_text)"
      ],
      "metadata": {
        "id": "ijqqx3h2aFNq"
      },
      "execution_count": 9,
      "outputs": []
    }
  ]
}