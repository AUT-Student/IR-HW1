{
  "nbformat": 4,
  "nbformat_minor": 0,
  "metadata": {
    "colab": {
      "provenance": [],
      "toc_visible": true,
      "authorship_tag": "ABX9TyNhhkoLf8HEvsasXPlez9Pl",
      "include_colab_link": true
    },
    "kernelspec": {
      "name": "python3",
      "display_name": "Python 3"
    },
    "language_info": {
      "name": "python"
    }
  },
  "cells": [
    {
      "cell_type": "markdown",
      "metadata": {
        "id": "view-in-github",
        "colab_type": "text"
      },
      "source": [
        "<a href=\"https://colab.research.google.com/github/AUT-Student/IR-HW1/blob/main/IR_HW1.ipynb\" target=\"_parent\"><img src=\"https://colab.research.google.com/assets/colab-badge.svg\" alt=\"Open In Colab\"/></a>"
      ]
    },
    {
      "cell_type": "markdown",
      "source": [
        "# Dataset"
      ],
      "metadata": {
        "id": "LuQj9drya-L5"
      }
    },
    {
      "cell_type": "code",
      "execution_count": 1,
      "metadata": {
        "colab": {
          "base_uri": "https://localhost:8080/"
        },
        "id": "FY2vb3l7adW2",
        "outputId": "30cc8d37-cd6e-4e2b-95ea-5eacf5db134b"
      },
      "outputs": [
        {
          "output_type": "stream",
          "name": "stdout",
          "text": [
            "Downloading...\n",
            "From: https://drive.google.com/uc?id=1uJYlPDV4-V-hHQSIhlq1ruKBL6SR96Te\n",
            "To: /content/IR_HW1_dataset.zip\n",
            "\r  0% 0.00/1.76M [00:00<?, ?B/s]\r100% 1.76M/1.76M [00:00<00:00, 139MB/s]\n"
          ]
        }
      ],
      "source": [
        "!gdown 1uJYlPDV4-V-hHQSIhlq1ruKBL6SR96Te"
      ]
    },
    {
      "cell_type": "code",
      "source": [
        "!unzip /content/IR_HW1_dataset.zip"
      ],
      "metadata": {
        "colab": {
          "base_uri": "https://localhost:8080/"
        },
        "id": "imOq1AHMeims",
        "outputId": "23ab3597-afec-4e95-802f-0dba13df3be3"
      },
      "execution_count": 2,
      "outputs": [
        {
          "output_type": "stream",
          "name": "stdout",
          "text": [
            "Archive:  /content/IR_HW1_dataset.zip\n",
            "   creating: Data/\n",
            "  inflating: Data/test_data.csv      \n",
            "  inflating: Data/train_data.csv     \n",
            "  inflating: Data/valid_data.csv     \n"
          ]
        }
      ]
    },
    {
      "cell_type": "code",
      "source": [
        "import pandas as pd\n",
        "import numpy as np\n",
        "import math"
      ],
      "metadata": {
        "id": "V5N1rFU2t4Yt"
      },
      "execution_count": 3,
      "outputs": []
    },
    {
      "cell_type": "code",
      "source": [
        "train_dataset = pd.read_csv(\"/content/Data/train_data.csv\")\n",
        "valid_dataset = pd.read_csv(\"/content/Data/valid_data.csv\")\n",
        "test_dataset  = pd.read_csv(\"/content/Data/test_data.csv\")"
      ],
      "metadata": {
        "id": "4hLBBW2LezNs"
      },
      "execution_count": 4,
      "outputs": []
    },
    {
      "cell_type": "markdown",
      "source": [
        "# Preprocessing"
      ],
      "metadata": {
        "id": "2_72utWnbAGQ"
      }
    },
    {
      "cell_type": "code",
      "source": [
        "import string\n",
        "def remove_punctuation(text):\n",
        "  output = \"\"\n",
        "  for char in text:\n",
        "    if char not in string.punctuation:\n",
        "      output += char\n",
        "  return output"
      ],
      "metadata": {
        "id": "VXaayaVTud7O"
      },
      "execution_count": 5,
      "outputs": []
    },
    {
      "cell_type": "code",
      "source": [
        "def make_lower_case(text):\n",
        "  return text.lower()"
      ],
      "metadata": {
        "id": "1xWU_eZEvxlU"
      },
      "execution_count": 6,
      "outputs": []
    },
    {
      "cell_type": "code",
      "source": [
        "def preprocess(text):\n",
        "  text = remove_punctuation(text)\n",
        "  text = make_lower_case(text)\n",
        "  return text"
      ],
      "metadata": {
        "id": "WFWmh8tAvMUB"
      },
      "execution_count": 7,
      "outputs": []
    },
    {
      "cell_type": "markdown",
      "source": [
        "# TF-IDF"
      ],
      "metadata": {
        "id": "EEtkjeMFbCBQ"
      }
    },
    {
      "cell_type": "code",
      "source": [
        "class TFIDF():\n",
        "  def __init__(self, top_word_number, stop_word_number, preprocess):\n",
        "    self.df_dictionary = dict()\n",
        "    self.top_words = None\n",
        "    self.document_number= None\n",
        "    self.top_word_number = top_word_number\n",
        "    self.stop_word_number = stop_word_number\n",
        "    self.preprocess = preprocess \n",
        "\n",
        "  def process_corpus(self, dataset):\n",
        "    self.document_number = len(dataset)\n",
        "    self._calculate_df(dataset)\n",
        "    self._select_top_words()\n",
        "    self._calculate_idf()\n",
        "\n",
        "  def _calculate_df(self, dataset):\n",
        "    for data in dataset:\n",
        "      text = self.preprocess(data)\n",
        "      tokens = set(text.split())\n",
        "\n",
        "      for token in tokens:\n",
        "        if token not in self.df_dictionary:\n",
        "          self.df_dictionary[token] = 0\n",
        "        \n",
        "        self.df_dictionary[token] += 1\n",
        "\n",
        "  def _select_top_words(self):\n",
        "    df_list = []\n",
        "\n",
        "    for word in self.df_dictionary:\n",
        "      df_list.append({\"word\": word, \"df\": self.df_dictionary[word]})\n",
        "\n",
        "    df_list = sorted(df_list, key=lambda x:-x[\"df\"])\n",
        "\n",
        "    stop_words = set([item[\"word\"] for item in df_list[:self.stop_word_number]])\n",
        "\n",
        "    self.top_words = set([item[\"word\"] for item in df_list[self.stop_word_number:self.stop_word_number + self.top_word_number]])\n",
        "  \n",
        "  def _calculate_idf(self):\n",
        "    self.idf_dictionary = dict()\n",
        "\n",
        "    for word in self.top_words:\n",
        "      self.idf_dictionary[word] = math.log10(self.document_number / self.df_dictionary[word])\n",
        "\n",
        "    self.word_id_dictionary = dict()\n",
        "\n",
        "    for i, word in enumerate(self.top_words):\n",
        "      self.word_id_dictionary[word] = i\n",
        "\n",
        "  def vector(self, text):\n",
        "    text = self.preprocess(text)\n",
        "    words = text.split()\n",
        "\n",
        "    tfidf_vector = np.zeros(self.top_word_number)\n",
        "\n",
        "    tf_dictionary = dict()\n",
        "\n",
        "    for word in words:\n",
        "      if word not in self.top_words: continue\n",
        "      if word not in tf_dictionary:\n",
        "        tf_dictionary[word] = 0\n",
        "      \n",
        "      tf_dictionary[word] += 1\n",
        "    \n",
        "    for word in tf_dictionary:\n",
        "      tf = 1 + math.log10(tf_dictionary[word])\n",
        "      wid = self.word_id_dictionary[word]\n",
        "      idf = self.idf_dictionary[word]\n",
        "\n",
        "      tfidf_vector[wid] = tf * idf\n",
        "\n",
        "    return tfidf_vector"
      ],
      "metadata": {
        "id": "MwAPWSS5UeO5"
      },
      "execution_count": 8,
      "outputs": []
    },
    {
      "cell_type": "code",
      "source": [
        "train_dataset_text = []\n",
        "for i, data in train_dataset.iterrows():\n",
        "  train_dataset_text.append(data[\"question1\"] + \" \" + data[\"question2\"])"
      ],
      "metadata": {
        "id": "fEPzlrvjZV4s"
      },
      "execution_count": 9,
      "outputs": []
    },
    {
      "cell_type": "code",
      "source": [
        "tfidf = TFIDF(top_word_number=2000, stop_word_number=100, preprocess=preprocess)"
      ],
      "metadata": {
        "id": "CAd9wH6cZq9z"
      },
      "execution_count": 10,
      "outputs": []
    },
    {
      "cell_type": "code",
      "source": [
        "tfidf.process_corpus(train_dataset_text)"
      ],
      "metadata": {
        "id": "ijqqx3h2aFNq"
      },
      "execution_count": 11,
      "outputs": []
    },
    {
      "cell_type": "code",
      "source": [
        "from heapq import nlargest\n",
        "\n",
        "class TFIDFRecommender():\n",
        "  def __init__(self, tfidf, number_recommendation):\n",
        "    self.tfidf = tfidf\n",
        "    self.search_space = None\n",
        "    self.number_recommendation = number_recommendation\n",
        "\n",
        "  def create_search_space(self, dataset):\n",
        "    self.search_space = list()\n",
        "    qid_set = set()\n",
        "    for data in dataset:\n",
        "      qid = data[\"qid\"]\n",
        "      text = data[\"text\"]\n",
        "      tfidf_vector = self.tfidf.vector(text)\n",
        "\n",
        "      if qid not in qid_set:\n",
        "        qid_set.add(qid)\n",
        "        self.search_space.append({\"vector\": tfidf_vector, \"qid\": qid, \"text\":text})\n",
        "\n",
        "  def recommend(self, text):\n",
        "    input_vector = self.tfidf.vector(text)\n",
        "  \n",
        "    similar_item_list = list()\n",
        "\n",
        "    for item in self.search_space:\n",
        "      similarity = self.cosine_similarity(input_vector, item[\"vector\"])\n",
        "      \n",
        "      similar_item_list.append({\"similarity\": similarity, \"qid\": item[\"qid\"], \"text\":item[\"text\"]})\n",
        "\n",
        "    return nlargest(self.number_recommendation, similar_item_list, key=lambda x:x[\"similarity\"])\n",
        "\n",
        "  @staticmethod\n",
        "  def cosine_similarity(vector1, vector2):\n",
        "    return np.dot(vector1, vector2) / (np.linalg.norm(vector1) * np.linalg.norm(vector2))"
      ],
      "metadata": {
        "id": "Q0iEmauEbi5P"
      },
      "execution_count": 43,
      "outputs": []
    },
    {
      "cell_type": "code",
      "source": [
        "tfidf_recommender = TFIDFRecommender(tfidf=tfidf, number_recommendation=10)"
      ],
      "metadata": {
        "id": "0hZkq2F_dKux"
      },
      "execution_count": 44,
      "outputs": []
    },
    {
      "cell_type": "code",
      "source": [
        "train_dataset_text = []\n",
        "for i, data in train_dataset.iterrows():\n",
        "  train_dataset_text.append({\"qid\": data[\"qid2\"], \"text\": data[\"question2\"]})\n",
        "\n",
        "tfidf_recommender.create_search_space(train_dataset_text)"
      ],
      "metadata": {
        "id": "AJx41IyuW1yp"
      },
      "execution_count": 45,
      "outputs": []
    },
    {
      "cell_type": "code",
      "source": [
        "test_dataset.iloc[150][\"question1\"]"
      ],
      "metadata": {
        "colab": {
          "base_uri": "https://localhost:8080/",
          "height": 35
        },
        "id": "iv7ttM7EXybv",
        "outputId": "741ea6aa-f9fc-4785-bdb3-ca7e88eda5e4"
      },
      "execution_count": 87,
      "outputs": [
        {
          "output_type": "execute_result",
          "data": {
            "text/plain": [
              "'How can I add a question with picture on Quora?'"
            ],
            "application/vnd.google.colaboratory.intrinsic+json": {
              "type": "string"
            }
          },
          "metadata": {},
          "execution_count": 87
        }
      ]
    },
    {
      "cell_type": "code",
      "source": [
        "test_dataset.iloc[150]"
      ],
      "metadata": {
        "colab": {
          "base_uri": "https://localhost:8080/"
        },
        "id": "g4R3mwRns6df",
        "outputId": "0eb9dd7e-f51a-4801-d9d5-d3f733adc05b"
      },
      "execution_count": 90,
      "outputs": [
        {
          "output_type": "execute_result",
          "data": {
            "text/plain": [
              "id                                                        66278\n",
              "qid1                                                      47245\n",
              "qid2                                                      74521\n",
              "question1       How can I add a question with picture on Quora?\n",
              "question2         How do I add pictures to my answers on Quora?\n",
              "is_duplicate                                                  1\n",
              "Name: 150, dtype: object"
            ]
          },
          "metadata": {},
          "execution_count": 90
        }
      ]
    },
    {
      "cell_type": "code",
      "source": [
        "tfidf_recommender.recommend(test_dataset.iloc[150][\"question1\"])"
      ],
      "metadata": {
        "colab": {
          "base_uri": "https://localhost:8080/"
        },
        "id": "l3NmGqnAW90o",
        "outputId": "b3231f48-d88b-4be5-a58d-480814c420c3"
      },
      "execution_count": 88,
      "outputs": [
        {
          "output_type": "stream",
          "name": "stderr",
          "text": [
            "/usr/local/lib/python3.7/dist-packages/ipykernel_launcher.py:35: RuntimeWarning: invalid value encountered in double_scalars\n"
          ]
        },
        {
          "output_type": "execute_result",
          "data": {
            "text/plain": [
              "[{'similarity': 0.8396144551355388,\n",
              "  'qid': 35737,\n",
              "  'text': 'How can I add my profile picture on Qoura?'},\n",
              " {'similarity': 0.8396144551355388,\n",
              "  'qid': 48484,\n",
              "  'text': 'How do you add a profile picture on Quora?'},\n",
              " {'similarity': 0.7695866076338181,\n",
              "  'qid': 53238,\n",
              "  'text': 'How do I add a profile picture to my Quora account?'},\n",
              " {'similarity': 0.7435323915171036,\n",
              "  'qid': 178548,\n",
              "  'text': 'How do I add or change my Quora profile picture?'},\n",
              " {'similarity': 0.7091057298219843,\n",
              "  'qid': 34464,\n",
              "  'text': 'How do I add tags to my question in Quora?'},\n",
              " {'similarity': 0.7091057298219843,\n",
              "  'qid': 92882,\n",
              "  'text': 'Add questions on quora?'},\n",
              " {'similarity': 0.7091057298219843,\n",
              "  'qid': 47114,\n",
              "  'text': 'How do I add an image to my question?'},\n",
              " {'similarity': 0.7091057298219843,\n",
              "  'qid': 192621,\n",
              "  'text': 'How do I add a topic in Quora?'},\n",
              " {'similarity': 0.7091057298219843,\n",
              "  'qid': 95577,\n",
              "  'text': 'Can I add images to my questions on Quora?'},\n",
              " {'similarity': 0.7091057298219843,\n",
              "  'qid': 98621,\n",
              "  'text': 'How do I add an image to a question on Quora?'}]"
            ]
          },
          "metadata": {},
          "execution_count": 88
        }
      ]
    },
    {
      "cell_type": "code",
      "source": [
        "test_dataset[test_dataset[\"qid1\"]==47245]"
      ],
      "metadata": {
        "colab": {
          "base_uri": "https://localhost:8080/",
          "height": 300
        },
        "id": "9LEZifXBXdvI",
        "outputId": "7d9f3d48-d49a-4ab9-93d4-690423207925"
      },
      "execution_count": 91,
      "outputs": [
        {
          "output_type": "execute_result",
          "data": {
            "text/plain": [
              "         id   qid1    qid2                                        question1  \\\n",
              "61    25341  47245   31450  How can I add a question with picture on Quora?   \n",
              "150   66278  47245   74521  How can I add a question with picture on Quora?   \n",
              "160   69375  47245   98621  How can I add a question with picture on Quora?   \n",
              "240  107520  47245   14735  How can I add a question with picture on Quora?   \n",
              "368  158419  47245  165601  How can I add a question with picture on Quora?   \n",
              "413  177257  47245   34185  How can I add a question with picture on Quora?   \n",
              "513  218278  47245   95577  How can I add a question with picture on Quora?   \n",
              "615  257907  47245   31340  How can I add a question with picture on Quora?   \n",
              "\n",
              "                                             question2  is_duplicate  \n",
              "61   How do you add an image to a question or a pos...             1  \n",
              "150      How do I add pictures to my answers on Quora?             1  \n",
              "160      How do I add an image to a question on Quora?             1  \n",
              "240      How do I add photos to my questions in Quora?             1  \n",
              "368                How do I insert a picture in Quora?             1  \n",
              "413      How can I add photos to my question in Quora?             1  \n",
              "513         Can I add images to my questions on Quora?             1  \n",
              "615      How do I add photos to my questions on Quora?             1  "
            ],
            "text/html": [
              "\n",
              "  <div id=\"df-310998f0-54f8-428a-b6a8-f647c94082e0\">\n",
              "    <div class=\"colab-df-container\">\n",
              "      <div>\n",
              "<style scoped>\n",
              "    .dataframe tbody tr th:only-of-type {\n",
              "        vertical-align: middle;\n",
              "    }\n",
              "\n",
              "    .dataframe tbody tr th {\n",
              "        vertical-align: top;\n",
              "    }\n",
              "\n",
              "    .dataframe thead th {\n",
              "        text-align: right;\n",
              "    }\n",
              "</style>\n",
              "<table border=\"1\" class=\"dataframe\">\n",
              "  <thead>\n",
              "    <tr style=\"text-align: right;\">\n",
              "      <th></th>\n",
              "      <th>id</th>\n",
              "      <th>qid1</th>\n",
              "      <th>qid2</th>\n",
              "      <th>question1</th>\n",
              "      <th>question2</th>\n",
              "      <th>is_duplicate</th>\n",
              "    </tr>\n",
              "  </thead>\n",
              "  <tbody>\n",
              "    <tr>\n",
              "      <th>61</th>\n",
              "      <td>25341</td>\n",
              "      <td>47245</td>\n",
              "      <td>31450</td>\n",
              "      <td>How can I add a question with picture on Quora?</td>\n",
              "      <td>How do you add an image to a question or a pos...</td>\n",
              "      <td>1</td>\n",
              "    </tr>\n",
              "    <tr>\n",
              "      <th>150</th>\n",
              "      <td>66278</td>\n",
              "      <td>47245</td>\n",
              "      <td>74521</td>\n",
              "      <td>How can I add a question with picture on Quora?</td>\n",
              "      <td>How do I add pictures to my answers on Quora?</td>\n",
              "      <td>1</td>\n",
              "    </tr>\n",
              "    <tr>\n",
              "      <th>160</th>\n",
              "      <td>69375</td>\n",
              "      <td>47245</td>\n",
              "      <td>98621</td>\n",
              "      <td>How can I add a question with picture on Quora?</td>\n",
              "      <td>How do I add an image to a question on Quora?</td>\n",
              "      <td>1</td>\n",
              "    </tr>\n",
              "    <tr>\n",
              "      <th>240</th>\n",
              "      <td>107520</td>\n",
              "      <td>47245</td>\n",
              "      <td>14735</td>\n",
              "      <td>How can I add a question with picture on Quora?</td>\n",
              "      <td>How do I add photos to my questions in Quora?</td>\n",
              "      <td>1</td>\n",
              "    </tr>\n",
              "    <tr>\n",
              "      <th>368</th>\n",
              "      <td>158419</td>\n",
              "      <td>47245</td>\n",
              "      <td>165601</td>\n",
              "      <td>How can I add a question with picture on Quora?</td>\n",
              "      <td>How do I insert a picture in Quora?</td>\n",
              "      <td>1</td>\n",
              "    </tr>\n",
              "    <tr>\n",
              "      <th>413</th>\n",
              "      <td>177257</td>\n",
              "      <td>47245</td>\n",
              "      <td>34185</td>\n",
              "      <td>How can I add a question with picture on Quora?</td>\n",
              "      <td>How can I add photos to my question in Quora?</td>\n",
              "      <td>1</td>\n",
              "    </tr>\n",
              "    <tr>\n",
              "      <th>513</th>\n",
              "      <td>218278</td>\n",
              "      <td>47245</td>\n",
              "      <td>95577</td>\n",
              "      <td>How can I add a question with picture on Quora?</td>\n",
              "      <td>Can I add images to my questions on Quora?</td>\n",
              "      <td>1</td>\n",
              "    </tr>\n",
              "    <tr>\n",
              "      <th>615</th>\n",
              "      <td>257907</td>\n",
              "      <td>47245</td>\n",
              "      <td>31340</td>\n",
              "      <td>How can I add a question with picture on Quora?</td>\n",
              "      <td>How do I add photos to my questions on Quora?</td>\n",
              "      <td>1</td>\n",
              "    </tr>\n",
              "  </tbody>\n",
              "</table>\n",
              "</div>\n",
              "      <button class=\"colab-df-convert\" onclick=\"convertToInteractive('df-310998f0-54f8-428a-b6a8-f647c94082e0')\"\n",
              "              title=\"Convert this dataframe to an interactive table.\"\n",
              "              style=\"display:none;\">\n",
              "        \n",
              "  <svg xmlns=\"http://www.w3.org/2000/svg\" height=\"24px\"viewBox=\"0 0 24 24\"\n",
              "       width=\"24px\">\n",
              "    <path d=\"M0 0h24v24H0V0z\" fill=\"none\"/>\n",
              "    <path d=\"M18.56 5.44l.94 2.06.94-2.06 2.06-.94-2.06-.94-.94-2.06-.94 2.06-2.06.94zm-11 1L8.5 8.5l.94-2.06 2.06-.94-2.06-.94L8.5 2.5l-.94 2.06-2.06.94zm10 10l.94 2.06.94-2.06 2.06-.94-2.06-.94-.94-2.06-.94 2.06-2.06.94z\"/><path d=\"M17.41 7.96l-1.37-1.37c-.4-.4-.92-.59-1.43-.59-.52 0-1.04.2-1.43.59L10.3 9.45l-7.72 7.72c-.78.78-.78 2.05 0 2.83L4 21.41c.39.39.9.59 1.41.59.51 0 1.02-.2 1.41-.59l7.78-7.78 2.81-2.81c.8-.78.8-2.07 0-2.86zM5.41 20L4 18.59l7.72-7.72 1.47 1.35L5.41 20z\"/>\n",
              "  </svg>\n",
              "      </button>\n",
              "      \n",
              "  <style>\n",
              "    .colab-df-container {\n",
              "      display:flex;\n",
              "      flex-wrap:wrap;\n",
              "      gap: 12px;\n",
              "    }\n",
              "\n",
              "    .colab-df-convert {\n",
              "      background-color: #E8F0FE;\n",
              "      border: none;\n",
              "      border-radius: 50%;\n",
              "      cursor: pointer;\n",
              "      display: none;\n",
              "      fill: #1967D2;\n",
              "      height: 32px;\n",
              "      padding: 0 0 0 0;\n",
              "      width: 32px;\n",
              "    }\n",
              "\n",
              "    .colab-df-convert:hover {\n",
              "      background-color: #E2EBFA;\n",
              "      box-shadow: 0px 1px 2px rgba(60, 64, 67, 0.3), 0px 1px 3px 1px rgba(60, 64, 67, 0.15);\n",
              "      fill: #174EA6;\n",
              "    }\n",
              "\n",
              "    [theme=dark] .colab-df-convert {\n",
              "      background-color: #3B4455;\n",
              "      fill: #D2E3FC;\n",
              "    }\n",
              "\n",
              "    [theme=dark] .colab-df-convert:hover {\n",
              "      background-color: #434B5C;\n",
              "      box-shadow: 0px 1px 3px 1px rgba(0, 0, 0, 0.15);\n",
              "      filter: drop-shadow(0px 1px 2px rgba(0, 0, 0, 0.3));\n",
              "      fill: #FFFFFF;\n",
              "    }\n",
              "  </style>\n",
              "\n",
              "      <script>\n",
              "        const buttonEl =\n",
              "          document.querySelector('#df-310998f0-54f8-428a-b6a8-f647c94082e0 button.colab-df-convert');\n",
              "        buttonEl.style.display =\n",
              "          google.colab.kernel.accessAllowed ? 'block' : 'none';\n",
              "\n",
              "        async function convertToInteractive(key) {\n",
              "          const element = document.querySelector('#df-310998f0-54f8-428a-b6a8-f647c94082e0');\n",
              "          const dataTable =\n",
              "            await google.colab.kernel.invokeFunction('convertToInteractive',\n",
              "                                                     [key], {});\n",
              "          if (!dataTable) return;\n",
              "\n",
              "          const docLinkHtml = 'Like what you see? Visit the ' +\n",
              "            '<a target=\"_blank\" href=https://colab.research.google.com/notebooks/data_table.ipynb>data table notebook</a>'\n",
              "            + ' to learn more about interactive tables.';\n",
              "          element.innerHTML = '';\n",
              "          dataTable['output_type'] = 'display_data';\n",
              "          await google.colab.output.renderOutput(dataTable, element);\n",
              "          const docLink = document.createElement('div');\n",
              "          docLink.innerHTML = docLinkHtml;\n",
              "          element.appendChild(docLink);\n",
              "        }\n",
              "      </script>\n",
              "    </div>\n",
              "  </div>\n",
              "  "
            ]
          },
          "metadata": {},
          "execution_count": 91
        }
      ]
    },
    {
      "cell_type": "markdown",
      "source": [
        "# Evaluation"
      ],
      "metadata": {
        "id": "VnGfbqc4bg-D"
      }
    },
    {
      "cell_type": "code",
      "source": [],
      "metadata": {
        "colab": {
          "base_uri": "https://localhost:8080/"
        },
        "id": "94snl5VCvOS7",
        "outputId": "6342b416-f489-4a6d-fc99-39a4ab1d1a24"
      },
      "execution_count": 59,
      "outputs": [
        {
          "output_type": "execute_result",
          "data": {
            "text/plain": [
              "146"
            ]
          },
          "metadata": {},
          "execution_count": 59
        }
      ]
    },
    {
      "cell_type": "code",
      "source": [
        "test_dataset[test_dataset[\"qid1\"]==4804]"
      ],
      "metadata": {
        "colab": {
          "base_uri": "https://localhost:8080/",
          "height": 143
        },
        "id": "eExZM1BnvGnY",
        "outputId": "32bd31f2-ae33-4f80-cbf2-c7992434192d"
      },
      "execution_count": 56,
      "outputs": [
        {
          "output_type": "execute_result",
          "data": {
            "text/plain": [
              "         id  qid1    qid2                                question1  \\\n",
              "3      2417  4804    4805  What are some good psychological hacks?   \n",
              "133   58018  4804  101877  What are some good psychological hacks?   \n",
              "826  341733  4804  202118  What are some good psychological hacks?   \n",
              "\n",
              "                                          question2  is_duplicate  \n",
              "3          What is the coolest psychological trick?             1  \n",
              "133                 What are some Psychology hacks?             1  \n",
              "826  What are the most amazing psychological hacks?             1  "
            ],
            "text/html": [
              "\n",
              "  <div id=\"df-0da709dc-cbbe-4478-990d-0ddda79191e7\">\n",
              "    <div class=\"colab-df-container\">\n",
              "      <div>\n",
              "<style scoped>\n",
              "    .dataframe tbody tr th:only-of-type {\n",
              "        vertical-align: middle;\n",
              "    }\n",
              "\n",
              "    .dataframe tbody tr th {\n",
              "        vertical-align: top;\n",
              "    }\n",
              "\n",
              "    .dataframe thead th {\n",
              "        text-align: right;\n",
              "    }\n",
              "</style>\n",
              "<table border=\"1\" class=\"dataframe\">\n",
              "  <thead>\n",
              "    <tr style=\"text-align: right;\">\n",
              "      <th></th>\n",
              "      <th>id</th>\n",
              "      <th>qid1</th>\n",
              "      <th>qid2</th>\n",
              "      <th>question1</th>\n",
              "      <th>question2</th>\n",
              "      <th>is_duplicate</th>\n",
              "    </tr>\n",
              "  </thead>\n",
              "  <tbody>\n",
              "    <tr>\n",
              "      <th>3</th>\n",
              "      <td>2417</td>\n",
              "      <td>4804</td>\n",
              "      <td>4805</td>\n",
              "      <td>What are some good psychological hacks?</td>\n",
              "      <td>What is the coolest psychological trick?</td>\n",
              "      <td>1</td>\n",
              "    </tr>\n",
              "    <tr>\n",
              "      <th>133</th>\n",
              "      <td>58018</td>\n",
              "      <td>4804</td>\n",
              "      <td>101877</td>\n",
              "      <td>What are some good psychological hacks?</td>\n",
              "      <td>What are some Psychology hacks?</td>\n",
              "      <td>1</td>\n",
              "    </tr>\n",
              "    <tr>\n",
              "      <th>826</th>\n",
              "      <td>341733</td>\n",
              "      <td>4804</td>\n",
              "      <td>202118</td>\n",
              "      <td>What are some good psychological hacks?</td>\n",
              "      <td>What are the most amazing psychological hacks?</td>\n",
              "      <td>1</td>\n",
              "    </tr>\n",
              "  </tbody>\n",
              "</table>\n",
              "</div>\n",
              "      <button class=\"colab-df-convert\" onclick=\"convertToInteractive('df-0da709dc-cbbe-4478-990d-0ddda79191e7')\"\n",
              "              title=\"Convert this dataframe to an interactive table.\"\n",
              "              style=\"display:none;\">\n",
              "        \n",
              "  <svg xmlns=\"http://www.w3.org/2000/svg\" height=\"24px\"viewBox=\"0 0 24 24\"\n",
              "       width=\"24px\">\n",
              "    <path d=\"M0 0h24v24H0V0z\" fill=\"none\"/>\n",
              "    <path d=\"M18.56 5.44l.94 2.06.94-2.06 2.06-.94-2.06-.94-.94-2.06-.94 2.06-2.06.94zm-11 1L8.5 8.5l.94-2.06 2.06-.94-2.06-.94L8.5 2.5l-.94 2.06-2.06.94zm10 10l.94 2.06.94-2.06 2.06-.94-2.06-.94-.94-2.06-.94 2.06-2.06.94z\"/><path d=\"M17.41 7.96l-1.37-1.37c-.4-.4-.92-.59-1.43-.59-.52 0-1.04.2-1.43.59L10.3 9.45l-7.72 7.72c-.78.78-.78 2.05 0 2.83L4 21.41c.39.39.9.59 1.41.59.51 0 1.02-.2 1.41-.59l7.78-7.78 2.81-2.81c.8-.78.8-2.07 0-2.86zM5.41 20L4 18.59l7.72-7.72 1.47 1.35L5.41 20z\"/>\n",
              "  </svg>\n",
              "      </button>\n",
              "      \n",
              "  <style>\n",
              "    .colab-df-container {\n",
              "      display:flex;\n",
              "      flex-wrap:wrap;\n",
              "      gap: 12px;\n",
              "    }\n",
              "\n",
              "    .colab-df-convert {\n",
              "      background-color: #E8F0FE;\n",
              "      border: none;\n",
              "      border-radius: 50%;\n",
              "      cursor: pointer;\n",
              "      display: none;\n",
              "      fill: #1967D2;\n",
              "      height: 32px;\n",
              "      padding: 0 0 0 0;\n",
              "      width: 32px;\n",
              "    }\n",
              "\n",
              "    .colab-df-convert:hover {\n",
              "      background-color: #E2EBFA;\n",
              "      box-shadow: 0px 1px 2px rgba(60, 64, 67, 0.3), 0px 1px 3px 1px rgba(60, 64, 67, 0.15);\n",
              "      fill: #174EA6;\n",
              "    }\n",
              "\n",
              "    [theme=dark] .colab-df-convert {\n",
              "      background-color: #3B4455;\n",
              "      fill: #D2E3FC;\n",
              "    }\n",
              "\n",
              "    [theme=dark] .colab-df-convert:hover {\n",
              "      background-color: #434B5C;\n",
              "      box-shadow: 0px 1px 3px 1px rgba(0, 0, 0, 0.15);\n",
              "      filter: drop-shadow(0px 1px 2px rgba(0, 0, 0, 0.3));\n",
              "      fill: #FFFFFF;\n",
              "    }\n",
              "  </style>\n",
              "\n",
              "      <script>\n",
              "        const buttonEl =\n",
              "          document.querySelector('#df-0da709dc-cbbe-4478-990d-0ddda79191e7 button.colab-df-convert');\n",
              "        buttonEl.style.display =\n",
              "          google.colab.kernel.accessAllowed ? 'block' : 'none';\n",
              "\n",
              "        async function convertToInteractive(key) {\n",
              "          const element = document.querySelector('#df-0da709dc-cbbe-4478-990d-0ddda79191e7');\n",
              "          const dataTable =\n",
              "            await google.colab.kernel.invokeFunction('convertToInteractive',\n",
              "                                                     [key], {});\n",
              "          if (!dataTable) return;\n",
              "\n",
              "          const docLinkHtml = 'Like what you see? Visit the ' +\n",
              "            '<a target=\"_blank\" href=https://colab.research.google.com/notebooks/data_table.ipynb>data table notebook</a>'\n",
              "            + ' to learn more about interactive tables.';\n",
              "          element.innerHTML = '';\n",
              "          dataTable['output_type'] = 'display_data';\n",
              "          await google.colab.output.renderOutput(dataTable, element);\n",
              "          const docLink = document.createElement('div');\n",
              "          docLink.innerHTML = docLinkHtml;\n",
              "          element.appendChild(docLink);\n",
              "        }\n",
              "      </script>\n",
              "    </div>\n",
              "  </div>\n",
              "  "
            ]
          },
          "metadata": {},
          "execution_count": 56
        }
      ]
    },
    {
      "cell_type": "code",
      "source": [
        "class Evaluator():\n",
        "  def __init__(self, recommender):\n",
        "    self.recommender = recommender\n",
        "\n",
        "  def evaluate_p_at_n(self, dataset, n):\n",
        "    precision = 0\n",
        "    \n",
        "    for data in dataset:\n",
        "      text = data[\"text\"]\n",
        "      positive_qids = data[\"positive_qids\"]\n",
        "    \n",
        "      outputs = self.recommender.recommend(text)\n",
        "\n",
        "      matched_number = 0\n",
        "\n",
        "      for i in range(n):\n",
        "        qid = outputs[i][\"qid\"]\n",
        "\n",
        "        if qid in positive_qids:\n",
        "          matched_number += 1\n",
        "\n",
        "      precision += matched_number/n\n",
        "\n",
        "    return precision / len(dataset)\n",
        "\n",
        "  def evaluate_map(self, dataset):\n",
        "    sum_ap = 0\n",
        "    for data in dataset:    \n",
        "      ap = self._evaluate_ap(data)\n",
        "      sum_ap += ap\n",
        "\n",
        "    map = sum_ap / len(dataset)\n",
        "    return map\n",
        "\n",
        "  def _evaluate_ap(self, data):\n",
        "    text = data[\"text\"]\n",
        "    positive_qids = data[\"positive_qids\"]\n",
        "\n",
        "    outputs = self.recommender.recommend(text)\n",
        "\n",
        "    matched_number = 0\n",
        "    sum_precision = 0\n",
        "    for i, output in enumerate(outputs):\n",
        "      if output[\"qid\"] in positive_qids:\n",
        "        matched_number += 1\n",
        "\n",
        "        precision = matched_number / (i+1)\n",
        "        sum_precision += precision\n",
        "    \n",
        "    return sum_precision / len(positive_qids)\n",
        "\n",
        "  def evaluate_mrr(self, dataset):\n",
        "    sum_rr = 0\n",
        "    for data in dataset:    \n",
        "      rr = self._evaluate_rr(data)\n",
        "      sum_rr += rr\n",
        "\n",
        "    mrr = sum_rr / len(dataset)\n",
        "    return mrr\n",
        "\n",
        "  def _evaluate_rr(self, data):\n",
        "    text = data[\"text\"]\n",
        "    positive_qids = data[\"positive_qids\"]\n",
        "\n",
        "    outputs = self.recommender.recommend(text)\n",
        "\n",
        "    for i, output in enumerate(outputs):\n",
        "      if output[\"qid\"] in positive_qids:\n",
        "        return 1 / (i+1)\n",
        "    \n",
        "    return 0"
      ],
      "metadata": {
        "id": "caUHuzrhv7px"
      },
      "execution_count": 92,
      "outputs": []
    },
    {
      "cell_type": "code",
      "source": [
        "qid_set = set(test_dataset[\"qid1\"].values)\n",
        "\n",
        "test_dataset_evaluation = []\n",
        "\n",
        "for qid in qid_set:\n",
        "\n",
        "  qid_test_dataset = test_dataset[test_dataset[\"qid1\"]==qid]\n",
        "\n",
        "  text = qid_test_dataset.iloc[0][\"question1\"]\n",
        "  positive_qids = set(qid_test_dataset[\"qid2\"].values)\n",
        "\n",
        "  test_dataset_evaluation.append({\"text\": text, \"positive_qids\": positive_qids})"
      ],
      "metadata": {
        "id": "8nVhSZ2YbjE5"
      },
      "execution_count": 62,
      "outputs": []
    },
    {
      "cell_type": "code",
      "source": [
        "evaluator = Evaluator(tfidf_recommender)"
      ],
      "metadata": {
        "id": "Ng40IZZMz319"
      },
      "execution_count": 93,
      "outputs": []
    },
    {
      "cell_type": "code",
      "source": [
        "evaluator.evaluate_p_at_n(dataset=test_dataset_evaluation, n=10)"
      ],
      "metadata": {
        "colab": {
          "base_uri": "https://localhost:8080/"
        },
        "id": "tkqhkRiOz8hr",
        "outputId": "f668d11d-24a9-4d63-e455-61f116fbab0a"
      },
      "execution_count": 65,
      "outputs": [
        {
          "output_type": "stream",
          "name": "stderr",
          "text": [
            "/usr/local/lib/python3.7/dist-packages/ipykernel_launcher.py:35: RuntimeWarning: invalid value encountered in double_scalars\n"
          ]
        },
        {
          "output_type": "execute_result",
          "data": {
            "text/plain": [
              "0.31712328767123277"
            ]
          },
          "metadata": {},
          "execution_count": 65
        }
      ]
    },
    {
      "cell_type": "code",
      "source": [
        "evaluator.evaluate_p_at_n(dataset=test_dataset_evaluation, n=5)"
      ],
      "metadata": {
        "colab": {
          "base_uri": "https://localhost:8080/"
        },
        "id": "fRxfSu5h0Oj8",
        "outputId": "7dd1cee5-1591-4656-f489-7d4b563a4338"
      },
      "execution_count": 66,
      "outputs": [
        {
          "output_type": "stream",
          "name": "stderr",
          "text": [
            "/usr/local/lib/python3.7/dist-packages/ipykernel_launcher.py:35: RuntimeWarning: invalid value encountered in double_scalars\n"
          ]
        },
        {
          "output_type": "execute_result",
          "data": {
            "text/plain": [
              "0.4452054794520548"
            ]
          },
          "metadata": {},
          "execution_count": 66
        }
      ]
    },
    {
      "cell_type": "code",
      "source": [
        "evaluator.evaluate_map(dataset=test_dataset_evaluation)"
      ],
      "metadata": {
        "colab": {
          "base_uri": "https://localhost:8080/"
        },
        "id": "NvL5umC16BoS",
        "outputId": "817a304d-a05d-4dc8-9fdf-b0be131ec4d4"
      },
      "execution_count": 85,
      "outputs": [
        {
          "output_type": "stream",
          "name": "stderr",
          "text": [
            "/usr/local/lib/python3.7/dist-packages/ipykernel_launcher.py:35: RuntimeWarning: invalid value encountered in double_scalars\n"
          ]
        },
        {
          "output_type": "execute_result",
          "data": {
            "text/plain": [
              "0.3947572148015441"
            ]
          },
          "metadata": {},
          "execution_count": 85
        }
      ]
    },
    {
      "cell_type": "code",
      "source": [
        "evaluator.evaluate_mrr(dataset=test_dataset_evaluation)"
      ],
      "metadata": {
        "colab": {
          "base_uri": "https://localhost:8080/"
        },
        "id": "MGHivVyX6F5R",
        "outputId": "42270f24-ce20-4219-98fd-0bb1779da9ef"
      },
      "execution_count": 94,
      "outputs": [
        {
          "output_type": "stream",
          "name": "stderr",
          "text": [
            "/usr/local/lib/python3.7/dist-packages/ipykernel_launcher.py:35: RuntimeWarning: invalid value encountered in double_scalars\n"
          ]
        },
        {
          "output_type": "execute_result",
          "data": {
            "text/plain": [
              "0.6277370080452273"
            ]
          },
          "metadata": {},
          "execution_count": 94
        }
      ]
    },
    {
      "cell_type": "code",
      "source": [],
      "metadata": {
        "id": "uELpsnyC-fyj"
      },
      "execution_count": null,
      "outputs": []
    }
  ]
}