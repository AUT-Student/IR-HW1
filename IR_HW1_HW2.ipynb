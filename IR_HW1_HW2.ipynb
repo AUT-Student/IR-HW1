{
  "cells": [
    {
      "cell_type": "markdown",
      "metadata": {
        "id": "view-in-github",
        "colab_type": "text"
      },
      "source": [
        "<a href=\"https://colab.research.google.com/github/AUT-Student/IR-HW1/blob/main/IR_HW1_HW2.ipynb\" target=\"_parent\"><img src=\"https://colab.research.google.com/assets/colab-badge.svg\" alt=\"Open In Colab\"/></a>"
      ]
    },
    {
      "cell_type": "markdown",
      "metadata": {
        "id": "NA15woxQq9om"
      },
      "source": [
        "<center><b>In the name of God</b></center>\n",
        "\n",
        "<b>Course</b>: Information Retrieval\n",
        "<br>\n",
        "<b>Description:</b> HomeWork 1 & HomeWork 2\n",
        "<br>\n",
        "<b>Developer</b>: Alireza Mazochi (400131075)"
      ]
    },
    {
      "cell_type": "markdown",
      "metadata": {
        "id": "IpqhipGWoVSx"
      },
      "source": [
        "# Libraries"
      ]
    },
    {
      "cell_type": "code",
      "execution_count": 1,
      "metadata": {
        "colab": {
          "base_uri": "https://localhost:8080/"
        },
        "id": "QMRSPnPaIOVr",
        "outputId": "f958a416-100a-4819-a999-800d89b98866"
      },
      "outputs": [
        {
          "output_type": "stream",
          "name": "stdout",
          "text": [
            "Looking in indexes: https://pypi.org/simple, https://us-python.pkg.dev/colab-wheels/public/simple/\n",
            "Collecting transformers\n",
            "  Downloading transformers-4.25.1-py3-none-any.whl (5.8 MB)\n",
            "\u001b[K     |████████████████████████████████| 5.8 MB 13.4 MB/s \n",
            "\u001b[?25hRequirement already satisfied: numpy>=1.17 in /usr/local/lib/python3.8/dist-packages (from transformers) (1.21.6)\n",
            "Requirement already satisfied: regex!=2019.12.17 in /usr/local/lib/python3.8/dist-packages (from transformers) (2022.6.2)\n",
            "Requirement already satisfied: pyyaml>=5.1 in /usr/local/lib/python3.8/dist-packages (from transformers) (6.0)\n",
            "Collecting huggingface-hub<1.0,>=0.10.0\n",
            "  Downloading huggingface_hub-0.11.1-py3-none-any.whl (182 kB)\n",
            "\u001b[K     |████████████████████████████████| 182 kB 63.5 MB/s \n",
            "\u001b[?25hCollecting tokenizers!=0.11.3,<0.14,>=0.11.1\n",
            "  Downloading tokenizers-0.13.2-cp38-cp38-manylinux_2_17_x86_64.manylinux2014_x86_64.whl (7.6 MB)\n",
            "\u001b[K     |████████████████████████████████| 7.6 MB 54.1 MB/s \n",
            "\u001b[?25hRequirement already satisfied: requests in /usr/local/lib/python3.8/dist-packages (from transformers) (2.23.0)\n",
            "Requirement already satisfied: tqdm>=4.27 in /usr/local/lib/python3.8/dist-packages (from transformers) (4.64.1)\n",
            "Requirement already satisfied: filelock in /usr/local/lib/python3.8/dist-packages (from transformers) (3.8.2)\n",
            "Requirement already satisfied: packaging>=20.0 in /usr/local/lib/python3.8/dist-packages (from transformers) (21.3)\n",
            "Requirement already satisfied: typing-extensions>=3.7.4.3 in /usr/local/lib/python3.8/dist-packages (from huggingface-hub<1.0,>=0.10.0->transformers) (4.4.0)\n",
            "Requirement already satisfied: pyparsing!=3.0.5,>=2.0.2 in /usr/local/lib/python3.8/dist-packages (from packaging>=20.0->transformers) (3.0.9)\n",
            "Requirement already satisfied: certifi>=2017.4.17 in /usr/local/lib/python3.8/dist-packages (from requests->transformers) (2022.12.7)\n",
            "Requirement already satisfied: chardet<4,>=3.0.2 in /usr/local/lib/python3.8/dist-packages (from requests->transformers) (3.0.4)\n",
            "Requirement already satisfied: idna<3,>=2.5 in /usr/local/lib/python3.8/dist-packages (from requests->transformers) (2.10)\n",
            "Requirement already satisfied: urllib3!=1.25.0,!=1.25.1,<1.26,>=1.21.1 in /usr/local/lib/python3.8/dist-packages (from requests->transformers) (1.24.3)\n",
            "Installing collected packages: tokenizers, huggingface-hub, transformers\n",
            "Successfully installed huggingface-hub-0.11.1 tokenizers-0.13.2 transformers-4.25.1\n"
          ]
        }
      ],
      "source": [
        "!pip install transformers"
      ]
    },
    {
      "cell_type": "code",
      "execution_count": 1,
      "metadata": {
        "id": "V5N1rFU2t4Yt"
      },
      "outputs": [],
      "source": [
        "import pandas as pd\n",
        "import numpy as np\n",
        "import math\n",
        "import matplotlib.pyplot as plt\n",
        "import time\n",
        "from heapq import nlargest\n",
        "\n",
        "import torch\n",
        "from transformers import BertTokenizer, BertModel\n",
        "\n",
        "import tensorflow as tf"
      ]
    },
    {
      "cell_type": "code",
      "source": [
        "from gensim.test.utils import datapath, get_tmpfile\n",
        "from gensim.models import KeyedVectors\n",
        "from gensim.scripts.glove2word2vec import glove2word2vec\n",
        "import gensim.downloader as api\n",
        "from gensim.models.wrappers import FastText"
      ],
      "metadata": {
        "id": "zzBjkG8Cp4Xc"
      },
      "execution_count": 2,
      "outputs": []
    },
    {
      "cell_type": "markdown",
      "metadata": {
        "id": "LuQj9drya-L5"
      },
      "source": [
        "# Dataset"
      ]
    },
    {
      "cell_type": "code",
      "execution_count": 4,
      "metadata": {
        "colab": {
          "base_uri": "https://localhost:8080/"
        },
        "id": "FY2vb3l7adW2",
        "outputId": "ac5f5bab-e920-4e99-9df4-988e24dbc4e0"
      },
      "outputs": [
        {
          "output_type": "stream",
          "name": "stdout",
          "text": [
            "Downloading...\n",
            "From: https://drive.google.com/uc?id=1uJYlPDV4-V-hHQSIhlq1ruKBL6SR96Te\n",
            "To: /content/IR_HW1_dataset.zip\n",
            "\r  0% 0.00/1.76M [00:00<?, ?B/s]\r100% 1.76M/1.76M [00:00<00:00, 197MB/s]\n",
            "Archive:  /content/IR_HW1_dataset.zip\n",
            "   creating: Data/\n",
            "  inflating: Data/test_data.csv      \n",
            "  inflating: Data/train_data.csv     \n",
            "  inflating: Data/valid_data.csv     \n"
          ]
        }
      ],
      "source": [
        "!gdown 1uJYlPDV4-V-hHQSIhlq1ruKBL6SR96Te\n",
        "!unzip /content/IR_HW1_dataset.zip"
      ]
    },
    {
      "cell_type": "code",
      "execution_count": 3,
      "metadata": {
        "id": "4hLBBW2LezNs"
      },
      "outputs": [],
      "source": [
        "train_dataset = pd.read_csv(\"/content/Data/train_data.csv\")\n",
        "valid_dataset = pd.read_csv(\"/content/Data/valid_data.csv\")\n",
        "test_dataset  = pd.read_csv(\"/content/Data/test_data.csv\")"
      ]
    },
    {
      "cell_type": "markdown",
      "metadata": {
        "id": "2_72utWnbAGQ"
      },
      "source": [
        "# Preprocessing"
      ]
    },
    {
      "cell_type": "code",
      "execution_count": 4,
      "metadata": {
        "id": "VXaayaVTud7O"
      },
      "outputs": [],
      "source": [
        "import string\n",
        "def remove_punctuation(text):\n",
        "  output = \"\"\n",
        "  for char in text:\n",
        "    if char not in string.punctuation:\n",
        "      output += char\n",
        "  return output"
      ]
    },
    {
      "cell_type": "code",
      "execution_count": 5,
      "metadata": {
        "id": "1xWU_eZEvxlU"
      },
      "outputs": [],
      "source": [
        "def make_lower_case(text):\n",
        "  return text.lower()"
      ]
    },
    {
      "cell_type": "code",
      "execution_count": 6,
      "metadata": {
        "id": "WFWmh8tAvMUB"
      },
      "outputs": [],
      "source": [
        "def preprocess(text):\n",
        "  text = remove_punctuation(text)\n",
        "  text = make_lower_case(text)\n",
        "  return text"
      ]
    },
    {
      "cell_type": "markdown",
      "metadata": {
        "id": "EEtkjeMFbCBQ"
      },
      "source": [
        "# TF-IDF"
      ]
    },
    {
      "cell_type": "code",
      "execution_count": null,
      "metadata": {
        "id": "MwAPWSS5UeO5"
      },
      "outputs": [],
      "source": [
        "class TFIDF():\n",
        "  def __init__(self, top_word_number, stop_word_number, preprocess):\n",
        "    self.df_dictionary = dict()\n",
        "    self.top_words = None\n",
        "    self.document_number= None\n",
        "    self.top_word_number = top_word_number\n",
        "    self.stop_word_number = stop_word_number\n",
        "    self.preprocess = preprocess \n",
        "\n",
        "  def process_corpus(self, dataset):\n",
        "    self.document_number = len(dataset)\n",
        "    self._calculate_df(dataset)\n",
        "    self._select_top_words()\n",
        "    self._calculate_idf()\n",
        "\n",
        "  def _calculate_df(self, dataset):\n",
        "    for data in dataset:\n",
        "      text = self.preprocess(data)\n",
        "      tokens = set(text.split())\n",
        "\n",
        "      for token in tokens:\n",
        "        if token not in self.df_dictionary:\n",
        "          self.df_dictionary[token] = 0\n",
        "        \n",
        "        self.df_dictionary[token] += 1\n",
        "\n",
        "  def _select_top_words(self):\n",
        "    df_list = []\n",
        "\n",
        "    for word in self.df_dictionary:\n",
        "      df_list.append({\"word\": word, \"df\": self.df_dictionary[word]})\n",
        "\n",
        "    df_list = sorted(df_list, key=lambda x:-x[\"df\"])\n",
        "\n",
        "    stop_words = set([item[\"word\"] for item in df_list[:self.stop_word_number]])\n",
        "\n",
        "    self.top_words = set([item[\"word\"] for item in df_list[self.stop_word_number:self.stop_word_number + self.top_word_number]])\n",
        "  \n",
        "  def _calculate_idf(self):\n",
        "    self.idf_dictionary = dict()\n",
        "\n",
        "    for word in self.top_words:\n",
        "      self.idf_dictionary[word] = math.log10(self.document_number / self.df_dictionary[word])\n",
        "\n",
        "    self.word_id_dictionary = dict()\n",
        "\n",
        "    for i, word in enumerate(self.top_words):\n",
        "      self.word_id_dictionary[word] = i\n",
        "\n",
        "  def vector(self, text):\n",
        "    text = self.preprocess(text)\n",
        "    words = text.split()\n",
        "\n",
        "    tfidf_vector = np.zeros(self.top_word_number)\n",
        "\n",
        "    tf_dictionary = dict()\n",
        "\n",
        "    for word in words:\n",
        "      if word not in self.top_words: continue\n",
        "      if word not in tf_dictionary:\n",
        "        tf_dictionary[word] = 0\n",
        "      \n",
        "      tf_dictionary[word] += 1\n",
        "    \n",
        "    for word in tf_dictionary:\n",
        "      tf = 1 + math.log10(tf_dictionary[word])\n",
        "      wid = self.word_id_dictionary[word]\n",
        "      idf = self.idf_dictionary[word]\n",
        "\n",
        "      tfidf_vector[wid] = tf * idf\n",
        "\n",
        "    return tfidf_vector"
      ]
    },
    {
      "cell_type": "code",
      "execution_count": null,
      "metadata": {
        "id": "Q0iEmauEbi5P"
      },
      "outputs": [],
      "source": [
        "from heapq import nlargest\n",
        "\n",
        "class TFIDFRecommender():\n",
        "  def __init__(self, tfidf, number_recommendation):\n",
        "    self.tfidf = tfidf\n",
        "    self.search_space = None\n",
        "    self.number_recommendation = number_recommendation\n",
        "\n",
        "  def create_search_space(self, dataset):\n",
        "    self.search_space = list()\n",
        "    qid_set = set()\n",
        "    for data in dataset:\n",
        "      qid = data[\"qid\"]\n",
        "      text = data[\"text\"]\n",
        "      tfidf_vector = self.tfidf.vector(text)\n",
        "\n",
        "      if qid not in qid_set:\n",
        "        qid_set.add(qid)\n",
        "        self.search_space.append({\"vector\": tfidf_vector, \"qid\": qid, \"text\":text})\n",
        "\n",
        "  def recommend(self, text):\n",
        "    input_vector = self.tfidf.vector(text)\n",
        "  \n",
        "    similar_document_list = list()\n",
        "\n",
        "    for document in self.search_space:\n",
        "      similarity = self.cosine_similarity(input_vector, document[\"vector\"])\n",
        "      \n",
        "      similar_document_list.append({\"similarity\": similarity, \"qid\": document[\"qid\"], \"text\":document[\"text\"]})\n",
        "\n",
        "    return nlargest(self.number_recommendation, similar_document_list, key=lambda x:x[\"similarity\"])\n",
        "\n",
        "  @staticmethod\n",
        "  def cosine_similarity(vector1, vector2):\n",
        "    return np.dot(vector1, vector2) / (np.linalg.norm(vector1) * np.linalg.norm(vector2))"
      ]
    },
    {
      "cell_type": "code",
      "execution_count": null,
      "metadata": {
        "id": "fEPzlrvjZV4s"
      },
      "outputs": [],
      "source": [
        "train_dataset_text = []\n",
        "for i, data in train_dataset.iterrows():\n",
        "  train_dataset_text.append(data[\"question1\"] + \" \" + data[\"question2\"])"
      ]
    },
    {
      "cell_type": "code",
      "execution_count": null,
      "metadata": {
        "id": "naS4bA0cDWSY"
      },
      "outputs": [],
      "source": [
        "train_dataset_tfidf = []\n",
        "for i, data in train_dataset.iterrows():\n",
        "  train_dataset_tfidf.append({\"qid\": data[\"qid2\"], \"text\": data[\"question2\"]})"
      ]
    },
    {
      "cell_type": "markdown",
      "metadata": {
        "id": "NIyzTSW7_NQe"
      },
      "source": [
        "# N-gram"
      ]
    },
    {
      "cell_type": "code",
      "execution_count": null,
      "metadata": {
        "id": "_W4jLEUWKol3"
      },
      "outputs": [],
      "source": [
        "train_dataset_ngram = list()\n",
        "\n",
        "qid_set = set()\n",
        "\n",
        "for i, data in train_dataset.iterrows():\n",
        "  qid = data[\"qid2\"]\n",
        "  if qid not in qid_set:\n",
        "    qid_set.add(qid)\n",
        "    train_dataset_ngram.append({\"text\": data[\"question2\"], \"qid\": qid})"
      ]
    },
    {
      "cell_type": "markdown",
      "source": [
        "## Unigram Recommener"
      ],
      "metadata": {
        "id": "EhcjomZKA5rM"
      }
    },
    {
      "cell_type": "code",
      "execution_count": null,
      "metadata": {
        "id": "HwQWfd3o_PV_"
      },
      "outputs": [],
      "source": [
        "class UnigramRecommender():\n",
        "  def __init__(self, preprocess, number_recommendation, mu=None):\n",
        "    self.preprocess = preprocess\n",
        "    self.search_space = None\n",
        "    self.number_recommendation = number_recommendation\n",
        "    self.number_tokens = None\n",
        "    self.fixed_mu = mu\n",
        "\n",
        "  def calculate_statistics(self, dataset):\n",
        "    self.cf_dictionary = dict()\n",
        "    self.search_space = list()\n",
        "\n",
        "    self.number_tokens = 0\n",
        "\n",
        "    for data in dataset:\n",
        "      data_tf_dictionary = dict()\n",
        "      text = data[\"text\"]\n",
        "      qid = data[\"qid\"]\n",
        "      text = self.preprocess(text)\n",
        "      tokens = text.split()\n",
        "\n",
        "      for token in tokens:\n",
        "        self.number_tokens += 1\n",
        "\n",
        "        if token not in self.cf_dictionary:\n",
        "          self.cf_dictionary[token] = 0\n",
        "        self.cf_dictionary[token] += 1\n",
        "\n",
        "        if token not in data_tf_dictionary:\n",
        "          data_tf_dictionary[token] = 0\n",
        "        data_tf_dictionary[token] += 1\n",
        "\n",
        "      self.search_space.append({\"tf_dictionary\": data_tf_dictionary,\n",
        "                                \"length\":len(tokens), \"qid\": qid, \"text\":text})\n",
        "\n",
        "  def probability(self, document, word, mu):\n",
        "    return (document[\"tf_dictionary\"].get(word, 0) \\\n",
        "            + mu * self.cf_dictionary.get(word, 1) / self.number_tokens)\\\n",
        "           /(document[\"length\"] + mu)\n",
        "\n",
        "  def recommend(self, text, mu=None):\n",
        "    if mu is None:\n",
        "      mu = self.fixed_mu\n",
        "\n",
        "    tokens = text.split()\n",
        "    similar_document_list = list()\n",
        "\n",
        "    for document in self.search_space:\n",
        "      document_probability = 0\n",
        "\n",
        "      for token in tokens:\n",
        "        document_probability += math.log(self.probability(document=document,\n",
        "                                         word=token, mu=mu))\n",
        "\n",
        "      similar_document_list.append({\"similarity\": document_probability,\n",
        "                                    \"qid\": document[\"qid\"], \"text\":document[\"text\"]})\n",
        "\n",
        "    return nlargest(self.number_recommendation, similar_document_list, key=lambda x:x[\"similarity\"])"
      ]
    },
    {
      "cell_type": "markdown",
      "source": [
        "## Bigram Recommender"
      ],
      "metadata": {
        "id": "WjtTOJzwA9G0"
      }
    },
    {
      "cell_type": "code",
      "execution_count": null,
      "metadata": {
        "id": "6PFSls30R1I2"
      },
      "outputs": [],
      "source": [
        "class BigramRecommender():\n",
        "  def __init__(self, preprocess, number_recommendation, mu=None, lambda_=None):\n",
        "    self.preprocess = preprocess\n",
        "    self.search_space = None\n",
        "    self.number_recommendation = number_recommendation\n",
        "    self.number_tokens = None\n",
        "    self.fixed_mu = mu\n",
        "    self.fixed_lambda = lambda_\n",
        "    self.unigram_recommender = UnigramRecommender(preprocess=preprocess,\n",
        "                                                  number_recommendation=number_recommendation,\n",
        "                                                  mu=mu)\n",
        "  \n",
        "  def calculate_statistics(self, dataset):\n",
        "    self.unigram_recommender.calculate_statistics(dataset)\n",
        "\n",
        "    self.search_space = list()\n",
        "\n",
        "    for data in dataset:\n",
        "      data_tf_dictionary = dict()\n",
        "      data_ptf_dictionary = dict()\n",
        "      text = data[\"text\"]\n",
        "      qid = data[\"qid\"]\n",
        "      text = self.preprocess(text)\n",
        "      tokens = text.split()\n",
        "      tokens = [\"START\"] + tokens\n",
        "\n",
        "      for token1, token2 in zip(tokens[:-1], tokens[1:]):\n",
        "        if token1 not in data_tf_dictionary:\n",
        "          data_tf_dictionary[token1] = 0\n",
        "        data_tf_dictionary[token1] += 1\n",
        "\n",
        "        if token1 not in data_ptf_dictionary:\n",
        "          data_ptf_dictionary[token1] = dict()\n",
        "\n",
        "        if token2 not in data_ptf_dictionary[token1]:\n",
        "          data_ptf_dictionary[token1][token2] = 0\n",
        "        \n",
        "        data_ptf_dictionary[token1][token2] += 1\n",
        "\n",
        "      self.search_space.append({\"tf_dictionary\": data_tf_dictionary,\n",
        "                                \"ptf_dictionary\": data_ptf_dictionary,\n",
        "                                \"length\":len(tokens), \"qid\": qid, \"text\":text})\n",
        "\n",
        "  def probability(self, document, word1, word2, mu, lambda_):\n",
        "    unigram_probability = self.unigram_recommender.probability(document=document, word=word2, mu=mu)\n",
        "\n",
        "    if document[\"tf_dictionary\"].get(word1) is None:\n",
        "      bigram_probability = 0\n",
        "    else:\n",
        "      bigram_probability = document[\"ptf_dictionary\"].get(word1).get(word2, 0) / document[\"tf_dictionary\"].get(word1)\n",
        "    \n",
        "    return lambda_ * bigram_probability + (1 - lambda_) * unigram_probability\n",
        "\n",
        "  def recommend(self, text, mu=None, lambda_=None):\n",
        "    if mu is None:\n",
        "      mu = self.fixed_mu\n",
        "\n",
        "    if lambda_ is None:\n",
        "      lambda_ = self.fixed_lambda\n",
        "\n",
        "    tokens = text.split()\n",
        "    tokens = [\"START\"] + tokens\n",
        "\n",
        "    similar_document_list = list()\n",
        "\n",
        "    for document in self.search_space:\n",
        "      document_probability = 0\n",
        "\n",
        "      for token1, token2 in zip(tokens[:-1], tokens[1:]):\n",
        "        document_probability += math.log(self.probability(document=document,\n",
        "                                         word1=token1, word2=token2,\n",
        "                                         mu=mu, lambda_=lambda_))\n",
        "\n",
        "      similar_document_list.append({\"similarity\": document_probability,\n",
        "                                    \"qid\": document[\"qid\"], \"text\":document[\"text\"]})\n",
        "\n",
        "    return nlargest(self.number_recommendation, similar_document_list, key=lambda x:x[\"similarity\"])"
      ]
    },
    {
      "cell_type": "markdown",
      "metadata": {
        "id": "dXRPLaU0sGn0"
      },
      "source": [
        "## Hyper Parameter Analysis"
      ]
    },
    {
      "cell_type": "code",
      "execution_count": null,
      "metadata": {
        "id": "8nVhSZ2YbjE5"
      },
      "outputs": [],
      "source": [
        "qid_set = set(valid_dataset[\"qid1\"].values)\n",
        "\n",
        "valid_dataset_evaluation = []\n",
        "\n",
        "for qid in qid_set:\n",
        "\n",
        "  qid_valid_dataset = valid_dataset[valid_dataset[\"qid1\"]==qid]\n",
        "\n",
        "  text = qid_valid_dataset.iloc[0][\"question1\"]\n",
        "  positive_qids = set(qid_valid_dataset[\"qid2\"].values)\n",
        "\n",
        "  valid_dataset_evaluation.append({\"text\": text, \"positive_qids\": positive_qids})"
      ]
    },
    {
      "cell_type": "markdown",
      "metadata": {
        "id": "77-6Q4tGBkZH"
      },
      "source": [
        "### Unigram $\\mu$  "
      ]
    },
    {
      "cell_type": "code",
      "execution_count": null,
      "metadata": {
        "colab": {
          "base_uri": "https://localhost:8080/"
        },
        "id": "xT0QP3UgsGWc",
        "outputId": "d90730e8-472c-4205-f435-09b5db385d9f"
      },
      "outputs": [
        {
          "name": "stdout",
          "output_type": "stream",
          "text": [
            "mu = 0.001\n",
            "mu = 0.1\n",
            "mu = 0.2\n",
            "mu = 0.5\n",
            "mu = 1\n",
            "mu = 2\n",
            "mu = 5\n",
            "mu = 10\n",
            "mu = 20\n",
            "mu = 50\n",
            "mu = 100\n",
            "mu = 200\n",
            "mu = 500\n",
            "mu = 1000\n"
          ]
        }
      ],
      "source": [
        "mu_unigram_results = {\"MAP\": dict(), \"MRR\": dict(), \"P@5\": dict(), \"P@10\": dict()}\n",
        "for mu in [0.001, 0.1, 0.2, 0.5, 1, 2, 5, 10, 20, 50, 100, 200, 500, 1000]:\n",
        "  print(f\"mu = {mu}\")\n",
        "  unigram_recommender = UnigramRecommender(preprocess=preprocess, number_recommendation=10, mu=mu)\n",
        "  unigram_recommender.calculate_statistics(dataset=train_dataset_ngram)\n",
        "  evaluator = Evaluator(unigram_recommender)\n",
        "\n",
        "  mu_unigram_results[\"MAP\"][mu] = evaluator.evaluate_map(valid_dataset_evaluation)\n",
        "  mu_unigram_results[\"MRR\"][mu] = evaluator.evaluate_mrr(valid_dataset_evaluation)\n",
        "  mu_unigram_results[\"P@5\"][mu] = evaluator.evaluate_p_at_n(valid_dataset_evaluation, n=5)\n",
        "  mu_unigram_results[\"P@10\"][mu] = evaluator.evaluate_p_at_n(valid_dataset_evaluation, n=10)"
      ]
    },
    {
      "cell_type": "code",
      "execution_count": null,
      "metadata": {
        "colab": {
          "base_uri": "https://localhost:8080/",
          "height": 458
        },
        "id": "yAjNL-axEU9j",
        "outputId": "85b76cfc-ae21-4358-e62a-a442d7e65c35"
      },
      "outputs": [
        {
          "data": {
            "image/png": "[encoded data removed]",
            "text/plain": [
              "<Figure size 720x504 with 1 Axes>"
            ]
          },
          "metadata": {},
          "output_type": "display_data"
        }
      ],
      "source": [
        "metrics = [\"MAP\", \"MRR\", \"P@5\", \"P@10\"]\n",
        "colors = [\"red\", \"green\", \"blue\", \"yellow\"]\n",
        "mus = mu_unigram_results[metrics[0]].keys()\n",
        "\n",
        "for metric, color in zip(metrics, colors):\n",
        "  xs = range(1, 15)\n",
        "  ys = [mu_unigram_results[metric][mu] for mu in mus]\n",
        "\n",
        "  plt.plot(xs, ys, c=color)\n",
        "  plt.scatter(xs, ys, c=color, label=metric)\n",
        "\n",
        "plt.title(\"Effects of μ on unigram\")\n",
        "plt.xticks(xs, [str(mu) for mu in mus])\n",
        "plt.xlabel(\"μ\")\n",
        "plt.ylabel(\"Metric Result\")\n",
        "plt.legend()\n",
        "plt.gcf().set_size_inches(10, 7)\n",
        "plt.show()"
      ]
    },
    {
      "cell_type": "code",
      "execution_count": null,
      "metadata": {
        "colab": {
          "base_uri": "https://localhost:8080/"
        },
        "id": "jbxm1FnMy_XN",
        "outputId": "24fe818e-72db-475a-a906-be4f2820c9c2"
      },
      "outputs": [
        {
          "data": {
            "text/plain": [
              "{'MAP': {0.001: 0.23701765446513343,\n",
              "  0.1: 0.24493010959618042,\n",
              "  0.2: 0.2477524223288559,\n",
              "  0.5: 0.2513888729019365,\n",
              "  1: 0.2548917614113548,\n",
              "  2: 0.2573338635367293,\n",
              "  5: 0.27160417898426303,\n",
              "  10: 0.27645691036520703,\n",
              "  20: 0.28065995383990633,\n",
              "  50: 0.2900448365760364,\n",
              "  100: 0.28707860173550986,\n",
              "  200: 0.2776158414174927,\n",
              "  500: 0.26367558483552817,\n",
              "  1000: 0.2536954523230252},\n",
              " 'MRR': {0.001: 0.4856569410037619,\n",
              "  0.1: 0.4932929626571245,\n",
              "  0.2: 0.49465547297917245,\n",
              "  0.5: 0.49143958161299206,\n",
              "  1: 0.4983668226442794,\n",
              "  2: 0.49396733645288565,\n",
              "  5: 0.5068056702449766,\n",
              "  10: 0.4959560510138544,\n",
              "  20: 0.49004037067620887,\n",
              "  50: 0.4925107808055785,\n",
              "  100: 0.48049362326818973,\n",
              "  200: 0.4614047160289935,\n",
              "  500: 0.4352899348564088,\n",
              "  1000: 0.4225410588127351},\n",
              " 'P@5': {0.001: 0.2531791907514451,\n",
              "  0.1: 0.2566473988439307,\n",
              "  0.2: 0.25895953757225443,\n",
              "  0.5: 0.2670520231213873,\n",
              "  1: 0.26820809248554917,\n",
              "  2: 0.27283236994219656,\n",
              "  5: 0.2867052023121387,\n",
              "  10: 0.29017341040462424,\n",
              "  20: 0.29710982658959545,\n",
              "  50: 0.30173410404624285,\n",
              "  100: 0.3063583815028903,\n",
              "  200: 0.29248554913294805,\n",
              "  500: 0.27745664739884396,\n",
              "  1000: 0.26936416184971107},\n",
              " 'P@10': {0.001: 0.18208092485549138,\n",
              "  0.1: 0.19075144508670533,\n",
              "  0.2: 0.19421965317919088,\n",
              "  0.5: 0.19826589595375732,\n",
              "  1: 0.19942196531791917,\n",
              "  2: 0.20057803468208102,\n",
              "  5: 0.21098265895953758,\n",
              "  10: 0.21445086705202318,\n",
              "  20: 0.21849710982658962,\n",
              "  50: 0.2225433526011561,\n",
              "  100: 0.22312138728323705,\n",
              "  200: 0.2190751445086706,\n",
              "  500: 0.20982658959537578,\n",
              "  1000: 0.20693641618497116}}"
            ]
          },
          "execution_count": 69,
          "metadata": {},
          "output_type": "execute_result"
        }
      ],
      "source": [
        "mu_unigram_results"
      ]
    },
    {
      "cell_type": "markdown",
      "metadata": {
        "id": "wE1dk7KLBxFT"
      },
      "source": [
        "### Bigram $\\lambda$"
      ]
    },
    {
      "cell_type": "code",
      "execution_count": null,
      "metadata": {
        "colab": {
          "base_uri": "https://localhost:8080/"
        },
        "id": "6t7P_V-X9oQk",
        "outputId": "ae40432f-5278-4b6e-926e-575900021233"
      },
      "outputs": [
        {
          "name": "stdout",
          "output_type": "stream",
          "text": [
            "lambda_ = 0.001\n",
            "lambda_ = 0.01\n",
            "lambda_ = 0.1\n",
            "lambda_ = 0.2\n",
            "lambda_ = 0.5\n",
            "lambda_ = 0.8\n",
            "lambda_ = 0.9\n",
            "lambda_ = 0.99\n",
            "lambda_ = 0.999\n"
          ]
        }
      ],
      "source": [
        "lambda_bigram_results = {\"MAP\": dict(), \"MRR\": dict(), \"P@5\": dict(), \"P@10\": dict()}\n",
        "for lambda_ in [0.001, 0.01, 0.1, 0.2, 0.5, 0.8, 0.9, 0.99, 0.999]:\n",
        "  print(f\"lambda_ = {lambda_}\")\n",
        "  bigram_recommender = BigramRecommender(preprocess=preprocess, number_recommendation=10, mu=50, lambda_=lambda_)\n",
        "  bigram_recommender.calculate_statistics(dataset=train_dataset_ngram)\n",
        "  evaluator = Evaluator(bigram_recommender)\n",
        "\n",
        "  lambda_bigram_results[\"MAP\"][lambda_] = evaluator.evaluate_map(valid_dataset_evaluation)\n",
        "  lambda_bigram_results[\"MRR\"][lambda_] = evaluator.evaluate_mrr(valid_dataset_evaluation)\n",
        "  lambda_bigram_results[\"P@5\"][lambda_] = evaluator.evaluate_p_at_n(valid_dataset_evaluation, n=5)\n",
        "  lambda_bigram_results[\"P@10\"][lambda_] = evaluator.evaluate_p_at_n(valid_dataset_evaluation, n=10)"
      ]
    },
    {
      "cell_type": "code",
      "execution_count": null,
      "metadata": {
        "colab": {
          "base_uri": "https://localhost:8080/"
        },
        "id": "krLM-BGcKV56",
        "outputId": "f29460d6-cb5f-4606-eee5-cda39c9fcbfe"
      },
      "outputs": [
        {
          "data": {
            "text/plain": [
              "{'MAP': {0.001: 0.2934612529351104,\n",
              "  0.01: 0.28990639324638967,\n",
              "  0.1: 0.2736717030203322,\n",
              "  0.2: 0.27269015840077165,\n",
              "  0.5: 0.2635133816366689,\n",
              "  0.8: 0.24816562713790277,\n",
              "  0.9: 0.24523244519460527,\n",
              "  0.99: 0.2407894097916194,\n",
              "  0.999: 0.2389683711642224},\n",
              " 'MRR': {0.001: 0.49071474447196967,\n",
              "  0.01: 0.48838884301312036,\n",
              "  0.1: 0.47505275713368195,\n",
              "  0.2: 0.4835305991375356,\n",
              "  0.5: 0.49009771538673275,\n",
              "  0.8: 0.47265345444536194,\n",
              "  0.9: 0.4706463895770254,\n",
              "  0.99: 0.4669304523350766,\n",
              "  0.999: 0.4669304523350766},\n",
              " 'P@5': {0.001: 0.307514450867052,\n",
              "  0.01: 0.3052023121387283,\n",
              "  0.1: 0.28670520231213886,\n",
              "  0.2: 0.27745664739884407,\n",
              "  0.5: 0.2601156069364163,\n",
              "  0.8: 0.2531791907514451,\n",
              "  0.9: 0.2497109826589596,\n",
              "  0.99: 0.2439306358381503,\n",
              "  0.999: 0.24277456647398843},\n",
              " 'P@10': {0.001: 0.23236994219653184,\n",
              "  0.01: 0.23179190751445086,\n",
              "  0.1: 0.21445086705202304,\n",
              "  0.2: 0.21040462427745651,\n",
              "  0.5: 0.20289017341040455,\n",
              "  0.8: 0.1936416184971098,\n",
              "  0.9: 0.19190751445086704,\n",
              "  0.99: 0.18901734104046242,\n",
              "  0.999: 0.18786127167630054}}"
            ]
          },
          "execution_count": 36,
          "metadata": {},
          "output_type": "execute_result"
        }
      ],
      "source": [
        "lambda_bigram_results"
      ]
    },
    {
      "cell_type": "code",
      "execution_count": null,
      "metadata": {
        "colab": {
          "base_uri": "https://localhost:8080/",
          "height": 458
        },
        "id": "iQQ6fWPzKYHe",
        "outputId": "314025c3-6476-4fac-a44b-0cfe0836d380"
      },
      "outputs": [
        {
          "data": {
            "image/png": "[encoded data removed]",
            "text/plain": [
              "<Figure size 720x504 with 1 Axes>"
            ]
          },
          "metadata": {},
          "output_type": "display_data"
        }
      ],
      "source": [
        "metrics = [\"MAP\", \"MRR\", \"P@5\", \"P@10\"]\n",
        "colors = [\"red\", \"green\", \"blue\", \"yellow\"]\n",
        "lambdas = lambda_bigram_results[metrics[0]].keys()\n",
        "\n",
        "for metric, color in zip(metrics, colors):\n",
        "  xs = range(1, 10)\n",
        "  ys = [lambda_bigram_results[metric][lambda_] for lambda_ in lambdas]\n",
        "\n",
        "  plt.plot(xs, ys, c=color)\n",
        "  plt.scatter(xs, ys, c=color, label=metric)\n",
        "\n",
        "plt.title(\"Effects of λ on bigram\")\n",
        "plt.xticks(xs, [str(lambda_) for lambda_ in lambdas])\n",
        "plt.xlabel(\"λ\")\n",
        "plt.ylabel(\"Metric Result\")\n",
        "plt.legend()\n",
        "plt.gcf().set_size_inches(10, 7)\n",
        "plt.show()"
      ]
    },
    {
      "cell_type": "markdown",
      "metadata": {
        "id": "uCPK4oxtHd4b"
      },
      "source": [
        "# BERT"
      ]
    },
    {
      "cell_type": "code",
      "execution_count": null,
      "metadata": {
        "id": "gBBiVk3QqiQd"
      },
      "outputs": [],
      "source": [
        "from numpy import dot\n",
        "from numpy.linalg import norm\n",
        "\n",
        "class BertRecommender():\n",
        "  # Refrence: https://colab.research.google.com/drive/1yFphU6PW9Uo6lmDly_ud9a6c4RCYlwdX#scrollTo=pTJV8AFFcLbL\n",
        "\n",
        "  def __init__(self, preprocess, number_recommendation):\n",
        "    self.preprocess = preprocess\n",
        "    self.number_recommendation = number_recommendation\n",
        "    self.search_space = None\n",
        "    self._load_model()\n",
        "\n",
        "  def _load_model(self):\n",
        "    # Load pre-trained model tokenizer (vocabulary)\n",
        "    self.tokenizer = BertTokenizer.from_pretrained('bert-base-uncased')\n",
        "\n",
        "    # Load pre-trained model (weights)\n",
        "    self.model = BertModel.from_pretrained('bert-base-uncased',\n",
        "                                            output_hidden_states = True, # Whether the model returns all hidden-states.\n",
        "                                            )\n",
        "\n",
        "    # Put the model in \"evaluation\" mode, meaning feed-forward operation.\n",
        "    self.model.eval()\n",
        "\n",
        "  def calculate_train_embedding(self, dataset):\n",
        "\n",
        "    self.search_space = list()\n",
        "    \n",
        "    for i, data in enumerate(dataset):\n",
        "      if i%1000==0: print(f\"{i*100//len(dataset)}%\", end=\" \")\n",
        "      text = data[\"text\"]\n",
        "      qid = data[\"qid\"]\n",
        "      text = self.preprocess(text)\n",
        "      vector = self._sentence_embedding(text)\n",
        "\n",
        "      self.search_space.append({\"vector\": vector, \"qid\": qid, \"text\":text})\n",
        "\n",
        "  @staticmethod\n",
        "  def cosine_similarity(vector1, vector2):\n",
        "    return np.dot(vector1, vector2) / (np.linalg.norm(vector1) * np.linalg.norm(vector2))\n",
        "\n",
        "  def _sentence_embedding(self, text):\n",
        "    marked_text = \"[CLS] \" + text + \" [SEP]\"\n",
        "\n",
        "    # Tokenize our sentence with the BERT tokenizer.\n",
        "    tokenized_text = self.tokenizer.tokenize(marked_text)\n",
        "\n",
        "    # Map the token strings to their vocabulary indeces.\n",
        "    indexed_tokens = self.tokenizer.convert_tokens_to_ids(tokenized_text)\n",
        "\n",
        "    segments_ids = [1] * len(tokenized_text)\n",
        "\n",
        "    # Convert inputs to PyTorch tensors\n",
        "    tokens_tensor = torch.tensor([indexed_tokens])\n",
        "    segments_tensors = torch.tensor([segments_ids])\n",
        "\n",
        "    # Get hidden state of BERT model\n",
        "    with torch.no_grad():\n",
        "      outputs = self.model(tokens_tensor, segments_tensors)\n",
        "      hidden_states = outputs[2]\n",
        "\n",
        "    # Concatenate the tensors for all layers. We use `stack` here to\n",
        "    # create a new dimension in the tensor.\n",
        "    # Just keeping the 4 last layers\n",
        "    token_embeddings = torch.stack(hidden_states[9:], dim=0)\n",
        "\n",
        "    # Remove dimension 1, the \"batches\".\n",
        "    token_embeddings = torch.squeeze(token_embeddings, dim=1)\n",
        "\n",
        "    # Swap dimensions 0 and 1.\n",
        "    token_embeddings = token_embeddings.permute(1,0,2)\n",
        "\n",
        "    # Mean of all tokens in the 4 last layers\n",
        "    return torch.mean(torch.mean(token_embeddings,dim=0),dim=0)\n",
        "\n",
        "  def recommend(self, text):\n",
        "    text_vector = self._sentence_embedding(text)\n",
        "\n",
        "    similar_document_list = []\n",
        "\n",
        "    for document in self.search_space:\n",
        "      similarity = self.cosine_similarity(document[\"vector\"], text_vector)\n",
        "\n",
        "      similar_document_list.append({\"similarity\": similarity,\n",
        "                                    \"qid\": document[\"qid\"], \"text\":document[\"text\"]})\n",
        "\n",
        "    return nlargest(self.number_recommendation, similar_document_list, key=lambda x:x[\"similarity\"])"
      ]
    },
    {
      "cell_type": "code",
      "execution_count": null,
      "metadata": {
        "id": "G-g4nhM3uHQd"
      },
      "outputs": [],
      "source": [
        "train_dataset_bert = list()\n",
        "\n",
        "qid_set = set()\n",
        "\n",
        "for i, data in train_dataset.iterrows():\n",
        "  qid = data[\"qid2\"]\n",
        "  if qid not in qid_set:\n",
        "    qid_set.add(qid)\n",
        "    train_dataset_bert.append({\"text\": data[\"question2\"], \"qid\": qid})"
      ]
    },
    {
      "cell_type": "markdown",
      "metadata": {
        "id": "fnOv2GkN9cTI"
      },
      "source": [
        "# Siamese"
      ]
    },
    {
      "cell_type": "code",
      "execution_count": 19,
      "metadata": {
        "colab": {
          "base_uri": "https://localhost:8080/"
        },
        "id": "IJdifPDgD9Hy",
        "outputId": "5cd5d94b-df27-4465-9082-8e96a2b5ef74"
      },
      "outputs": [
        {
          "output_type": "stream",
          "name": "stdout",
          "text": [
            "maximum_token_number = 60\n"
          ]
        }
      ],
      "source": [
        "maximum_token_number = 0\n",
        "for dataset_part in [train_dataset, test_dataset, valid_dataset]:\n",
        "  for _, data in dataset_part.iterrows():\n",
        "    maximum_token_number = max(maximum_token_number, \n",
        "                              len(data[\"question1\"].split()),\n",
        "                              len(data[\"question2\"].split()))\n",
        "  \n",
        "print(f\"maximum_token_number = {maximum_token_number}\")"
      ]
    },
    {
      "cell_type": "code",
      "execution_count": 7,
      "metadata": {
        "id": "n7-X56EdWRvB"
      },
      "outputs": [],
      "source": [
        "def tokenize(text, embedding_model):\n",
        "  text = preprocess(text)\n",
        "  tokens = text.split()\n",
        "\n",
        "  oov_vocab = embedding_model.vocab.get(\"<oov>\")\n",
        "  pad_vocab = embedding_model.vocab.get(\"<pad>\")\n",
        "  \n",
        "  indexes = []\n",
        "  for token in tokens:\n",
        "    indexes.append(embedding_model.vocab.get(token, oov_vocab).index)\n",
        "\n",
        "  for i in range(60-len(tokens)):\n",
        "    indexes.append(pad_vocab.index)\n",
        "\n",
        "  return indexes"
      ]
    },
    {
      "cell_type": "code",
      "execution_count": 8,
      "metadata": {
        "id": "0fdXnbk9EBQz"
      },
      "outputs": [],
      "source": [
        "def convert_dataset_to_tf_format(dataset, embedding_model):\n",
        "  dataset_input1 = []\n",
        "  dataset_input2 = []\n",
        "  dataset_label = []\n",
        "\n",
        "  for i, data in dataset.iterrows():\n",
        "    question1 = data[\"question1\"]\n",
        "    question2 = data[\"question2\"]\n",
        "\n",
        "    question1_indexes = tokenize(question1, embedding_model)\n",
        "    question2_indexes = tokenize(question2, embedding_model)\n",
        "    \n",
        "    dataset_input1.append(question1_indexes)\n",
        "    dataset_input2.append(question2_indexes)\n",
        "    dataset_label.append(data[\"is_duplicate\"])\n",
        "\n",
        "  dataset_input1 = tf.convert_to_tensor(dataset_input1)\n",
        "  dataset_input2 = tf.convert_to_tensor(dataset_input2)\n",
        "  dataset_label = tf.convert_to_tensor(dataset_label)\n",
        "\n",
        "  return dataset_input1, dataset_input2, dataset_label"
      ]
    },
    {
      "cell_type": "markdown",
      "source": [
        "## Load Pretrained Word Embedding"
      ],
      "metadata": {
        "id": "Z0Vw4pg_Gp7t"
      }
    },
    {
      "cell_type": "markdown",
      "source": [
        "### Word2Vec"
      ],
      "metadata": {
        "id": "T4F7SsW1GxQ-"
      }
    },
    {
      "cell_type": "code",
      "source": [
        "api.load(\"word2vec-google-news-300\", return_path=True)"
      ],
      "metadata": {
        "id": "mPd5rHRNuKjU",
        "colab": {
          "base_uri": "https://localhost:8080/",
          "height": 53
        },
        "outputId": "977bad58-abb4-4a26-f4f7-3206eaa15099"
      },
      "execution_count": 9,
      "outputs": [
        {
          "output_type": "stream",
          "name": "stdout",
          "text": [
            "[==================================================] 100.0% 1662.8/1662.8MB downloaded\n"
          ]
        },
        {
          "output_type": "execute_result",
          "data": {
            "text/plain": [
              "'/root/gensim-data/word2vec-google-news-300/word2vec-google-news-300.gz'"
            ],
            "application/vnd.google.colaboratory.intrinsic+json": {
              "type": "string"
            }
          },
          "metadata": {},
          "execution_count": 9
        }
      ]
    },
    {
      "cell_type": "code",
      "source": [
        "!gunzip /root/gensim-data/word2vec-google-news-300/word2vec-google-news-300.gz"
      ],
      "metadata": {
        "id": "5VPivQzGtPXu"
      },
      "execution_count": 10,
      "outputs": []
    },
    {
      "cell_type": "code",
      "source": [
        "word2vec_model = KeyedVectors.load_word2vec_format('/root/gensim-data/word2vec-google-news-300/word2vec-google-news-300', limit=500000, binary=True)"
      ],
      "metadata": {
        "id": "zVjjCT0VtA0y"
      },
      "execution_count": 9,
      "outputs": []
    },
    {
      "cell_type": "code",
      "source": [
        "word2vec_model.add([\"<oov>\", \"<pad>\"], [np.zeros(300), np.zeros(300)])"
      ],
      "metadata": {
        "id": "cGT3rAvMl7eq"
      },
      "execution_count": 10,
      "outputs": []
    },
    {
      "cell_type": "markdown",
      "source": [
        "### FastText"
      ],
      "metadata": {
        "id": "GbWEZjjbG0AP"
      }
    },
    {
      "cell_type": "code",
      "source": [
        "fasttext_model = api.load(\"fasttext-wiki-news-subwords-300\")"
      ],
      "metadata": {
        "colab": {
          "base_uri": "https://localhost:8080/"
        },
        "id": "ouJ94TFV6av8",
        "outputId": "086e3076-858f-4098-b1b2-dd672aa3d73b"
      },
      "execution_count": 13,
      "outputs": [
        {
          "output_type": "stream",
          "name": "stdout",
          "text": [
            "[==================================================] 100.0% 958.5/958.4MB downloaded\n"
          ]
        }
      ]
    },
    {
      "cell_type": "code",
      "source": [
        "fasttext_model.add([\"<oov>\", \"<pad>\"], [np.zeros(300), np.zeros(300)])"
      ],
      "metadata": {
        "id": "TEGE7LtIEgzW"
      },
      "execution_count": 14,
      "outputs": []
    },
    {
      "cell_type": "markdown",
      "source": [
        "### GloVe"
      ],
      "metadata": {
        "id": "TO1uEcrvG2ll"
      }
    },
    {
      "cell_type": "code",
      "execution_count": 76,
      "metadata": {
        "colab": {
          "base_uri": "https://localhost:8080/"
        },
        "id": "TPfrX2u94eLW",
        "outputId": "4c0815f5-ef94-49c0-c30b-a0ee9b88fc68"
      },
      "outputs": [
        {
          "output_type": "stream",
          "name": "stdout",
          "text": [
            "Downloading...\n",
            "From: https://nlp.stanford.edu/data/glove.twitter.27B.zip\n",
            "To: /content/glove.twitter.27B.zip\n",
            "100% 1.52G/1.52G [04:45<00:00, 5.33MB/s]\n",
            "Archive:  /content/glove.twitter.27B.zip\n",
            "replace glove.twitter.27B.25d.txt? [y]es, [n]o, [A]ll, [N]one, [r]ename: A\n",
            "  inflating: glove.twitter.27B.25d.txt  \n",
            "  inflating: glove.twitter.27B.50d.txt  \n",
            "  inflating: glove.twitter.27B.100d.txt  \n",
            "  inflating: glove.twitter.27B.200d.txt  \n"
          ]
        }
      ],
      "source": [
        "!gdown https://nlp.stanford.edu/data/glove.twitter.27B.zip\n",
        "!unzip /content/glove.twitter.27B.zip\n",
        "glove_file = datapath('/content/glove.twitter.27B.100d.txt')\n",
        "tmp_file = get_tmpfile(\"/content/temp_word2vec.txt\")\n",
        "glove2word2vec(glove_file, tmp_file)\n",
        "glove_model = KeyedVectors.load_word2vec_format(tmp_file)"
      ]
    },
    {
      "cell_type": "code",
      "execution_count": 77,
      "metadata": {
        "id": "hgXasxGdUEoa"
      },
      "outputs": [],
      "source": [
        "glove_model.add([\"<oov>\", \"<pad>\"], [np.zeros(100), np.zeros(100)])"
      ]
    },
    {
      "cell_type": "markdown",
      "source": [
        "## Siamese Network"
      ],
      "metadata": {
        "id": "9UGSzxoYHHb4"
      }
    },
    {
      "cell_type": "code",
      "source": [
        "import tensorflow.keras as keras\n",
        "import keras.backend as K\n",
        "from keras.layers import Bidirectional, LSTM, Lambda, Dense, Concatenate, Dot\n",
        "from keras.models import Sequential\n",
        "\n",
        "class Siamese(keras.Model):\n",
        "  # Source: https://towardsdatascience.com/quora-question-pairs-detecting-text-similarity-using-siamese-networks-a370f039731b\n",
        "\n",
        "  def __init__(self, embedding_model, lstm_units=64, bidirectional_enable=True, merging_type=0):\n",
        "    super().__init__()\n",
        "    self.embedding_model = embedding_model\n",
        "\n",
        "    self.embedding_layer = self.embedding_model.get_keras_embedding()\n",
        "\n",
        "    self.lstm_layer = LSTM(lstm_units, dropout=0.2, recurrent_dropout=0.2)\n",
        "\n",
        "    self.merging_type = merging_type\n",
        "\n",
        "    if bidirectional_enable:\n",
        "      self.lstm_layer = Bidirectional(self.lstm_layer)\n",
        "    \n",
        "    if merging_type==0:   \n",
        "      self.distance_layer = Lambda(function=lambda x: K.abs(x[0] - x[1]), output_shape=lambda x: x[0])\n",
        "      self.output_layer = Dense(1, activation='sigmoid')\n",
        "\n",
        "    elif merging_type==1:\n",
        "      self.concatenate = Concatenate()\n",
        "      self.output_layer = Dense(1, activation='sigmoid')\n",
        "\n",
        "    elif merging_type==2:\n",
        "      self.output_layer = Dot(axes=1, normalize=True)\n",
        "\n",
        "  def text_embedding(self, texts):\n",
        "    word_embedding = self.embedding_layer(texts)\n",
        "    return self.lstm_layer(word_embedding)\n",
        "\n",
        "  def merge(self, texts1_embedding, texts2_embedding):\n",
        "    if self.merging_type==0:\n",
        "      x = self.distance_layer([texts1_embedding, texts2_embedding])\n",
        "      return self.output_layer(x)\n",
        "    elif self.merging_type==1:\n",
        "      x = self.concatenate([texts1_embedding, texts2_embedding])\n",
        "      return self.output_layer(x)\n",
        "    elif self.merging_type==2:\n",
        "      return self.output_layer([texts1_embedding, texts2_embedding])\n",
        "\n",
        "  def call(self, inputs):\n",
        "    texts1, texts2 = inputs\n",
        "\n",
        "    texts1_embedding = self.text_embedding(texts1)\n",
        "    texts2_embedding = self.text_embedding(texts2)\n",
        "\n",
        "    return self.merge(texts1_embedding, texts2_embedding)"
      ],
      "metadata": {
        "id": "6XLOxjnhfZ42"
      },
      "execution_count": 40,
      "outputs": []
    },
    {
      "cell_type": "markdown",
      "source": [
        "## Siamese Recommender"
      ],
      "metadata": {
        "id": "VTBsn2ldHUId"
      }
    },
    {
      "cell_type": "code",
      "execution_count": null,
      "metadata": {
        "id": "DytGCH9GuT0Z"
      },
      "outputs": [],
      "source": [
        "from keras.utils.data_utils import zipfile\n",
        "from numpy import dot\n",
        "from numpy.linalg import norm\n",
        "\n",
        "class SiameseRecommender():\n",
        "\n",
        "  def __init__(self, preprocess, number_recommendation,\n",
        "               siamese_model, embedding_model):\n",
        "    self.preprocess = preprocess\n",
        "    self.number_recommendation = number_recommendation\n",
        "    self.search_space = None\n",
        "    self.siamese_model = siamese_model\n",
        "    self.embedding_model = embedding_model\n",
        "\n",
        "  def calculate_train_embedding(self, dataset):\n",
        "\n",
        "    self.search_space = list()\n",
        "    self.train_matrix = None\n",
        "\n",
        "    indexes = []\n",
        "    for i, data in enumerate(dataset):\n",
        "      if i%1000==0: print(f\"{i*100//len(dataset)}%\", end=\" \")\n",
        "      text = data[\"text\"]\n",
        "      qid = data[\"qid\"]\n",
        "      index = tokenize(text, self.embedding_model)\n",
        "      indexes.append(index)\n",
        "      self.search_space.append({\"qid\": qid, \"text\":text})\n",
        "\n",
        "    self.train_matrix = self.siamese_model.text_embedding(tf.constant(indexes))\n",
        "\n",
        "  def recommend(self, text):\n",
        "    test_indexes = tokenize(text, self.embedding_model)\n",
        "\n",
        "    test_vector = self.siamese_model.text_embedding(tf.convert_to_tensor([test_indexes]))\n",
        "\n",
        "    test_matrix = tf.tile(test_vector, (self.train_matrix.shape[0], 1))\n",
        "\n",
        "    similarities = self.siamese_model.merge(self.train_matrix, test_matrix)  \n",
        "\n",
        "    most_similar_index = np.argsort(-(similarities.numpy().squeeze()))[:self.number_recommendation]\n",
        "\n",
        "    output = []\n",
        "\n",
        "    for index in most_similar_index:\n",
        "      output.append({\"qid\": self.search_space[index][\"qid\"],\n",
        "                     \"text\": self.search_space[index][\"text\"],\n",
        "                     \"similarity\": similarities[index][0]})\n",
        "\n",
        "    return output"
      ]
    },
    {
      "cell_type": "code",
      "execution_count": null,
      "metadata": {
        "id": "lhJZoZJsDlEH"
      },
      "outputs": [],
      "source": [
        "train_dataset_siamese = list()\n",
        "\n",
        "qid_set = set()\n",
        "\n",
        "for i, data in train_dataset.iterrows():\n",
        "  qid = data[\"qid2\"]\n",
        "  if qid not in qid_set:\n",
        "    qid_set.add(qid)\n",
        "    train_dataset_siamese.append({\"text\": data[\"question2\"], \"qid\": qid})"
      ]
    },
    {
      "cell_type": "markdown",
      "source": [
        "## Select Model"
      ],
      "metadata": {
        "id": "b3wNqmSNmtF7"
      }
    },
    {
      "cell_type": "markdown",
      "source": [
        "### Word Embedding"
      ],
      "metadata": {
        "id": "oRG1QA8hm_g4"
      }
    },
    {
      "cell_type": "markdown",
      "source": [
        "#### Word2Vec"
      ],
      "metadata": {
        "id": "ZClZAWqho343"
      }
    },
    {
      "cell_type": "code",
      "source": [
        "embedding_model = word2vec_model\n",
        "\n",
        "dataset_train_input1, dataset_train_input2, dataset_train_label = convert_dataset_to_tf_format(train_dataset, embedding_model)\n",
        "dataset_test_input1, dataset_test_input2, dataset_test_label = convert_dataset_to_tf_format(test_dataset, embedding_model)\n",
        "dataset_valid_input1, dataset_valid_input2, dataset_valid_label = convert_dataset_to_tf_format(valid_dataset, embedding_model)\n",
        "\n",
        "model = Siamese(embedding_model=embedding_model, bidirectional_enable=True, merging_type=2)\n",
        "\n",
        "es_callback = tf.keras.callbacks.EarlyStopping(monitor=\"val_loss\", patience=2, restore_best_weights=True)\n",
        "model.compile(loss='binary_crossentropy', optimizer='adam', metrics=[\"accuracy\"])\n",
        "\n",
        "history = model.fit([dataset_train_input1, dataset_train_input2],\n",
        "                  dataset_train_label,\n",
        "                  validation_data=([dataset_valid_input1, dataset_valid_input2], dataset_valid_label),\n",
        "                  epochs=10, callbacks=[es_callback])\n",
        "\n",
        "model.evaluate([dataset_test_input1, dataset_test_input2], dataset_test_label)"
      ],
      "metadata": {
        "colab": {
          "base_uri": "https://localhost:8080/"
        },
        "id": "J1c3yuUtT7p4",
        "outputId": "a14a9c67-a44d-4190-b1ff-5a54a0aed063"
      },
      "execution_count": 69,
      "outputs": [
        {
          "metadata": {
            "tags": null
          },
          "name": "stderr",
          "output_type": "stream",
          "text": [
            "WARNING:tensorflow:Layer lstm_5 will not use cuDNN kernels since it doesn't meet the criteria. It will use a generic GPU kernel as fallback when running on GPU.\n",
            "WARNING:tensorflow:Layer lstm_5 will not use cuDNN kernels since it doesn't meet the criteria. It will use a generic GPU kernel as fallback when running on GPU.\n",
            "WARNING:tensorflow:Layer lstm_5 will not use cuDNN kernels since it doesn't meet the criteria. It will use a generic GPU kernel as fallback when running on GPU.\n"
          ]
        },
        {
          "output_type": "stream",
          "name": "stdout",
          "text": [
            "Epoch 1/10\n",
            "1165/1165 [==============================] - 991s 843ms/step - loss: 0.4265 - accuracy: 0.8282 - val_loss: 0.3129 - val_accuracy: 0.9129\n",
            "Epoch 2/10\n",
            "1165/1165 [==============================] - 972s 834ms/step - loss: 0.3689 - accuracy: 0.8521 - val_loss: 0.2858 - val_accuracy: 0.9158\n",
            "Epoch 3/10\n",
            "1165/1165 [==============================] - 969s 832ms/step - loss: 0.3460 - accuracy: 0.8597 - val_loss: 0.2482 - val_accuracy: 0.9218\n",
            "Epoch 4/10\n",
            "1165/1165 [==============================] - 958s 822ms/step - loss: 0.3075 - accuracy: 0.8828 - val_loss: 0.2571 - val_accuracy: 0.9218\n",
            "Epoch 5/10\n",
            "1165/1165 [==============================] - 957s 822ms/step - loss: 0.2878 - accuracy: 0.8913 - val_loss: 0.2558 - val_accuracy: 0.9356\n",
            "31/31 [==============================] - 3s 100ms/step - loss: 0.1172 - accuracy: 0.9918\n"
          ]
        },
        {
          "output_type": "execute_result",
          "data": {
            "text/plain": [
              "[0.11721412092447281, 0.9918367266654968]"
            ]
          },
          "metadata": {},
          "execution_count": 69
        }
      ]
    },
    {
      "cell_type": "code",
      "source": [
        "siamese_recommender = SiameseRecommender(preprocess=preprocess,\n",
        "                                         number_recommendation=10,\n",
        "                                         siamese_model=model,\n",
        "                                         embedding_model=embedding_model)"
      ],
      "metadata": {
        "id": "JdFCTiaPHndw"
      },
      "execution_count": null,
      "outputs": []
    },
    {
      "cell_type": "code",
      "source": [
        "siamese_recommender.calculate_train_embedding(train_dataset_siamese)"
      ],
      "metadata": {
        "colab": {
          "base_uri": "https://localhost:8080/"
        },
        "outputId": "6990e454-1bc9-4a93-9db3-3e2af189dec3",
        "id": "I88nSmlpHndx"
      },
      "execution_count": null,
      "outputs": [
        {
          "output_type": "stream",
          "name": "stdout",
          "text": [
            "0% 6% 12% 18% 24% 30% 36% 42% 48% 54% 60% 66% 72% 78% 84% 90% 96% "
          ]
        }
      ]
    },
    {
      "cell_type": "code",
      "source": [
        "evaluator = Evaluator(siamese_recommender)\n",
        "evaluator.evaluation_report(dataset=test_dataset_evaluation)"
      ],
      "metadata": {
        "colab": {
          "base_uri": "https://localhost:8080/"
        },
        "id": "RaoBmNKim4d0",
        "outputId": "344ed742-69a8-468e-f882-84016261075c"
      },
      "execution_count": 75,
      "outputs": [
        {
          "output_type": "stream",
          "name": "stdout",
          "text": [
            "Evaluation Summary:\n",
            "P@5  = 23.97%\n",
            "P@10 = 16.71%\n",
            "MAP  = 17.35%\n",
            "MRR  = 47.63%\n"
          ]
        }
      ]
    },
    {
      "cell_type": "markdown",
      "source": [
        "#### FastText"
      ],
      "metadata": {
        "id": "TU8D0yjJo-16"
      }
    },
    {
      "cell_type": "code",
      "source": [
        "embedding_model = fasttext_model\n",
        "\n",
        "dataset_train_input1, dataset_train_input2, dataset_train_label = convert_dataset_to_tf_format(train_dataset, embedding_model)\n",
        "dataset_test_input1, dataset_test_input2, dataset_test_label = convert_dataset_to_tf_format(test_dataset, embedding_model)\n",
        "dataset_valid_input1, dataset_valid_input2, dataset_valid_label = convert_dataset_to_tf_format(valid_dataset, embedding_model)\n",
        "\n",
        "model = Siamese(embedding_model=embedding_model, bidirectional_enable=True, merging_type=2)\n",
        "\n",
        "es_callback = tf.keras.callbacks.EarlyStopping(monitor=\"val_loss\", patience=2, restore_best_weights=True)\n",
        "model.compile(loss='binary_crossentropy', optimizer='adam', metrics=[\"accuracy\"])\n",
        "\n",
        "history = model.fit([dataset_train_input1, dataset_train_input2],\n",
        "                  dataset_train_label,\n",
        "                  validation_data=([dataset_valid_input1, dataset_valid_input2], dataset_valid_label),\n",
        "                  epochs=10, callbacks=[es_callback])\n",
        "\n",
        "model.evaluate([dataset_test_input1, dataset_test_input2], dataset_test_label)"
      ],
      "metadata": {
        "id": "JXyDq2NWYpXG",
        "outputId": "d6eede45-9411-4c19-af9c-3c724d736049",
        "colab": {
          "base_uri": "https://localhost:8080/"
        }
      },
      "execution_count": null,
      "outputs": [
        {
          "metadata": {
            "tags": null
          },
          "name": "stderr",
          "output_type": "stream",
          "text": [
            "WARNING:tensorflow:Layer lstm will not use cuDNN kernels since it doesn't meet the criteria. It will use a generic GPU kernel as fallback when running on GPU.\n",
            "WARNING:tensorflow:Layer lstm will not use cuDNN kernels since it doesn't meet the criteria. It will use a generic GPU kernel as fallback when running on GPU.\n",
            "WARNING:tensorflow:Layer lstm will not use cuDNN kernels since it doesn't meet the criteria. It will use a generic GPU kernel as fallback when running on GPU.\n"
          ]
        },
        {
          "output_type": "stream",
          "name": "stdout",
          "text": [
            "Epoch 1/10\n",
            "1165/1165 [==============================] - 966s 818ms/step - loss: 0.4278 - accuracy: 0.8255 - val_loss: 0.3907 - val_accuracy: 0.8980\n",
            "Epoch 2/10\n",
            "1165/1165 [==============================] - 937s 804ms/step - loss: 0.4150 - accuracy: 0.8371 - val_loss: 0.3448 - val_accuracy: 0.8990\n",
            "Epoch 3/10\n",
            "1165/1165 [==============================] - 925s 794ms/step - loss: 0.4427 - accuracy: 0.8243 - val_loss: 0.3337 - val_accuracy: 0.8941\n",
            "Epoch 4/10\n",
            "1165/1165 [==============================] - 925s 794ms/step - loss: 0.3738 - accuracy: 0.8481 - val_loss: 0.2773 - val_accuracy: 0.9129\n",
            "Epoch 5/10\n",
            "1165/1165 [==============================] - 923s 793ms/step - loss: 0.3384 - accuracy: 0.8686 - val_loss: 0.3226 - val_accuracy: 0.8990\n",
            "Epoch 6/10\n",
            "1165/1165 [==============================] - 922s 791ms/step - loss: 0.3272 - accuracy: 0.8730 - val_loss: 0.2675 - val_accuracy: 0.9099\n",
            "Epoch 7/10\n",
            "1165/1165 [==============================] - 916s 786ms/step - loss: 0.3582 - accuracy: 0.8555 - val_loss: 0.2856 - val_accuracy: 0.9079\n",
            "Epoch 8/10\n",
            "1165/1165 [==============================] - 921s 790ms/step - loss: 0.3028 - accuracy: 0.8849 - val_loss: 0.2491 - val_accuracy: 0.9040\n",
            "Epoch 9/10\n",
            "1165/1165 [==============================] - 920s 789ms/step - loss: 0.2868 - accuracy: 0.8928 - val_loss: 0.2336 - val_accuracy: 0.9178\n",
            "Epoch 10/10\n",
            "1165/1165 [==============================] - 915s 785ms/step - loss: 0.2870 - accuracy: 0.8959 - val_loss: 0.2430 - val_accuracy: 0.9198\n",
            "31/31 [==============================] - 3s 95ms/step - loss: 0.1853 - accuracy: 0.9684\n"
          ]
        },
        {
          "output_type": "execute_result",
          "data": {
            "text/plain": [
              "[0.18534262478351593, 0.968367338180542]"
            ]
          },
          "metadata": {},
          "execution_count": 14
        }
      ]
    },
    {
      "cell_type": "code",
      "source": [
        "siamese_recommender = SiameseRecommender(preprocess=preprocess,\n",
        "                                         number_recommendation=10,\n",
        "                                         siamese_model=model,\n",
        "                                         embedding_model=embedding_model)"
      ],
      "metadata": {
        "id": "Yh0SF-T1HlK5"
      },
      "execution_count": null,
      "outputs": []
    },
    {
      "cell_type": "code",
      "source": [
        "siamese_recommender.calculate_train_embedding(train_dataset_siamese)"
      ],
      "metadata": {
        "colab": {
          "base_uri": "https://localhost:8080/"
        },
        "outputId": "6990e454-1bc9-4a93-9db3-3e2af189dec3",
        "id": "JSFwcymdHlK7"
      },
      "execution_count": null,
      "outputs": [
        {
          "output_type": "stream",
          "name": "stdout",
          "text": [
            "0% 6% 12% 18% 24% 30% 36% 42% 48% 54% 60% 66% 72% 78% 84% 90% 96% "
          ]
        }
      ]
    },
    {
      "cell_type": "code",
      "source": [
        "evaluator = Evaluator(siamese_recommender)\n",
        "evaluator.evaluation_report(dataset=test_dataset_evaluation)"
      ],
      "metadata": {
        "id": "LFNOnOSiyJfh",
        "outputId": "cbb6950e-fc89-486e-b22a-4fecf78fe61e",
        "colab": {
          "base_uri": "https://localhost:8080/"
        }
      },
      "execution_count": null,
      "outputs": [
        {
          "output_type": "stream",
          "name": "stdout",
          "text": [
            "Evaluation Summary:\n",
            "P@5  = 16.16%\n",
            "P@10 = 12.4%\n",
            "MAP  = 11.35%\n",
            "MRR  = 37.85%\n"
          ]
        }
      ]
    },
    {
      "cell_type": "markdown",
      "source": [
        "#### GloVe"
      ],
      "metadata": {
        "id": "8CPczJdWpHkU"
      }
    },
    {
      "cell_type": "code",
      "source": [
        "embedding_model = glove_model\n",
        "\n",
        "dataset_train_input1, dataset_train_input2, dataset_train_label = convert_dataset_to_tf_format(train_dataset, embedding_model)\n",
        "dataset_test_input1, dataset_test_input2, dataset_test_label = convert_dataset_to_tf_format(test_dataset, embedding_model)\n",
        "dataset_valid_input1, dataset_valid_input2, dataset_valid_label = convert_dataset_to_tf_format(valid_dataset, embedding_model)\n",
        "\n",
        "model = Siamese(embedding_model=embedding_model, bidirectional_enable=True, merging_type=2)\n",
        "\n",
        "es_callback = tf.keras.callbacks.EarlyStopping(monitor=\"val_loss\", patience=2, restore_best_weights=True)\n",
        "model.compile(loss='binary_crossentropy', optimizer='adam', metrics=[\"accuracy\"])\n",
        "\n",
        "history = model.fit([dataset_train_input1, dataset_train_input2],\n",
        "                  dataset_train_label,\n",
        "                  validation_data=([dataset_valid_input1, dataset_valid_input2], dataset_valid_label),\n",
        "                  epochs=10, callbacks=[es_callback])\n",
        "\n",
        "model.evaluate([dataset_test_input1, dataset_test_input2], dataset_test_label)"
      ],
      "metadata": {
        "colab": {
          "base_uri": "https://localhost:8080/"
        },
        "id": "HlegYNGTpJ1r",
        "outputId": "6171ceb5-818f-4e9c-8a97-242507e2add9"
      },
      "execution_count": 78,
      "outputs": [
        {
          "output_type": "stream",
          "name": "stderr",
          "text": [
            "WARNING:tensorflow:Layer lstm_6 will not use cuDNN kernels since it doesn't meet the criteria. It will use a generic GPU kernel as fallback when running on GPU.\n",
            "WARNING:tensorflow:Layer lstm_6 will not use cuDNN kernels since it doesn't meet the criteria. It will use a generic GPU kernel as fallback when running on GPU.\n",
            "WARNING:tensorflow:Layer lstm_6 will not use cuDNN kernels since it doesn't meet the criteria. It will use a generic GPU kernel as fallback when running on GPU.\n"
          ]
        },
        {
          "output_type": "stream",
          "name": "stdout",
          "text": [
            "Epoch 1/10\n",
            "1165/1165 [==============================] - 993s 845ms/step - loss: 0.4083 - accuracy: 0.8331 - val_loss: 0.2891 - val_accuracy: 0.9099\n",
            "Epoch 2/10\n",
            "1165/1165 [==============================] - 1004s 862ms/step - loss: 0.3359 - accuracy: 0.8656 - val_loss: 0.2430 - val_accuracy: 0.9238\n",
            "Epoch 3/10\n",
            "1165/1165 [==============================] - 972s 834ms/step - loss: 0.3095 - accuracy: 0.8813 - val_loss: 0.2415 - val_accuracy: 0.9297\n",
            "Epoch 4/10\n",
            "1165/1165 [==============================] - 970s 833ms/step - loss: 0.2836 - accuracy: 0.8921 - val_loss: 0.2421 - val_accuracy: 0.9297\n",
            "Epoch 5/10\n",
            "1165/1165 [==============================] - 970s 833ms/step - loss: 0.2651 - accuracy: 0.9057 - val_loss: 0.2229 - val_accuracy: 0.9287\n",
            "Epoch 6/10\n",
            "1165/1165 [==============================] - 965s 828ms/step - loss: 0.2464 - accuracy: 0.9122 - val_loss: 0.2329 - val_accuracy: 0.9238\n",
            "Epoch 7/10\n",
            "1165/1165 [==============================] - 964s 828ms/step - loss: 0.2383 - accuracy: 0.9164 - val_loss: 0.2345 - val_accuracy: 0.9317\n",
            "31/31 [==============================] - 3s 99ms/step - loss: 0.1131 - accuracy: 0.9735\n"
          ]
        },
        {
          "output_type": "execute_result",
          "data": {
            "text/plain": [
              "[0.11309739947319031, 0.9734693765640259]"
            ]
          },
          "metadata": {},
          "execution_count": 78
        }
      ]
    },
    {
      "cell_type": "code",
      "source": [
        "siamese_recommender = SiameseRecommender(preprocess=preprocess,\n",
        "                                         number_recommendation=10,\n",
        "                                         siamese_model=model,\n",
        "                                         embedding_model=embedding_model)"
      ],
      "metadata": {
        "id": "O3Xck2mdxx0U"
      },
      "execution_count": 79,
      "outputs": []
    },
    {
      "cell_type": "code",
      "source": [
        "siamese_recommender.calculate_train_embedding(train_dataset_siamese)"
      ],
      "metadata": {
        "colab": {
          "base_uri": "https://localhost:8080/"
        },
        "id": "ScC9d5_sxzi6",
        "outputId": "6990e454-1bc9-4a93-9db3-3e2af189dec3"
      },
      "execution_count": 80,
      "outputs": [
        {
          "output_type": "stream",
          "name": "stdout",
          "text": [
            "0% 6% 12% 18% 24% 30% 36% 42% 48% 54% 60% 66% 72% 78% 84% 90% 96% "
          ]
        }
      ]
    },
    {
      "cell_type": "code",
      "source": [
        "evaluator = Evaluator(siamese_recommender)\n",
        "evaluator.evaluation_report(dataset=test_dataset_evaluation)"
      ],
      "metadata": {
        "colab": {
          "base_uri": "https://localhost:8080/"
        },
        "id": "4esYJVUvxn3h",
        "outputId": "6388d7ec-7f35-4cbd-dae4-4ddacd334ee5"
      },
      "execution_count": 81,
      "outputs": [
        {
          "output_type": "stream",
          "name": "stdout",
          "text": [
            "Evaluation Summary:\n",
            "P@5  = 30.27%\n",
            "P@10 = 21.99%\n",
            "MAP  = 22.22%\n",
            "MRR  = 54.33%\n"
          ]
        }
      ]
    },
    {
      "cell_type": "markdown",
      "source": [
        "### Merging Strategy"
      ],
      "metadata": {
        "id": "NrcltjZ6Hvwr"
      }
    },
    {
      "cell_type": "markdown",
      "source": [
        "#### Distance"
      ],
      "metadata": {
        "id": "H0sTNoq2H2S9"
      }
    },
    {
      "cell_type": "code",
      "source": [
        "embedding_model = glove_model\n",
        "\n",
        "dataset_train_input1, dataset_train_input2, dataset_train_label = convert_dataset_to_tf_format(train_dataset, embedding_model)\n",
        "dataset_test_input1, dataset_test_input2, dataset_test_label = convert_dataset_to_tf_format(test_dataset, embedding_model)\n",
        "dataset_valid_input1, dataset_valid_input2, dataset_valid_label = convert_dataset_to_tf_format(valid_dataset, embedding_model)\n",
        "\n",
        "model = Siamese(embedding_model=embedding_model, bidirectional_enable=True, merging_type=0)\n",
        "\n",
        "es_callback = tf.keras.callbacks.EarlyStopping(monitor=\"val_loss\", patience=2, restore_best_weights=True)\n",
        "model.compile(loss='binary_crossentropy', optimizer='adam', metrics=[\"accuracy\"])\n",
        "\n",
        "history = model.fit([dataset_train_input1, dataset_train_input2],\n",
        "                  dataset_train_label,\n",
        "                  validation_data=([dataset_valid_input1, dataset_valid_input2], dataset_valid_label),\n",
        "                  epochs=10, callbacks=[es_callback])\n",
        "\n",
        "model.evaluate([dataset_test_input1, dataset_test_input2], dataset_test_label)"
      ],
      "metadata": {
        "colab": {
          "base_uri": "https://localhost:8080/"
        },
        "outputId": "a5fddc2f-9020-4d65-a72e-0783bd0c4ab6",
        "id": "ZF-UtY1FIHeo"
      },
      "execution_count": null,
      "outputs": [
        {
          "output_type": "stream",
          "name": "stderr",
          "text": [
            "WARNING:tensorflow:Layer lstm_7 will not use cuDNN kernels since it doesn't meet the criteria. It will use a generic GPU kernel as fallback when running on GPU.\n",
            "WARNING:tensorflow:Layer lstm_7 will not use cuDNN kernels since it doesn't meet the criteria. It will use a generic GPU kernel as fallback when running on GPU.\n",
            "WARNING:tensorflow:Layer lstm_7 will not use cuDNN kernels since it doesn't meet the criteria. It will use a generic GPU kernel as fallback when running on GPU.\n"
          ]
        },
        {
          "output_type": "stream",
          "name": "stdout",
          "text": [
            "Epoch 1/10\n",
            "  96/1165 [=>............................] - ETA: 18:53 - loss: 0.5407 - accuracy: 0.7933"
          ]
        }
      ]
    },
    {
      "cell_type": "code",
      "source": [
        "siamese_recommender = SiameseRecommender(preprocess=preprocess,\n",
        "                                         number_recommendation=10,\n",
        "                                         siamese_model=model,\n",
        "                                         embedding_model=embedding_model)"
      ],
      "metadata": {
        "id": "2oMUho0XIHep"
      },
      "execution_count": null,
      "outputs": []
    },
    {
      "cell_type": "code",
      "source": [
        "siamese_recommender.calculate_train_embedding(train_dataset_siamese)"
      ],
      "metadata": {
        "id": "ls-qktkEIHeq"
      },
      "execution_count": null,
      "outputs": []
    },
    {
      "cell_type": "code",
      "source": [
        "evaluator = Evaluator(siamese_recommender)\n",
        "evaluator.evaluation_report(dataset=test_dataset_evaluation)"
      ],
      "metadata": {
        "id": "BbCrWg87IHeq"
      },
      "execution_count": null,
      "outputs": []
    },
    {
      "cell_type": "markdown",
      "source": [
        "#### Concatenate"
      ],
      "metadata": {
        "id": "Ff8C8wMOH8wO"
      }
    },
    {
      "cell_type": "code",
      "source": [
        "embedding_model = glove_model\n",
        "\n",
        "dataset_train_input1, dataset_train_input2, dataset_train_label = convert_dataset_to_tf_format(train_dataset, embedding_model)\n",
        "dataset_test_input1, dataset_test_input2, dataset_test_label = convert_dataset_to_tf_format(test_dataset, embedding_model)\n",
        "dataset_valid_input1, dataset_valid_input2, dataset_valid_label = convert_dataset_to_tf_format(valid_dataset, embedding_model)\n",
        "\n",
        "model = Siamese(embedding_model=embedding_model, bidirectional_enable=True, merging_type=1)\n",
        "\n",
        "es_callback = tf.keras.callbacks.EarlyStopping(monitor=\"val_loss\", patience=2, restore_best_weights=True)\n",
        "model.compile(loss='binary_crossentropy', optimizer='adam', metrics=[\"accuracy\"])\n",
        "\n",
        "history = model.fit([dataset_train_input1, dataset_train_input2],\n",
        "                  dataset_train_label,\n",
        "                  validation_data=([dataset_valid_input1, dataset_valid_input2], dataset_valid_label),\n",
        "                  epochs=10, callbacks=[es_callback])\n",
        "\n",
        "model.evaluate([dataset_test_input1, dataset_test_input2], dataset_test_label)"
      ],
      "metadata": {
        "id": "GuR5r-zuIWGq"
      },
      "execution_count": null,
      "outputs": []
    },
    {
      "cell_type": "code",
      "source": [
        "siamese_recommender = SiameseRecommender(preprocess=preprocess,\n",
        "                                         number_recommendation=10,\n",
        "                                         siamese_model=model,\n",
        "                                         embedding_model=embedding_model)"
      ],
      "metadata": {
        "id": "EYjeSk35IWGs"
      },
      "execution_count": null,
      "outputs": []
    },
    {
      "cell_type": "code",
      "source": [
        "siamese_recommender.calculate_train_embedding(train_dataset_siamese)"
      ],
      "metadata": {
        "id": "PvHJ37_ZIWGt"
      },
      "execution_count": null,
      "outputs": []
    },
    {
      "cell_type": "code",
      "source": [
        "evaluator = Evaluator(siamese_recommender)\n",
        "evaluator.evaluation_report(dataset=test_dataset_evaluation)"
      ],
      "metadata": {
        "id": "btdh6LclIWGt"
      },
      "execution_count": null,
      "outputs": []
    },
    {
      "cell_type": "markdown",
      "source": [
        "#### Cosine"
      ],
      "metadata": {
        "id": "eVwTBO-UH-zJ"
      }
    },
    {
      "cell_type": "code",
      "source": [
        "embedding_model = glove_model\n",
        "\n",
        "dataset_train_input1, dataset_train_input2, dataset_train_label = convert_dataset_to_tf_format(train_dataset, embedding_model)\n",
        "dataset_test_input1, dataset_test_input2, dataset_test_label = convert_dataset_to_tf_format(test_dataset, embedding_model)\n",
        "dataset_valid_input1, dataset_valid_input2, dataset_valid_label = convert_dataset_to_tf_format(valid_dataset, embedding_model)\n",
        "\n",
        "model = Siamese(embedding_model=embedding_model, bidirectional_enable=True, merging_type=2)\n",
        "\n",
        "es_callback = tf.keras.callbacks.EarlyStopping(monitor=\"val_loss\", patience=2, restore_best_weights=True)\n",
        "model.compile(loss='binary_crossentropy', optimizer='adam', metrics=[\"accuracy\"])\n",
        "\n",
        "history = model.fit([dataset_train_input1, dataset_train_input2],\n",
        "                  dataset_train_label,\n",
        "                  validation_data=([dataset_valid_input1, dataset_valid_input2], dataset_valid_label),\n",
        "                  epochs=10, callbacks=[es_callback])\n",
        "\n",
        "model.evaluate([dataset_test_input1, dataset_test_input2], dataset_test_label)"
      ],
      "metadata": {
        "colab": {
          "base_uri": "https://localhost:8080/"
        },
        "outputId": "6171ceb5-818f-4e9c-8a97-242507e2add9",
        "id": "DadYxnr2Ir_Z"
      },
      "execution_count": null,
      "outputs": [
        {
          "output_type": "stream",
          "name": "stderr",
          "text": [
            "WARNING:tensorflow:Layer lstm_6 will not use cuDNN kernels since it doesn't meet the criteria. It will use a generic GPU kernel as fallback when running on GPU.\n",
            "WARNING:tensorflow:Layer lstm_6 will not use cuDNN kernels since it doesn't meet the criteria. It will use a generic GPU kernel as fallback when running on GPU.\n",
            "WARNING:tensorflow:Layer lstm_6 will not use cuDNN kernels since it doesn't meet the criteria. It will use a generic GPU kernel as fallback when running on GPU.\n"
          ]
        },
        {
          "output_type": "stream",
          "name": "stdout",
          "text": [
            "Epoch 1/10\n",
            "1165/1165 [==============================] - 993s 845ms/step - loss: 0.4083 - accuracy: 0.8331 - val_loss: 0.2891 - val_accuracy: 0.9099\n",
            "Epoch 2/10\n",
            "1165/1165 [==============================] - 1004s 862ms/step - loss: 0.3359 - accuracy: 0.8656 - val_loss: 0.2430 - val_accuracy: 0.9238\n",
            "Epoch 3/10\n",
            "1165/1165 [==============================] - 972s 834ms/step - loss: 0.3095 - accuracy: 0.8813 - val_loss: 0.2415 - val_accuracy: 0.9297\n",
            "Epoch 4/10\n",
            "1165/1165 [==============================] - 970s 833ms/step - loss: 0.2836 - accuracy: 0.8921 - val_loss: 0.2421 - val_accuracy: 0.9297\n",
            "Epoch 5/10\n",
            "1165/1165 [==============================] - 970s 833ms/step - loss: 0.2651 - accuracy: 0.9057 - val_loss: 0.2229 - val_accuracy: 0.9287\n",
            "Epoch 6/10\n",
            "1165/1165 [==============================] - 965s 828ms/step - loss: 0.2464 - accuracy: 0.9122 - val_loss: 0.2329 - val_accuracy: 0.9238\n",
            "Epoch 7/10\n",
            "1165/1165 [==============================] - 964s 828ms/step - loss: 0.2383 - accuracy: 0.9164 - val_loss: 0.2345 - val_accuracy: 0.9317\n",
            "31/31 [==============================] - 3s 99ms/step - loss: 0.1131 - accuracy: 0.9735\n"
          ]
        },
        {
          "output_type": "execute_result",
          "data": {
            "text/plain": [
              "[0.11309739947319031, 0.9734693765640259]"
            ]
          },
          "metadata": {},
          "execution_count": 78
        }
      ]
    },
    {
      "cell_type": "code",
      "source": [
        "siamese_recommender = SiameseRecommender(preprocess=preprocess,\n",
        "                                         number_recommendation=10,\n",
        "                                         siamese_model=model,\n",
        "                                         embedding_model=embedding_model)"
      ],
      "metadata": {
        "id": "JvVeUthcIr_a"
      },
      "execution_count": null,
      "outputs": []
    },
    {
      "cell_type": "code",
      "source": [
        "siamese_recommender.calculate_train_embedding(train_dataset_siamese)"
      ],
      "metadata": {
        "colab": {
          "base_uri": "https://localhost:8080/"
        },
        "outputId": "6990e454-1bc9-4a93-9db3-3e2af189dec3",
        "id": "AQCREsXdIr_b"
      },
      "execution_count": null,
      "outputs": [
        {
          "output_type": "stream",
          "name": "stdout",
          "text": [
            "0% 6% 12% 18% 24% 30% 36% 42% 48% 54% 60% 66% 72% 78% 84% 90% 96% "
          ]
        }
      ]
    },
    {
      "cell_type": "code",
      "source": [
        "evaluator = Evaluator(siamese_recommender)\n",
        "evaluator.evaluation_report(dataset=test_dataset_evaluation)"
      ],
      "metadata": {
        "colab": {
          "base_uri": "https://localhost:8080/"
        },
        "outputId": "6388d7ec-7f35-4cbd-dae4-4ddacd334ee5",
        "id": "8os8TIU6Ir_b"
      },
      "execution_count": null,
      "outputs": [
        {
          "output_type": "stream",
          "name": "stdout",
          "text": [
            "Evaluation Summary:\n",
            "P@5  = 30.27%\n",
            "P@10 = 21.99%\n",
            "MAP  = 22.22%\n",
            "MRR  = 54.33%\n"
          ]
        }
      ]
    },
    {
      "cell_type": "markdown",
      "metadata": {
        "id": "VnGfbqc4bg-D"
      },
      "source": [
        "# Evaluation"
      ]
    },
    {
      "cell_type": "code",
      "execution_count": 70,
      "metadata": {
        "id": "caUHuzrhv7px"
      },
      "outputs": [],
      "source": [
        "class Evaluator():\n",
        "  def __init__(self, recommender):\n",
        "    self.recommender = recommender\n",
        "\n",
        "  def evaluate_p_at_n(self, dataset, n):\n",
        "    precision = 0\n",
        "    \n",
        "    for data in dataset:\n",
        "      text = data[\"text\"]\n",
        "      positive_qids = data[\"positive_qids\"]\n",
        "    \n",
        "      outputs = self.recommender.recommend(text)\n",
        "\n",
        "      matched_number = 0\n",
        "\n",
        "      for i in range(n):\n",
        "        qid = outputs[i][\"qid\"]\n",
        "\n",
        "        if qid in positive_qids:\n",
        "          matched_number += 1\n",
        "\n",
        "      precision += matched_number/n\n",
        "\n",
        "    return precision / len(dataset)\n",
        "\n",
        "  def evaluate_map(self, dataset):\n",
        "    sum_ap = 0\n",
        "    for data in dataset:    \n",
        "      ap = self._evaluate_ap(data)\n",
        "      sum_ap += ap\n",
        "\n",
        "    map = sum_ap / len(dataset)\n",
        "    return map\n",
        "\n",
        "  def _evaluate_ap(self, data):\n",
        "    text = data[\"text\"]\n",
        "    positive_qids = data[\"positive_qids\"]\n",
        "\n",
        "    outputs = self.recommender.recommend(text)\n",
        "\n",
        "    matched_number = 0\n",
        "    sum_precision = 0\n",
        "    for i, output in enumerate(outputs):\n",
        "      if output[\"qid\"] in positive_qids:\n",
        "        matched_number += 1\n",
        "\n",
        "        precision = matched_number / (i+1)\n",
        "        sum_precision += precision\n",
        "    \n",
        "    return sum_precision / len(positive_qids)\n",
        "\n",
        "  def evaluate_mrr(self, dataset):\n",
        "    sum_rr = 0\n",
        "    for data in dataset:    \n",
        "      rr = self._evaluate_rr(data)\n",
        "      sum_rr += rr\n",
        "\n",
        "    mrr = sum_rr / len(dataset)\n",
        "    return mrr\n",
        "\n",
        "  def _evaluate_rr(self, data):\n",
        "    text = data[\"text\"]\n",
        "    positive_qids = data[\"positive_qids\"]\n",
        "\n",
        "    outputs = self.recommender.recommend(text)\n",
        "\n",
        "    for i, output in enumerate(outputs):\n",
        "      if output[\"qid\"] in positive_qids:\n",
        "        return 1 / (i+1)\n",
        "    \n",
        "    return 0\n",
        "  \n",
        "  def evaluation_report(self, dataset):\n",
        "    print(\"Evaluation Summary:\")\n",
        "    print(f\"P@5  = {round(self.evaluate_p_at_n(dataset=dataset, n=5)*100, 2)}%\")\n",
        "    print(f\"P@10 = {round(self.evaluate_p_at_n(dataset=dataset, n=10)*100, 2)}%\")\n",
        "    print(f\"MAP  = {round(self.evaluate_map(dataset=dataset)*100, 2)}%\")\n",
        "    print(f\"MRR  = {round(self.evaluate_mrr(dataset=dataset)*100, 2)}%\")"
      ]
    },
    {
      "cell_type": "markdown",
      "metadata": {
        "id": "jKFTPPMEtaoZ"
      },
      "source": [
        "# Test"
      ]
    },
    {
      "cell_type": "code",
      "execution_count": 19,
      "metadata": {
        "id": "ineA6HKIC8P8"
      },
      "outputs": [],
      "source": [
        "qid_set = set(test_dataset[\"qid1\"].values)\n",
        "\n",
        "test_dataset_evaluation = []\n",
        "\n",
        "for qid in qid_set:\n",
        "\n",
        "  qid_test_dataset = test_dataset[test_dataset[\"qid1\"]==qid]\n",
        "\n",
        "  text = qid_test_dataset.iloc[0][\"question1\"]\n",
        "  positive_qids = set(qid_test_dataset[\"qid2\"].values)\n",
        "\n",
        "  test_dataset_evaluation.append({\"text\": text, \"positive_qids\": positive_qids})"
      ]
    },
    {
      "cell_type": "code",
      "execution_count": 20,
      "metadata": {
        "colab": {
          "base_uri": "https://localhost:8080/"
        },
        "id": "cnwANKewlEsy",
        "outputId": "712e492e-a48c-4623-d609-703dd8e7399a"
      },
      "outputs": [
        {
          "output_type": "execute_result",
          "data": {
            "text/plain": [
              "6.712328767123288"
            ]
          },
          "metadata": {},
          "execution_count": 20
        }
      ],
      "source": [
        "np.average([len(data[\"positive_qids\"]) for data  in  test_dataset_evaluation])"
      ]
    },
    {
      "cell_type": "markdown",
      "metadata": {
        "id": "Spzpa9HgDmz_"
      },
      "source": [
        "## TF-IDF"
      ]
    },
    {
      "cell_type": "code",
      "execution_count": null,
      "metadata": {
        "colab": {
          "base_uri": "https://localhost:8080/"
        },
        "id": "C9rnwVtqDiCy",
        "outputId": "67768fc7-1266-4dd3-a959-370237f354b1"
      },
      "outputs": [
        {
          "name": "stdout",
          "output_type": "stream",
          "text": [
            "Training Time = 3.54s\n"
          ]
        }
      ],
      "source": [
        "start_time = time.time()\n",
        "tfidf = TFIDF(top_word_number=2000, stop_word_number=100, preprocess=preprocess)\n",
        "tfidf.process_corpus(train_dataset_text)\n",
        "tfidf_recommender = TFIDFRecommender(tfidf=tfidf, number_recommendation=10)\n",
        "tfidf_recommender.create_search_space(train_dataset_tfidf)\n",
        "end_time = time.time()\n",
        "print(f\"Training Time = {round(end_time - start_time, 2)}s\")"
      ]
    },
    {
      "cell_type": "code",
      "execution_count": null,
      "metadata": {
        "colab": {
          "base_uri": "https://localhost:8080/"
        },
        "id": "Ng40IZZMz319",
        "outputId": "4e0e9afd-9f9a-4ad7-9cba-5bddfa331627"
      },
      "outputs": [
        {
          "name": "stdout",
          "output_type": "stream",
          "text": [
            "Evaluation Summary:\n"
          ]
        },
        {
          "name": "stderr",
          "output_type": "stream",
          "text": [
            "/usr/local/lib/python3.7/dist-packages/ipykernel_launcher.py:35: RuntimeWarning: invalid value encountered in double_scalars\n"
          ]
        },
        {
          "name": "stdout",
          "output_type": "stream",
          "text": [
            "P@5  = 44.52%\n",
            "P@10 = 31.71%\n",
            "MAP  = 39.48%\n",
            "MRR  = 62.77%\n",
            "Testing Time = 200.69s\n"
          ]
        }
      ],
      "source": [
        "start_time = time.time()\n",
        "evaluator = Evaluator(tfidf_recommender)\n",
        "evaluator.evaluation_report(dataset=test_dataset_evaluation)\n",
        "end_time = time.time()\n",
        "print(f\"Testing Time = {round(end_time - start_time, 2)}s\")"
      ]
    },
    {
      "cell_type": "markdown",
      "metadata": {
        "id": "wSgUJ3fhDrFh"
      },
      "source": [
        "## Unigram"
      ]
    },
    {
      "cell_type": "code",
      "execution_count": null,
      "metadata": {
        "colab": {
          "base_uri": "https://localhost:8080/"
        },
        "id": "_8Wwy0Y8IMFX",
        "outputId": "1ebd2ed5-22c0-4c27-b322-5b829a8a0324"
      },
      "outputs": [
        {
          "name": "stdout",
          "output_type": "stream",
          "text": [
            "Training Time = 0.57s\n"
          ]
        }
      ],
      "source": [
        "start_time = time.time()\n",
        "unigram_recommender = UnigramRecommender(preprocess=preprocess, number_recommendation=10, mu=50)\n",
        "unigram_recommender.calculate_statistics(dataset=train_dataset_ngram)\n",
        "end_time = time.time()\n",
        "print(f\"Training Time = {round(end_time - start_time, 2)}s\")"
      ]
    },
    {
      "cell_type": "code",
      "execution_count": null,
      "metadata": {
        "colab": {
          "base_uri": "https://localhost:8080/"
        },
        "id": "lHb88w2kIMFY",
        "outputId": "dbf298b5-6b3f-49d8-9017-a5991a8e096b"
      },
      "outputs": [
        {
          "name": "stdout",
          "output_type": "stream",
          "text": [
            "Evaluation Summary:\n",
            "P@5  = 39.86%\n",
            "P@10 = 28.42%\n",
            "MAP  = 37.55%\n",
            "MRR  = 61.05%\n",
            "Testing Time = 91.1s\n"
          ]
        }
      ],
      "source": [
        "start_time = time.time()\n",
        "evaluator = Evaluator(unigram_recommender)\n",
        "evaluator.evaluation_report(dataset=test_dataset_evaluation)\n",
        "end_time = time.time()\n",
        "print(f\"Testing Time = {round(end_time - start_time, 2)}s\")"
      ]
    },
    {
      "cell_type": "markdown",
      "metadata": {
        "id": "OJernBiiDxNp"
      },
      "source": [
        "## Bigram"
      ]
    },
    {
      "cell_type": "code",
      "execution_count": null,
      "metadata": {
        "colab": {
          "base_uri": "https://localhost:8080/"
        },
        "id": "9VgB-giVfucq",
        "outputId": "167317de-19bb-4e9f-80be-0520d2c6e98c"
      },
      "outputs": [
        {
          "name": "stdout",
          "output_type": "stream",
          "text": [
            "Training Time = 0.91s\n"
          ]
        }
      ],
      "source": [
        "start_time = time.time()\n",
        "bigram_recommender = BigramRecommender(preprocess=preprocess, number_recommendation=10, mu=50, lambda_=0.001)\n",
        "bigram_recommender.calculate_statistics(dataset=train_dataset_ngram)\n",
        "end_time = time.time()\n",
        "print(f\"Training Time = {round(end_time - start_time, 2)}s\")"
      ]
    },
    {
      "cell_type": "code",
      "execution_count": null,
      "metadata": {
        "colab": {
          "base_uri": "https://localhost:8080/"
        },
        "id": "aBdxVFKV5EqT",
        "outputId": "63be87b0-d349-4901-8208-4d06e797f906"
      },
      "outputs": [
        {
          "name": "stdout",
          "output_type": "stream",
          "text": [
            "Evaluation Summary:\n",
            "P@5  = 40.27%\n",
            "P@10 = 28.15%\n",
            "MAP  = 36.72%\n",
            "MRR  = 60.75%\n",
            "Testing Time = 165.45s\n"
          ]
        }
      ],
      "source": [
        "start_time = time.time()\n",
        "evaluator = Evaluator(bigram_recommender)\n",
        "evaluator.evaluation_report(dataset=test_dataset_evaluation)\n",
        "end_time = time.time()\n",
        "print(f\"Testing Time = {round(end_time - start_time, 2)}s\")"
      ]
    },
    {
      "cell_type": "markdown",
      "source": [
        "## BERT"
      ],
      "metadata": {
        "id": "rQQkxZPI_fLu"
      }
    },
    {
      "cell_type": "code",
      "source": [
        "# Call the first time for loading model and ignore this time for training time\n",
        "bert_recommender = BertRecommender(preprocess=preprocess, number_recommendation=10)"
      ],
      "metadata": {
        "id": "4o2aLmcJuNhm",
        "outputId": "75bfb0a2-fd78-4bc6-a372-88b0d8d59898",
        "colab": {
          "base_uri": "https://localhost:8080/",
          "height": 217,
          "referenced_widgets": [
            "955a8556bc3c458cb34da31c242e9dbe",
            "98b652271fdf4519a6d9a7fbbc734547",
            "4d7270aa6283467f8492fdf8e29f4b90",
            "eeeb087d17bb4cfc99e124738b41b835",
            "d8274665b5684057acecb8183153a582",
            "21060e3fbf074793901f9a428b5982d5",
            "de13ffc0051f488cb2481c8c544cddb6",
            "9516a917987148f7a47533aba60d0548",
            "e1426dbf33a94f47905cb72d6991a6bb",
            "be1ed5460bb64057ac95b1bee8da4fa6",
            "d6973b742b2f463f85548fd305b87532",
            "acc828fa69684fd6a33709d38c87f6da",
            "cb39a1700f62420299b8251dc5cc0b2a",
            "6995c5b1feb64c21b69a97ce274d8626",
            "9ed933b7bb8e4e5fa475c9dd5e5a89e5",
            "92c5f9a805d94fd586afe2103033f7f9",
            "3a96e8e4751340f28861019f813d5ee4",
            "b08f325366474269adba65e6d5177de4",
            "1760853d2fa44393a3efc4bb9bbebe21",
            "5f1bb5525dab4f52924d503329977268",
            "140eca07768e4773a2b849c569901341",
            "d989f29c2263420d925aa567e76a64aa",
            "3784e3a603a64ea985111aab0eda376d",
            "35f560d710ef466aa8816ed96a64e452",
            "cc6858a2edd94fbc9b26c1d1c50b75cb",
            "0ef062ba9f1c4e428cd0eeb905a8292e",
            "81f43175c95c4b5da4bdefc177377100",
            "3b69974f2c6145edb8628e24dc4a54ed",
            "c64d56492e3443f5b3d53dc1c8287dc2",
            "35c73ead7aae45ad99a9b87b1d1deab3",
            "622937c07ef940ac9386f49a8a45ab7e",
            "42e3fe6c070c44f7a4aa354890fccee9",
            "61bea4d9f50541ce84a5c9ef8ac533f3",
            "f6c302fb35904920bd4771c92ca8b5ba",
            "dadf853eec5b4763b716314f4459c257",
            "76c7a8d2822549abbaaeafc66f8d07c0",
            "0454d661d1284111be8aa3c27a8e55bf",
            "13a1589f9b054f3d83031bbe192449f1",
            "e0c2dced5d424a18917724078b2f9b9c",
            "9d0992730aed4c18ae1fc74b7a4aa161",
            "18183da904a0425484e4aa75f52c5053",
            "0cb9308ace7b4b128252eb7fcde0864e",
            "626b2ef744824fff80bfc5b4f5eff59e",
            "b58cc5fcba7e4c99a1d6efcc3c3e7c94"
          ]
        }
      },
      "execution_count": null,
      "outputs": [
        {
          "output_type": "display_data",
          "data": {
            "text/plain": [
              "Downloading:   0%|          | 0.00/232k [00:00<?, ?B/s]"
            ],
            "application/vnd.jupyter.widget-view+json": {
              "version_major": 2,
              "version_minor": 0,
              "model_id": "955a8556bc3c458cb34da31c242e9dbe"
            }
          },
          "metadata": {}
        },
        {
          "output_type": "display_data",
          "data": {
            "text/plain": [
              "Downloading:   0%|          | 0.00/28.0 [00:00<?, ?B/s]"
            ],
            "application/vnd.jupyter.widget-view+json": {
              "version_major": 2,
              "version_minor": 0,
              "model_id": "acc828fa69684fd6a33709d38c87f6da"
            }
          },
          "metadata": {}
        },
        {
          "output_type": "display_data",
          "data": {
            "text/plain": [
              "Downloading:   0%|          | 0.00/570 [00:00<?, ?B/s]"
            ],
            "application/vnd.jupyter.widget-view+json": {
              "version_major": 2,
              "version_minor": 0,
              "model_id": "3784e3a603a64ea985111aab0eda376d"
            }
          },
          "metadata": {}
        },
        {
          "output_type": "display_data",
          "data": {
            "text/plain": [
              "Downloading:   0%|          | 0.00/440M [00:00<?, ?B/s]"
            ],
            "application/vnd.jupyter.widget-view+json": {
              "version_major": 2,
              "version_minor": 0,
              "model_id": "f6c302fb35904920bd4771c92ca8b5ba"
            }
          },
          "metadata": {}
        },
        {
          "output_type": "stream",
          "name": "stderr",
          "text": [
            "Some weights of the model checkpoint at bert-base-uncased were not used when initializing BertModel: ['cls.seq_relationship.weight', 'cls.predictions.bias', 'cls.predictions.decoder.weight', 'cls.predictions.transform.LayerNorm.weight', 'cls.seq_relationship.bias', 'cls.predictions.transform.dense.weight', 'cls.predictions.transform.LayerNorm.bias', 'cls.predictions.transform.dense.bias']\n",
            "- This IS expected if you are initializing BertModel from the checkpoint of a model trained on another task or with another architecture (e.g. initializing a BertForSequenceClassification model from a BertForPreTraining model).\n",
            "- This IS NOT expected if you are initializing BertModel from the checkpoint of a model that you expect to be exactly identical (initializing a BertForSequenceClassification model from a BertForSequenceClassification model).\n"
          ]
        }
      ]
    },
    {
      "cell_type": "code",
      "source": [
        "start_time = time.time()\n",
        "bert_recommender = BertRecommender(preprocess=preprocess, number_recommendation=10)\n",
        "bert_recommender.calculate_train_embedding(train_dataset_bert)\n",
        "end_time = time.time()\n",
        "print(f\"Training Time = {round(end_time - start_time, 2)}s\")"
      ],
      "metadata": {
        "colab": {
          "base_uri": "https://localhost:8080/"
        },
        "outputId": "106c21a8-b25f-4f25-c5a0-0bcf404f77ac",
        "id": "LUweBOs59Ubf"
      },
      "execution_count": null,
      "outputs": [
        {
          "output_type": "stream",
          "name": "stderr",
          "text": [
            "Some weights of the model checkpoint at bert-base-uncased were not used when initializing BertModel: ['cls.seq_relationship.weight', 'cls.predictions.bias', 'cls.predictions.decoder.weight', 'cls.predictions.transform.LayerNorm.weight', 'cls.seq_relationship.bias', 'cls.predictions.transform.dense.weight', 'cls.predictions.transform.LayerNorm.bias', 'cls.predictions.transform.dense.bias']\n",
            "- This IS expected if you are initializing BertModel from the checkpoint of a model trained on another task or with another architecture (e.g. initializing a BertForSequenceClassification model from a BertForPreTraining model).\n",
            "- This IS NOT expected if you are initializing BertModel from the checkpoint of a model that you expect to be exactly identical (initializing a BertForSequenceClassification model from a BertForSequenceClassification model).\n"
          ]
        },
        {
          "output_type": "stream",
          "name": "stdout",
          "text": [
            "0% 6% 12% 18% 24% 30% 36% 42% 48% 54% 60% 66% 72% 78% 84% 90% 96% Training Time = 2405.22s\n"
          ]
        }
      ]
    },
    {
      "cell_type": "code",
      "source": [
        "start_time = time.time()\n",
        "evaluator = Evaluator(bert_recommender)\n",
        "evaluator.evaluation_report(dataset=test_dataset_evaluation)\n",
        "end_time = time.time()\n",
        "print(f\"Testing Time = {round(end_time - start_time, 2)}s\")"
      ],
      "metadata": {
        "colab": {
          "base_uri": "https://localhost:8080/"
        },
        "outputId": "1c80766e-b60b-44ee-81bd-f753b5a84a27",
        "id": "BKx2eAjJ9Ubf"
      },
      "execution_count": null,
      "outputs": [
        {
          "output_type": "stream",
          "name": "stdout",
          "text": [
            "Evaluation Summary:\n",
            "P@5  = 45.75%\n",
            "P@10 = 31.78%\n",
            "MAP  = 41.4%\n",
            "MRR  = 76.6%\n",
            "Testing Time = 385.17s\n"
          ]
        }
      ]
    },
    {
      "cell_type": "markdown",
      "source": [
        "## Siamese"
      ],
      "metadata": {
        "id": "KUd1dYuU_iHF"
      }
    },
    {
      "cell_type": "code",
      "source": [
        "start_time = time.time()\n",
        "bert_recommender = BertRecommender(preprocess=preprocess, number_recommendation=10)\n",
        "bert_recommender.calculate_train_embedding(train_dataset_bert)\n",
        "end_time = time.time()\n",
        "print(f\"Training Time = {round(end_time - start_time, 2)}s\")"
      ],
      "metadata": {
        "id": "_lzBqd6Nl03s"
      },
      "execution_count": null,
      "outputs": []
    },
    {
      "cell_type": "code",
      "source": [
        "start_time = time.time()\n",
        "evaluator = Evaluator(siamese_recommender)\n",
        "evaluator.evaluation_report(dataset=test_dataset_evaluation)\n",
        "end_time = time.time()\n",
        "print(f\"Testing Time = {round(end_time - start_time, 2)}s\")"
      ],
      "metadata": {
        "colab": {
          "base_uri": "https://localhost:8080/"
        },
        "id": "IheDA65u5y6q",
        "outputId": "32e93e9c-3b62-4bb4-b6d1-c5d1e7f31dd3"
      },
      "execution_count": 66,
      "outputs": [
        {
          "output_type": "stream",
          "name": "stdout",
          "text": [
            "Evaluation Summary:\n",
            "P@5  = 20.96%\n",
            "P@10 = 14.32%\n",
            "MAP  = 16.77%\n",
            "MRR  = 46.53%\n",
            "Testing Time = 283.22s\n"
          ]
        }
      ]
    },
    {
      "cell_type": "code",
      "source": [
        "start_time = time.time()\n",
        "evaluator = Evaluator(siamese_recommender)\n",
        "evaluator.evaluation_report(dataset=test_dataset_evaluation)\n",
        "end_time = time.time()\n",
        "print(f\"Testing Time = {round(end_time - start_time, 2)}s\")"
      ],
      "metadata": {
        "colab": {
          "base_uri": "https://localhost:8080/"
        },
        "id": "1c-r7pWb_jZC",
        "outputId": "15fb66db-7af3-45ea-a54f-ffee2dce6d99"
      },
      "execution_count": null,
      "outputs": [
        {
          "output_type": "stream",
          "name": "stdout",
          "text": [
            "Evaluation Summary:\n",
            "P@5  = 22.47%\n",
            "P@10 = 15.75%\n",
            "MAP  = 16.18%\n",
            "MRR  = 46.18%\n",
            "Testing Time = 304.87s\n"
          ]
        }
      ]
    }
  ],
  "metadata": {
    "colab": {
      "collapsed_sections": [
        "Spzpa9HgDmz_",
        "wSgUJ3fhDrFh"
      ],
      "provenance": [],
      "toc_visible": true,
      "include_colab_link": true
    },
    "kernelspec": {
      "display_name": "Python 3",
      "name": "python3"
    },
    "language_info": {
      "name": "python"
    },
    "accelerator": "GPU",
    "gpuClass": "standard"
  },
  "nbformat": 4,
  "nbformat_minor": 0
}